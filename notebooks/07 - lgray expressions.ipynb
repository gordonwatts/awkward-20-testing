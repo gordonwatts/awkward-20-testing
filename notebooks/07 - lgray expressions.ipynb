{
 "cells": [
  {
   "cell_type": "markdown",
   "metadata": {},
   "source": [
    "From a slack message by L Grey in the `servicex-cms` chat."
   ]
  },
  {
   "cell_type": "code",
   "execution_count": 1,
   "metadata": {},
   "outputs": [
    {
     "name": "stderr",
     "output_type": "stream",
     "text": [
      "c:\\Users\\gordo\\Code\\iris-hep\\awkward-20-testing\\.venv\\Lib\\site-packages\\coffea\\nanoevents\\methods\\candidate.py:11: FutureWarning: In version 2024.7.0 (target date: 2024-06-30 11:59:59-05:00), this will be an error.\n",
      "To raise these warnings as errors (and get stack traces to find out where they're called), run\n",
      "    import warnings\n",
      "    warnings.filterwarnings(\"error\", module=\"coffea.*\")\n",
      "after the first `import coffea` or use `@pytest.mark.filterwarnings(\"error:::coffea.*\")` in pytest.\n",
      "Issue: coffea.nanoevents.methods.vector will be removed and replaced with scikit-hep vector. Nanoevents schemas internal to coffea will be migrated. Otherwise please consider using that package!.\n",
      "  from coffea.nanoevents.methods import vector\n"
     ]
    },
    {
     "name": "stdout",
     "output_type": "stream",
     "text": [
      "{'getitem-3e3d3493a7a807d06dd9ad3d451f1403': (<dask_awkward.lib.core.ArgsKwargsPackedFunction object at 0x000001F4FEFD7D90>, '__dask_blockwise__0', '__dask_blockwise__1')}\n",
      "[('getitem-3e3d3493a7a807d06dd9ad3d451f1403', 0)]\n",
      "getitem-3e3d3493a7a807d06dd9ad3d451f1403 <built-in function getitem>\n",
      "\n",
      "{'any-d2eb1bfffdf8a8cdbcd69731a5bdfc19': (<dask_awkward.lib.core.ArgsKwargsPackedFunction object at 0x000001F4A21CE290>, '__dask_blockwise__0')}\n",
      "[('any-d2eb1bfffdf8a8cdbcd69731a5bdfc19', 0)]\n",
      "any-d2eb1bfffdf8a8cdbcd69731a5bdfc19 <function any at 0x000001F4F4B53EC0>\n",
      "\n",
      "{'greater-d13a053b2d57dea2ebe0c3fb0dcf925e': (<dask_awkward.lib.core.ArgsKwargsPackedFunction object at 0x000001F4FF09AA50>, '__dask_blockwise__0', '__dask_blockwise__1')}\n",
      "[('greater-d13a053b2d57dea2ebe0c3fb0dcf925e', 0)]\n",
      "greater-d13a053b2d57dea2ebe0c3fb0dcf925e <ufunc 'greater'>\n",
      "\n",
      "{'pt-c9313c680c4c7960491a42eefa101b22': (<dask_awkward.lib.core.ArgsKwargsPackedFunction object at 0x000001F4FFF2F290>, '__dask_blockwise__0', '__dask_blockwise__1')}\n",
      "[('pt-c9313c680c4c7960491a42eefa101b22', 0)]\n",
      "pt-c9313c680c4c7960491a42eefa101b22 <built-in function getitem>\n",
      "\n",
      "{'Muon-919415959efb8a2db9d695a6cadea728': (<dask_awkward.lib.core.ArgsKwargsPackedFunction object at 0x000001F4FFDD96D0>, '__dask_blockwise__0', '__dask_blockwise__1')}\n",
      "[('Muon-919415959efb8a2db9d695a6cadea728', 0)]\n",
      "Muon-919415959efb8a2db9d695a6cadea728 <built-in function getitem>\n",
      "\n",
      "from-uproot-eab7183d8a22c4762e983a0150efa740 <uproot._dask._UprootOpenAndRead object at 0x000001F4FFEC8190>\n"
     ]
    },
    {
     "name": "stderr",
     "output_type": "stream",
     "text": [
      "c:\\Users\\gordo\\Code\\iris-hep\\awkward-20-testing\\.venv\\Lib\\site-packages\\coffea\\nanoevents\\schemas\\nanoaod.py:243: RuntimeWarning: Missing cross-reference index for FatJet_genJetAK8Idx => GenJetAK8\n",
      "  warnings.warn(\n"
     ]
    }
   ],
   "source": [
    "from pathlib import Path\n",
    "from coffea.nanoevents import NanoEventsFactory, NanoAODSchema\n",
    "from dask.distributed import Client\n",
    "import dask\n",
    "import dask_awkward\n",
    "import awkward as ak\n",
    "import hist.dask as hda\n",
    "\n",
    "def extract_pushdown(coll):\n",
    "    hlg_sorted = coll.dask._toposort_layers()\n",
    "    pushdown_deps = []\n",
    "    for key in hlg_sorted:\n",
    "        annotations = coll.dask.layers[key].annotations\n",
    "        if annotations is not None and \"pushdown\" in annotations:\n",
    "            #print(key, coll.dask.layers[key].annotations)\n",
    "            pushdown_deps = [key] + pushdown_deps\n",
    "    for dep in pushdown_deps:\n",
    "        layer = coll.dask.layers[dep]\n",
    "        fcn = list(layer.dsk.values())[0][0]\n",
    "        if isinstance(layer, dask_awkward.layers.AwkwardBlockwiseLayer) and not isinstance(layer, dask_awkward.layers.AwkwardInputLayer):\n",
    "            print(layer.dsk)\n",
    "            # print(dir(layer))\n",
    "            print(list(layer.keys()))\n",
    "            print(dep, fcn.fn)\n",
    "            # print(dir(fcn))\n",
    "            # print(fcn.arg_repackers[0])\n",
    "            print(\"\")\n",
    "        else:\n",
    "            print(dep, fcn)\n",
    "\n",
    "if __name__ == \"__main__\":\n",
    "    #client = Client()\n",
    "\n",
    "\n",
    "    dask.config.set({\"awkward.optimization.enabled\": True, \"awkward.raise-failed-meta\": True, \"awkward.optimization.on-fail\": \"raise\"})\n",
    "\n",
    "    with dask.annotate(pushdown=\"servicex\"):\n",
    "        events = NanoEventsFactory.from_root(\n",
    "            {\n",
    "                \"nano_dy.root\": \"Events\",\n",
    "                \"nano_dy.root\": \"Events\",\n",
    "                \"nano_dy.root\": \"Events\",\n",
    "                \"nano_dy.root\": \"Events\",\n",
    "            },\n",
    "            metadata={\"dataset\": \"nano_dy\"},\n",
    "            schemaclass=NanoAODSchema,\n",
    "        ).events()\n",
    "\n",
    "        mask = events.Muon.pt > 30\n",
    "        events = events[ak.any(mask, axis=1)]\n",
    "        \n",
    "    myhist = hda.Hist.new.Regular(50, 0, 2.5, name=\"abseta\").Double()\n",
    "\n",
    "    myhist.fill(abseta=abs(events.Muon.eta))\n",
    "\n",
    "    extract_pushdown(myhist)"
   ]
  },
  {
   "cell_type": "code",
   "execution_count": null,
   "metadata": {},
   "outputs": [],
   "source": []
  }
 ],
 "metadata": {
  "kernelspec": {
   "display_name": ".venv",
   "language": "python",
   "name": "python3"
  },
  "language_info": {
   "codemirror_mode": {
    "name": "ipython",
    "version": 3
   },
   "file_extension": ".py",
   "mimetype": "text/x-python",
   "name": "python",
   "nbconvert_exporter": "python",
   "pygments_lexer": "ipython3",
   "version": "3.11.6"
  },
  "orig_nbformat": 4
 },
 "nbformat": 4,
 "nbformat_minor": 2
}
