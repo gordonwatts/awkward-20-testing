{
 "cells": [
  {
   "cell_type": "markdown",
   "metadata": {},
   "source": [
    "From a slack message by L Grey in the `servicex-cms` chat."
   ]
  },
  {
   "cell_type": "code",
   "execution_count": 15,
   "metadata": {},
   "outputs": [
    {
     "name": "stdout",
     "output_type": "stream",
     "text": [
      "{'getitem-745471f3280ed33060f37331a1f449d0': (<dask_awkward.lib.core.ArgsKwargsPackedFunction object at 0x0000026DE1A75910>, '__dask_blockwise__0', '__dask_blockwise__1')}\n",
      "[('getitem-745471f3280ed33060f37331a1f449d0', 0), ('getitem-745471f3280ed33060f37331a1f449d0', 1), ('getitem-745471f3280ed33060f37331a1f449d0', 2), ('getitem-745471f3280ed33060f37331a1f449d0', 3)]\n",
      "getitem-745471f3280ed33060f37331a1f449d0 <built-in function getitem>\n",
      "\n",
      "{'any-277ee8e8ef8a2536a86ee3bce40985b9': (<dask_awkward.lib.core.ArgsKwargsPackedFunction object at 0x0000026DE398E9D0>, '__dask_blockwise__0')}\n",
      "[('any-277ee8e8ef8a2536a86ee3bce40985b9', 0), ('any-277ee8e8ef8a2536a86ee3bce40985b9', 1), ('any-277ee8e8ef8a2536a86ee3bce40985b9', 2), ('any-277ee8e8ef8a2536a86ee3bce40985b9', 3)]\n",
      "any-277ee8e8ef8a2536a86ee3bce40985b9 <function any at 0x0000026DB2A03F60>\n",
      "\n",
      "{'greater-9c566e91f11b5fb3417ce3b0b2a0ee86': (<dask_awkward.lib.core.ArgsKwargsPackedFunction object at 0x0000026DE2455890>, '__dask_blockwise__0', '__dask_blockwise__1')}\n",
      "[('greater-9c566e91f11b5fb3417ce3b0b2a0ee86', 0), ('greater-9c566e91f11b5fb3417ce3b0b2a0ee86', 1), ('greater-9c566e91f11b5fb3417ce3b0b2a0ee86', 2), ('greater-9c566e91f11b5fb3417ce3b0b2a0ee86', 3)]\n",
      "greater-9c566e91f11b5fb3417ce3b0b2a0ee86 <ufunc 'greater'>\n",
      "\n",
      "{'pt-da2755b869b89cf94ed031512febb262': (<dask_awkward.lib.core.ArgsKwargsPackedFunction object at 0x0000026DE1648990>, '__dask_blockwise__0', '__dask_blockwise__1')}\n",
      "[('pt-da2755b869b89cf94ed031512febb262', 0), ('pt-da2755b869b89cf94ed031512febb262', 1), ('pt-da2755b869b89cf94ed031512febb262', 2), ('pt-da2755b869b89cf94ed031512febb262', 3)]\n",
      "pt-da2755b869b89cf94ed031512febb262 <built-in function getitem>\n",
      "\n",
      "{'Muon-c4ebdc870fdcd6adf8f164cdaddc58f3': (<dask_awkward.lib.core.ArgsKwargsPackedFunction object at 0x0000026DE1A85950>, '__dask_blockwise__0', '__dask_blockwise__1')}\n",
      "[('Muon-c4ebdc870fdcd6adf8f164cdaddc58f3', 0), ('Muon-c4ebdc870fdcd6adf8f164cdaddc58f3', 1), ('Muon-c4ebdc870fdcd6adf8f164cdaddc58f3', 2), ('Muon-c4ebdc870fdcd6adf8f164cdaddc58f3', 3)]\n",
      "Muon-c4ebdc870fdcd6adf8f164cdaddc58f3 <built-in function getitem>\n",
      "\n",
      "from-uproot-5698993350277a859f7a41de62a506f4 <uproot._dask._UprootOpenAndRead object at 0x0000026DE19EED10>\n"
     ]
    },
    {
     "name": "stderr",
     "output_type": "stream",
     "text": [
      "c:\\Users\\gordo\\Code\\iris-hep\\awkward-20-testing\\.venv\\Lib\\site-packages\\coffea\\nanoevents\\schemas\\nanoaod.py:243: RuntimeWarning: Missing cross-reference index for FatJet_genJetAK8Idx => GenJetAK8\n",
      "  warnings.warn(\n"
     ]
    }
   ],
   "source": [
    "from pathlib import Path\n",
    "from coffea.nanoevents import NanoEventsFactory, NanoAODSchema\n",
    "from dask.distributed import Client\n",
    "import dask\n",
    "import dask_awkward\n",
    "import awkward as ak\n",
    "import hist.dask as hda\n",
    "\n",
    "def extract_pushdown(coll):\n",
    "    hlg_sorted = coll.dask._toposort_layers()\n",
    "    pushdown_deps = []\n",
    "    for key in hlg_sorted:\n",
    "        annotations = coll.dask.layers[key].annotations\n",
    "        if annotations is not None and \"pushdown\" in annotations:\n",
    "            #print(key, coll.dask.layers[key].annotations)\n",
    "            pushdown_deps = [key] + pushdown_deps\n",
    "    for dep in pushdown_deps:\n",
    "        layer = coll.dask.layers[dep]\n",
    "        fcn = list(layer.dsk.values())[0][0]\n",
    "        if isinstance(layer, dask_awkward.layers.AwkwardBlockwiseLayer) and not isinstance(layer, dask_awkward.layers.AwkwardInputLayer):\n",
    "            print(layer.dsk)\n",
    "            # print(dir(layer))\n",
    "            print(list(layer.keys()))\n",
    "            print(dep, fcn.fn)\n",
    "            # print(dir(fcn))\n",
    "            # print(fcn.arg_repackers[0])\n",
    "            print(\"\")\n",
    "        else:\n",
    "            print(dep, fcn)\n",
    "\n",
    "if __name__ == \"__main__\":\n",
    "    #client = Client()\n",
    "\n",
    "\n",
    "    dask.config.set({\"awkward.optimization.enabled\": True, \"awkward.raise-failed-meta\": True, \"awkward.optimization.on-fail\": \"raise\"})\n",
    "\n",
    "    with dask.annotate(pushdown=\"servicex\"):\n",
    "        events = NanoEventsFactory.from_root(\n",
    "            {\n",
    "                \"nano_dy.root\": \"Events\",\n",
    "                \"nano_dy.root\": \"Events\",\n",
    "                \"nano_dy.root\": \"Events\",\n",
    "                \"nano_dy.root\": \"Events\",\n",
    "            },\n",
    "            metadata={\"dataset\": \"nano_dy\"},\n",
    "            schemaclass=NanoAODSchema,\n",
    "        ).events()\n",
    "\n",
    "        mask = events.Muon.pt > 30\n",
    "        events = events[ak.any(mask, axis=1)]\n",
    "        \n",
    "    myhist = hda.Hist.new.Regular(50, 0, 2.5, name=\"abseta\").Double()\n",
    "\n",
    "    myhist.fill(abseta=abs(events.Muon.eta))\n",
    "\n",
    "    extract_pushdown(myhist)"
   ]
  },
  {
   "cell_type": "code",
   "execution_count": null,
   "metadata": {},
   "outputs": [],
   "source": []
  }
 ],
 "metadata": {
  "kernelspec": {
   "display_name": ".venv",
   "language": "python",
   "name": "python3"
  },
  "language_info": {
   "codemirror_mode": {
    "name": "ipython",
    "version": 3
   },
   "file_extension": ".py",
   "mimetype": "text/x-python",
   "name": "python",
   "nbconvert_exporter": "python",
   "pygments_lexer": "ipython3",
   "version": "3.11.6"
  },
  "orig_nbformat": 4
 },
 "nbformat": 4,
 "nbformat_minor": 2
}
