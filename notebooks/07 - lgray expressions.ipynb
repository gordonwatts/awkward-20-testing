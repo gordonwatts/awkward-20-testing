{
 "cells": [
  {
   "cell_type": "markdown",
   "metadata": {},
   "source": [
    "From a slack message by L Grey in the `servicex-cms` chat."
   ]
  },
  {
   "cell_type": "code",
   "execution_count": null,
   "metadata": {},
   "outputs": [],
   "source": [
    "from coffea.nanoevents import NanoEventsFactory, NanoAODSchema\n",
    "from distributed import Client\n",
    "import dask\n",
    "import dask_awkward\n",
    "import awkward as ak\n",
    "import hist.dask as hda\n",
    "\n",
    "def extract_pushdown(coll):\n",
    "    hlg_sorted = coll.dask._toposort_layers()\n",
    "    pushdown_deps = []\n",
    "    for key in hlg_sorted:\n",
    "        annotations = coll.dask.layers[key].annotations\n",
    "        if annotations is not None and \"pushdown\" in annotations:\n",
    "            #print(key, coll.dask.layers[key].annotations)\n",
    "            pushdown_deps = [key] + pushdown_deps\n",
    "    for dep in pushdown_deps:\n",
    "        layer = coll.dask.layers[dep]\n",
    "        fcn = list(layer.dsk.values())[0][0]\n",
    "        if isinstance(layer, dask_awkward.layers.AwkwardBlockwiseLayer) and not isinstance(layer, dask_awkward.layers.AwkwardInputLayer):\n",
    "            print(dir(layer))\n",
    "            print(layer.dsk)\n",
    "            print(list(layer.keys()))\n",
    "            print(dep, fcn.fn)\n",
    "            print(dir(fcn))\n",
    "            print(fcn.arg_repackers[0])\n",
    "        else:\n",
    "            print(dep, fcn)\n",
    "\n",
    "if __name__ == \"__main__\":\n",
    "    #client = Client()\n",
    "\n",
    "\n",
    "    dask.config.set({\"awkward.optimization.enabled\": True, \"awkward.raise-failed-meta\": True, \"awkward.optimization.on-fail\": \"raise\"})\n",
    "\n",
    "    with dask.annotate(pushdown=\"servicex\"):\n",
    "        events = NanoEventsFactory.from_root(\n",
    "            {\"tests/samples/nano_dy.root\": \"Events\"},\n",
    "            metadata={\"dataset\": \"nano_dy\"},\n",
    "            schemaclass=NanoAODSchema,\n",
    "            permit_dask=True,\n",
    "        ).events()\n",
    "\n",
    "        mask = events.Muon.pt > 30\n",
    "        events = events[ak.any(mask, axis=1)]\n",
    "        \n",
    "    myhist = hda.Hist.new.Regular(50, 0, 2.5, name=\"abseta\").Double()\n",
    "\n",
    "    myhist.fill(abseta=abs(events.Muon.eta))\n",
    "\n",
    "    extract_pushdown(myhist)"
   ]
  }
 ],
 "metadata": {
  "kernelspec": {
   "display_name": ".venv",
   "language": "python",
   "name": "python3"
  },
  "language_info": {
   "name": "python",
   "version": "3.10.7"
  },
  "orig_nbformat": 4
 },
 "nbformat": 4,
 "nbformat_minor": 2
}
