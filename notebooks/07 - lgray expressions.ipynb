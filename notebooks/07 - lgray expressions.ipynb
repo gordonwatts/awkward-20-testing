{
 "cells": [
  {
   "cell_type": "markdown",
   "metadata": {},
   "source": [
    "From a slack message by L Grey in the `servicex-cms` chat."
   ]
  },
  {
   "cell_type": "code",
   "execution_count": 12,
   "metadata": {},
   "outputs": [
    {
     "name": "stdout",
     "output_type": "stream",
     "text": [
      "{'getitem-3c0684871d892683f9c6b23773296e63': (<dask_awkward.lib.core.ArgsKwargsPackedFunction object at 0x0000026DE34308D0>, '__dask_blockwise__0', '__dask_blockwise__1')}\n",
      "[('getitem-3c0684871d892683f9c6b23773296e63', 0)]\n",
      "getitem-3c0684871d892683f9c6b23773296e63 <built-in function getitem>\n",
      "\n",
      "{'any-69bfecac024bf65a681cb988c441f351': (<dask_awkward.lib.core.ArgsKwargsPackedFunction object at 0x0000026DE3B0D910>, '__dask_blockwise__0')}\n",
      "[('any-69bfecac024bf65a681cb988c441f351', 0)]\n",
      "any-69bfecac024bf65a681cb988c441f351 <function any at 0x0000026DB2A03F60>\n",
      "\n",
      "{'greater-12d3cff3091a1bf2a22e55f34f6a120e': (<dask_awkward.lib.core.ArgsKwargsPackedFunction object at 0x0000026DE3A166D0>, '__dask_blockwise__0', '__dask_blockwise__1')}\n",
      "[('greater-12d3cff3091a1bf2a22e55f34f6a120e', 0)]\n",
      "greater-12d3cff3091a1bf2a22e55f34f6a120e <ufunc 'greater'>\n",
      "\n",
      "{'pt-6f6350d8daa3ad840e45076c81c732a6': (<dask_awkward.lib.core.ArgsKwargsPackedFunction object at 0x0000026DE1635A10>, '__dask_blockwise__0', '__dask_blockwise__1')}\n",
      "[('pt-6f6350d8daa3ad840e45076c81c732a6', 0)]\n",
      "pt-6f6350d8daa3ad840e45076c81c732a6 <built-in function getitem>\n",
      "\n",
      "{'Muon-5b08dd4477fd7da5e0322b9e4dac64be': (<dask_awkward.lib.core.ArgsKwargsPackedFunction object at 0x0000026DE17B8BD0>, '__dask_blockwise__0', '__dask_blockwise__1')}\n",
      "[('Muon-5b08dd4477fd7da5e0322b9e4dac64be', 0)]\n",
      "Muon-5b08dd4477fd7da5e0322b9e4dac64be <built-in function getitem>\n",
      "\n",
      "from-uproot-a954505b495a54b1d72c546c715bad58 <uproot._dask._UprootOpenAndRead object at 0x0000026DE39AF050>\n"
     ]
    }
   ],
   "source": [
    "from coffea.nanoevents import NanoEventsFactory, NanoAODSchema\n",
    "from dask.distributed import Client\n",
    "import dask\n",
    "import dask_awkward\n",
    "import awkward as ak\n",
    "import hist.dask as hda\n",
    "\n",
    "def extract_pushdown(coll):\n",
    "    hlg_sorted = coll.dask._toposort_layers()\n",
    "    pushdown_deps = []\n",
    "    for key in hlg_sorted:\n",
    "        annotations = coll.dask.layers[key].annotations\n",
    "        if annotations is not None and \"pushdown\" in annotations:\n",
    "            #print(key, coll.dask.layers[key].annotations)\n",
    "            pushdown_deps = [key] + pushdown_deps\n",
    "    for dep in pushdown_deps:\n",
    "        layer = coll.dask.layers[dep]\n",
    "        fcn = list(layer.dsk.values())[0][0]\n",
    "        if isinstance(layer, dask_awkward.layers.AwkwardBlockwiseLayer) and not isinstance(layer, dask_awkward.layers.AwkwardInputLayer):\n",
    "            print(layer.dsk)\n",
    "            # print(dir(layer))\n",
    "            print(list(layer.keys()))\n",
    "            print(dep, fcn.fn)\n",
    "            # print(dir(fcn))\n",
    "            # print(fcn.arg_repackers[0])\n",
    "            print(\"\")\n",
    "        else:\n",
    "            print(dep, fcn)\n",
    "\n",
    "if __name__ == \"__main__\":\n",
    "    #client = Client()\n",
    "\n",
    "\n",
    "    dask.config.set({\"awkward.optimization.enabled\": True, \"awkward.raise-failed-meta\": True, \"awkward.optimization.on-fail\": \"raise\"})\n",
    "\n",
    "    with dask.annotate(pushdown=\"servicex\"):\n",
    "        events = NanoEventsFactory.from_root(\n",
    "            {\n",
    "                \"nano_dy.root\": \"Events\",\n",
    "                \"nano_dy.root\": \"Events\",\n",
    "                \"nano_dy.root\": \"Events\",\n",
    "                \"nano_dy.root\": \"Events\",\n",
    "            },\n",
    "            metadata={\"dataset\": \"nano_dy\"},\n",
    "            schemaclass=NanoAODSchema,\n",
    "        ).events()\n",
    "\n",
    "        mask = events.Muon.pt > 30\n",
    "        events = events[ak.any(mask, axis=1)]\n",
    "        \n",
    "    myhist = hda.Hist.new.Regular(50, 0, 2.5, name=\"abseta\").Double()\n",
    "\n",
    "    myhist.fill(abseta=abs(events.Muon.eta))\n",
    "\n",
    "    extract_pushdown(myhist)"
   ]
  },
  {
   "cell_type": "code",
   "execution_count": null,
   "metadata": {},
   "outputs": [],
   "source": []
  }
 ],
 "metadata": {
  "kernelspec": {
   "display_name": ".venv",
   "language": "python",
   "name": "python3"
  },
  "language_info": {
   "codemirror_mode": {
    "name": "ipython",
    "version": 3
   },
   "file_extension": ".py",
   "mimetype": "text/x-python",
   "name": "python",
   "nbconvert_exporter": "python",
   "pygments_lexer": "ipython3",
   "version": "3.11.6"
  },
  "orig_nbformat": 4
 },
 "nbformat": 4,
 "nbformat_minor": 2
}
