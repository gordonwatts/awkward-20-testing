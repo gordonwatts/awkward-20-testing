{
 "cells": [
  {
   "cell_type": "markdown",
   "metadata": {},
   "source": [
    "From a slack message by L Grey in the `servicex-cms` chat."
   ]
  },
  {
   "cell_type": "code",
   "execution_count": 2,
   "metadata": {},
   "outputs": [
    {
     "name": "stdout",
     "output_type": "stream",
     "text": [
      "{'getitem-ec5f6cafeebecbdacbd91ba47ef5a331': (<dask_awkward.lib.core.ArgsKwargsPackedFunction object at 0x000001F4A210B350>, '__dask_blockwise__0', '__dask_blockwise__1')}\n",
      "['__abstractmethods__', '__annotations__', '__class__', '__class_getitem__', '__contains__', '__copy__', '__delattr__', '__dict__', '__dir__', '__doc__', '__eq__', '__format__', '__ge__', '__getattribute__', '__getitem__', '__getstate__', '__gt__', '__hash__', '__init__', '__init_subclass__', '__iter__', '__le__', '__len__', '__lt__', '__module__', '__ne__', '__new__', '__orig_bases__', '__reduce__', '__reduce_ex__', '__repr__', '__reversed__', '__setattr__', '__sizeof__', '__slots__', '__str__', '__subclasshook__', '__weakref__', '_abc_impl', '_cull', '_cull_dependencies', '_dict', '_repr_html_', 'annotations', 'clone', 'collection_annotations', 'concatenate', 'cull', 'dims', 'dsk', 'from_blockwise', 'get', 'get_dependencies', 'get_output_keys', 'has_been_unpickled', 'indices', 'io_deps', 'is_materialized', 'items', 'keys', 'layer_info_dict', 'mock', 'new_axes', 'numblocks', 'output', 'output_blocks', 'output_indices', 'values']\n",
      "[('getitem-ec5f6cafeebecbdacbd91ba47ef5a331', 0)]\n",
      "getitem-ec5f6cafeebecbdacbd91ba47ef5a331 <built-in function getitem>\n",
      "['__call__', '__class__', '__delattr__', '__dict__', '__dir__', '__doc__', '__eq__', '__format__', '__ge__', '__getattribute__', '__getstate__', '__gt__', '__hash__', '__init__', '__init_subclass__', '__le__', '__lt__', '__module__', '__ne__', '__new__', '__reduce__', '__reduce_ex__', '__repr__', '__setattr__', '__sizeof__', '__str__', '__subclasshook__', '__weakref__', 'arg_lens_for_repackers', 'arg_repackers', 'fn', 'kwarg_repacker']\n",
      "<function unpack_collections.<locals>.repack at 0x000001F4FF1A6FC0>\n",
      "\n",
      "{'any-1c4f36345998dca8a61e806faadec991': (<dask_awkward.lib.core.ArgsKwargsPackedFunction object at 0x000001F4FF3DCF90>, '__dask_blockwise__0')}\n",
      "['__abstractmethods__', '__annotations__', '__class__', '__class_getitem__', '__contains__', '__copy__', '__delattr__', '__dict__', '__dir__', '__doc__', '__eq__', '__format__', '__ge__', '__getattribute__', '__getitem__', '__getstate__', '__gt__', '__hash__', '__init__', '__init_subclass__', '__iter__', '__le__', '__len__', '__lt__', '__module__', '__ne__', '__new__', '__orig_bases__', '__reduce__', '__reduce_ex__', '__repr__', '__reversed__', '__setattr__', '__sizeof__', '__slots__', '__str__', '__subclasshook__', '__weakref__', '_abc_impl', '_cull', '_cull_dependencies', '_dict', '_repr_html_', 'annotations', 'clone', 'collection_annotations', 'concatenate', 'cull', 'dims', 'dsk', 'from_blockwise', 'get', 'get_dependencies', 'get_output_keys', 'has_been_unpickled', 'indices', 'io_deps', 'is_materialized', 'items', 'keys', 'layer_info_dict', 'mock', 'new_axes', 'numblocks', 'output', 'output_blocks', 'output_indices', 'values']\n",
      "[('any-1c4f36345998dca8a61e806faadec991', 0)]\n",
      "any-1c4f36345998dca8a61e806faadec991 <function any at 0x000001F4F4B53EC0>\n",
      "['__call__', '__class__', '__delattr__', '__dict__', '__dir__', '__doc__', '__eq__', '__format__', '__ge__', '__getattribute__', '__getstate__', '__gt__', '__hash__', '__init__', '__init_subclass__', '__le__', '__lt__', '__module__', '__ne__', '__new__', '__reduce__', '__reduce_ex__', '__repr__', '__setattr__', '__sizeof__', '__str__', '__subclasshook__', '__weakref__', 'arg_lens_for_repackers', 'arg_repackers', 'fn', 'kwarg_repacker']\n",
      "<function unpack_collections.<locals>.repack at 0x000001F4FF1A6340>\n",
      "\n",
      "{'greater-76ee794eba4bcbaea275f4c9bec2aae9': (<dask_awkward.lib.core.ArgsKwargsPackedFunction object at 0x000001F4A21DE6D0>, '__dask_blockwise__0', '__dask_blockwise__1')}\n",
      "['__abstractmethods__', '__annotations__', '__class__', '__class_getitem__', '__contains__', '__copy__', '__delattr__', '__dict__', '__dir__', '__doc__', '__eq__', '__format__', '__ge__', '__getattribute__', '__getitem__', '__getstate__', '__gt__', '__hash__', '__init__', '__init_subclass__', '__iter__', '__le__', '__len__', '__lt__', '__module__', '__ne__', '__new__', '__orig_bases__', '__reduce__', '__reduce_ex__', '__repr__', '__reversed__', '__setattr__', '__sizeof__', '__slots__', '__str__', '__subclasshook__', '__weakref__', '_abc_impl', '_cull', '_cull_dependencies', '_dict', '_repr_html_', 'annotations', 'clone', 'collection_annotations', 'concatenate', 'cull', 'dims', 'dsk', 'from_blockwise', 'get', 'get_dependencies', 'get_output_keys', 'has_been_unpickled', 'indices', 'io_deps', 'is_materialized', 'items', 'keys', 'layer_info_dict', 'mock', 'new_axes', 'numblocks', 'output', 'output_blocks', 'output_indices', 'values']\n",
      "[('greater-76ee794eba4bcbaea275f4c9bec2aae9', 0)]\n",
      "greater-76ee794eba4bcbaea275f4c9bec2aae9 <ufunc 'greater'>\n",
      "['__call__', '__class__', '__delattr__', '__dict__', '__dir__', '__doc__', '__eq__', '__format__', '__ge__', '__getattribute__', '__getstate__', '__gt__', '__hash__', '__init__', '__init_subclass__', '__le__', '__lt__', '__module__', '__ne__', '__new__', '__reduce__', '__reduce_ex__', '__repr__', '__setattr__', '__sizeof__', '__str__', '__subclasshook__', '__weakref__', 'arg_lens_for_repackers', 'arg_repackers', 'fn', 'kwarg_repacker']\n",
      "<function unpack_collections.<locals>.repack at 0x000001F4FF1A4CC0>\n",
      "\n",
      "{'pt-f7d15325da9008016877bbcd8a01efbe': (<dask_awkward.lib.core.ArgsKwargsPackedFunction object at 0x000001F4FF451790>, '__dask_blockwise__0', '__dask_blockwise__1')}\n",
      "['__abstractmethods__', '__annotations__', '__class__', '__class_getitem__', '__contains__', '__copy__', '__delattr__', '__dict__', '__dir__', '__doc__', '__eq__', '__format__', '__ge__', '__getattribute__', '__getitem__', '__getstate__', '__gt__', '__hash__', '__init__', '__init_subclass__', '__iter__', '__le__', '__len__', '__lt__', '__module__', '__ne__', '__new__', '__orig_bases__', '__reduce__', '__reduce_ex__', '__repr__', '__reversed__', '__setattr__', '__sizeof__', '__slots__', '__str__', '__subclasshook__', '__weakref__', '_abc_impl', '_cull', '_cull_dependencies', '_dict', '_repr_html_', 'annotations', 'clone', 'collection_annotations', 'concatenate', 'cull', 'dims', 'dsk', 'from_blockwise', 'get', 'get_dependencies', 'get_output_keys', 'has_been_unpickled', 'indices', 'io_deps', 'is_materialized', 'items', 'keys', 'layer_info_dict', 'mock', 'new_axes', 'numblocks', 'output', 'output_blocks', 'output_indices', 'values']\n",
      "[('pt-f7d15325da9008016877bbcd8a01efbe', 0)]\n",
      "pt-f7d15325da9008016877bbcd8a01efbe <built-in function getitem>\n",
      "['__call__', '__class__', '__delattr__', '__dict__', '__dir__', '__doc__', '__eq__', '__format__', '__ge__', '__getattribute__', '__getstate__', '__gt__', '__hash__', '__init__', '__init_subclass__', '__le__', '__lt__', '__module__', '__ne__', '__new__', '__reduce__', '__reduce_ex__', '__repr__', '__setattr__', '__sizeof__', '__str__', '__subclasshook__', '__weakref__', 'arg_lens_for_repackers', 'arg_repackers', 'fn', 'kwarg_repacker']\n",
      "<function unpack_collections.<locals>.repack at 0x000001F4FF1A5620>\n",
      "\n",
      "{'Muon-f6b095a32d13ab9e6c3af45164b152ff': (<dask_awkward.lib.core.ArgsKwargsPackedFunction object at 0x000001F4FF417150>, '__dask_blockwise__0', '__dask_blockwise__1')}\n",
      "['__abstractmethods__', '__annotations__', '__class__', '__class_getitem__', '__contains__', '__copy__', '__delattr__', '__dict__', '__dir__', '__doc__', '__eq__', '__format__', '__ge__', '__getattribute__', '__getitem__', '__getstate__', '__gt__', '__hash__', '__init__', '__init_subclass__', '__iter__', '__le__', '__len__', '__lt__', '__module__', '__ne__', '__new__', '__orig_bases__', '__reduce__', '__reduce_ex__', '__repr__', '__reversed__', '__setattr__', '__sizeof__', '__slots__', '__str__', '__subclasshook__', '__weakref__', '_abc_impl', '_cull', '_cull_dependencies', '_dict', '_repr_html_', 'annotations', 'clone', 'collection_annotations', 'concatenate', 'cull', 'dims', 'dsk', 'from_blockwise', 'get', 'get_dependencies', 'get_output_keys', 'has_been_unpickled', 'indices', 'io_deps', 'is_materialized', 'items', 'keys', 'layer_info_dict', 'mock', 'new_axes', 'numblocks', 'output', 'output_blocks', 'output_indices', 'values']\n",
      "[('Muon-f6b095a32d13ab9e6c3af45164b152ff', 0)]\n",
      "Muon-f6b095a32d13ab9e6c3af45164b152ff <built-in function getitem>\n",
      "['__call__', '__class__', '__delattr__', '__dict__', '__dir__', '__doc__', '__eq__', '__format__', '__ge__', '__getattribute__', '__getstate__', '__gt__', '__hash__', '__init__', '__init_subclass__', '__le__', '__lt__', '__module__', '__ne__', '__new__', '__reduce__', '__reduce_ex__', '__repr__', '__setattr__', '__sizeof__', '__str__', '__subclasshook__', '__weakref__', 'arg_lens_for_repackers', 'arg_repackers', 'fn', 'kwarg_repacker']\n",
      "<function unpack_collections.<locals>.repack at 0x000001F4CB30FE20>\n",
      "\n",
      "from-uproot-eab7183d8a22c4762e983a0150efa740 <uproot._dask._UprootOpenAndRead object at 0x000001F4FF3E0050>\n"
     ]
    }
   ],
   "source": [
    "from pathlib import Path\n",
    "from coffea.nanoevents import NanoEventsFactory, NanoAODSchema\n",
    "from dask.distributed import Client\n",
    "import dask\n",
    "import dask_awkward\n",
    "import awkward as ak\n",
    "import hist.dask as hda\n",
    "\n",
    "def extract_pushdown(coll):\n",
    "    hlg_sorted = coll.dask._toposort_layers()\n",
    "    pushdown_deps = []\n",
    "    for key in hlg_sorted:\n",
    "        annotations = coll.dask.layers[key].annotations\n",
    "        if annotations is not None and \"pushdown\" in annotations:\n",
    "            #print(key, coll.dask.layers[key].annotations)\n",
    "            pushdown_deps = [key] + pushdown_deps\n",
    "    for dep in pushdown_deps:\n",
    "        layer = coll.dask.layers[dep]\n",
    "        fcn = list(layer.dsk.values())[0][0]\n",
    "        if isinstance(layer, dask_awkward.layers.AwkwardBlockwiseLayer) and not isinstance(layer, dask_awkward.layers.AwkwardInputLayer):\n",
    "            print(layer.dsk)\n",
    "            print(dir(layer))\n",
    "            print(list(layer.keys()))\n",
    "            print(dep, fcn.fn)\n",
    "            print(dir(fcn))\n",
    "            print(fcn.arg_repackers[0])\n",
    "            print(\"\")\n",
    "        else:\n",
    "            print(dep, fcn)\n",
    "\n",
    "if __name__ == \"__main__\":\n",
    "    #client = Client()\n",
    "\n",
    "\n",
    "    dask.config.set({\"awkward.optimization.enabled\": True, \"awkward.raise-failed-meta\": True, \"awkward.optimization.on-fail\": \"raise\"})\n",
    "\n",
    "    with dask.annotate(pushdown=\"servicex\"):\n",
    "        events = NanoEventsFactory.from_root(\n",
    "            {\n",
    "                \"nano_dy.root\": \"Events\",\n",
    "                \"nano_dy.root\": \"Events\",\n",
    "                \"nano_dy.root\": \"Events\",\n",
    "                \"nano_dy.root\": \"Events\",\n",
    "            },\n",
    "            metadata={\"dataset\": \"nano_dy\"},\n",
    "            schemaclass=NanoAODSchema,\n",
    "        ).events()\n",
    "\n",
    "        mask = events.Muon.pt > 30\n",
    "        events = events[ak.any(mask, axis=1)]\n",
    "        \n",
    "    myhist = hda.Hist.new.Regular(50, 0, 2.5, name=\"abseta\").Double()\n",
    "\n",
    "    myhist.fill(abseta=abs(events.Muon.eta))\n",
    "\n",
    "    extract_pushdown(myhist)"
   ]
  },
  {
   "cell_type": "code",
   "execution_count": null,
   "metadata": {},
   "outputs": [],
   "source": []
  }
 ],
 "metadata": {
  "kernelspec": {
   "display_name": ".venv",
   "language": "python",
   "name": "python3"
  },
  "language_info": {
   "codemirror_mode": {
    "name": "ipython",
    "version": 3
   },
   "file_extension": ".py",
   "mimetype": "text/x-python",
   "name": "python",
   "nbconvert_exporter": "python",
   "pygments_lexer": "ipython3",
   "version": "3.11.6"
  },
  "orig_nbformat": 4
 },
 "nbformat": 4,
 "nbformat_minor": 2
}
