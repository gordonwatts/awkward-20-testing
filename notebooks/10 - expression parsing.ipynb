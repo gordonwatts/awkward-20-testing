{
 "cells": [
  {
   "cell_type": "markdown",
   "metadata": {},
   "source": [
    "# Expression Parsing\n",
    "\n",
    "Part of predicate push-down is parsing the expressions and re-building the map."
   ]
  },
  {
   "cell_type": "code",
   "execution_count": 1,
   "metadata": {},
   "outputs": [
    {
     "data": {
      "text/plain": [
       "<dask.config.set at 0x2c702c1d2d0>"
      ]
     },
     "execution_count": 1,
     "metadata": {},
     "output_type": "execute_result"
    }
   ],
   "source": [
    "from pathlib import Path\n",
    "from coffea.nanoevents import NanoEventsFactory, NanoAODSchema\n",
    "from dask.distributed import Client\n",
    "import dask\n",
    "import dask_awkward\n",
    "import awkward as ak\n",
    "import hist.dask as hda\n",
    "from typing import Dict, List\n",
    "from dataclasses import dataclass\n",
    "\n",
    "dask.config.set({\"awkward.optimization.enabled\": True, \"awkward.raise-failed-meta\": True, \"awkward.optimization.on-fail\": \"raise\"})"
   ]
  },
  {
   "cell_type": "markdown",
   "metadata": {},
   "source": [
    "Info about each function in dask"
   ]
  },
  {
   "cell_type": "code",
   "execution_count": 2,
   "metadata": {},
   "outputs": [],
   "source": [
    "@dataclass\n",
    "class func_info:\n",
    "    n_args: int\n",
    "\n",
    "function_info = {\n",
    "    'any': func_info(1),\n",
    "    'getitem': func_info(2),\n",
    "    'bitwise_and': func_info(2),\n",
    "    'greater': func_info(2),\n",
    "}"
   ]
  },
  {
   "cell_type": "markdown",
   "metadata": {},
   "source": [
    "Read through the layers, and try to extract the directed graph."
   ]
  },
  {
   "cell_type": "code",
   "execution_count": 4,
   "metadata": {},
   "outputs": [],
   "source": [
    "@dataclass\n",
    "class node_info:\n",
    "    name: str\n",
    "    function_name: str\n",
    "    input_nodes: List[str]\n",
    "\n",
    "def layer_names(input_names) -> List[str]:\n",
    "    result = []\n",
    "    for l_info in input_names:\n",
    "        if isinstance(l_info, tuple):\n",
    "            result.append(l_info[0])\n",
    "        else:\n",
    "            result.append(l_info)\n",
    "    return result\n",
    "\n",
    "def extract_pushdown(coll) -> List[node_info]:\n",
    "    hlg_sorted = coll.dask._toposort_layers()\n",
    "    pushdown_deps = []\n",
    "    result: List[node_info] = []\n",
    "    for key in hlg_sorted:\n",
    "        annotations = coll.dask.layers[key].annotations\n",
    "        if annotations is not None and \"pushdown\" in annotations:\n",
    "            #print(key, coll.dask.layers[key].annotations)\n",
    "            pushdown_deps = [key] + pushdown_deps\n",
    "    for dep in pushdown_deps:\n",
    "        layer = coll.dask.layers[dep]\n",
    "\n",
    "        fcn = list(layer.dsk.values())[0][0]\n",
    "        if isinstance(layer, dask_awkward.layers.AwkwardBlockwiseLayer) and not isinstance(layer, dask_awkward.layers.AwkwardInputLayer):\n",
    "            result.append(node_info(dep, fcn.fn.__name__, layer_names(layer[(dep, 0)][1:])))\n",
    "            print(layer.dsk)\n",
    "            print(dir(layer))\n",
    "            print(list(layer.keys()))\n",
    "            print(dep, fcn.fn)\n",
    "            print(dir(fcn))\n",
    "            print(fcn.arg_repackers[0])\n",
    "            print(\"\")\n",
    "        else:\n",
    "            print(\"Not a good instance\", dep, fcn)\n",
    "\n",
    "    return result"
   ]
  },
  {
   "cell_type": "code",
   "execution_count": 5,
   "metadata": {},
   "outputs": [
    {
     "name": "stderr",
     "output_type": "stream",
     "text": [
      "c:\\Users\\gordo\\Code\\iris-hep\\awkward-20-testing\\.venv\\Lib\\site-packages\\coffea\\nanoevents\\methods\\candidate.py:11: FutureWarning: In version 2024.7.0 (target date: 2024-06-30 11:59:59-05:00), this will be an error.\n",
      "To raise these warnings as errors (and get stack traces to find out where they're called), run\n",
      "    import warnings\n",
      "    warnings.filterwarnings(\"error\", module=\"coffea.*\")\n",
      "after the first `import coffea` or use `@pytest.mark.filterwarnings(\"error:::coffea.*\")` in pytest.\n",
      "Issue: coffea.nanoevents.methods.vector will be removed and replaced with scikit-hep vector. Nanoevents schemas internal to coffea will be migrated. Otherwise please consider using that package!.\n",
      "  from coffea.nanoevents.methods import vector\n",
      "c:\\Users\\gordo\\Code\\iris-hep\\awkward-20-testing\\.venv\\Lib\\site-packages\\coffea\\nanoevents\\schemas\\nanoaod.py:243: RuntimeWarning: Missing cross-reference index for FatJet_genJetAK8Idx => GenJetAK8\n",
      "  warnings.warn(\n"
     ]
    },
    {
     "data": {
      "text/html": [
       "<html>\n",
       "<div style=\"display:flex; align-items:center;\">\n",
       "<div style=\"width:290px;\">\n",
       "<svg xmlns=\"http://www.w3.org/2000/svg\" viewBox=\"-10 -105 270 120\">\n",
       "<line x1=\"-5\" y1=\"0\" x2=\"255\" y2=\"0\" style=\"fill:none;stroke-width:2;stroke:currentColor\"/>\n",
       "<text text-anchor=\"middle\" x=\"0\" y=\"15\" style=\"fill:currentColor;\">\n",
       "0\n",
       "</text>\n",
       "<text text-anchor=\"middle\" x=\"250\" y=\"15\" style=\"fill:currentColor;\">\n",
       "2.5\n",
       "</text>\n",
       "<text text-anchor=\"middle\" x=\"125.0\" y=\"15\" style=\"fill:currentColor;\">\n",
       "abseta\n",
       "</text>\n",
       "<polyline points=\"  0,0   0,-0   5,-0   5,-0  10,-0  10,-0  15,-0  15,-0  20,-0  20,-0  25,-0  25,-0  30,-0  30,-0  35,-0  35,-0  40,-0  40,-0  45,-0  45,-0  50,-0  50,-0  55,-0  55,-0  60,-0  60,-0  65,-0  65,-0  70,-0  70,-0  75,-0  75,-0  80,-0  80,-0  85,-0  85,-0  90,-0  90,-0  95,-0  95,-0 100,-0 100,-0 105,-0 105,-0 110,-0 110,-0 115,-0 115,-0 120,-0 120,-0 125,-0 125,-0 130,-0 130,-0 135,-0 135,-0 140,-0 140,-0 145,-0 145,-0 150,-0 150,-0 155,-0 155,-0 160,-0 160,-0 165,-0 165,-0 170,-0 170,-0 175,-0 175,-0 180,-0 180,-0 185,-0 185,-0 190,-0 190,-0 195,-0 195,-0 200,-0 200,-0 205,-0 205,-0 210,-0 210,-0 215,-0 215,-0 220,-0 220,-0 225,-0 225,-0 230,-0 230,-0 235,-0 235,-0 240,-0 240,-0 245,-0 245,-0 250,-0 250,0\" style=\"fill:none; stroke:currentColor;\"/>\n",
       "</svg>\n",
       "</div>\n",
       "<div style=\"flex=grow:1;\">\n",
       "Regular(50, 0, 2.5, name='abseta')<br/>\n",
       "<hr style=\"margin-top:.2em; margin-bottom:.2em;\"/>\n",
       "Double() Σ=0.0\n",
       "\n",
       "</div>\n",
       "</div>\n",
       "</html>"
      ],
      "text/plain": [
       "Hist(Regular(50, 0, 2.5, name='abseta'), storage=Double()) # (has staged fills)"
      ]
     },
     "execution_count": 5,
     "metadata": {},
     "output_type": "execute_result"
    }
   ],
   "source": [
    "\n",
    "with dask.annotate(pushdown=\"servicex\"):\n",
    "    events = NanoEventsFactory.from_root(\n",
    "        {\n",
    "            \"nano_dy.root\": \"Events\",\n",
    "            \"nano_dy.root\": \"Events\",\n",
    "            \"nano_dy.root\": \"Events\",\n",
    "            \"nano_dy.root\": \"Events\",\n",
    "        },\n",
    "        metadata={\"dataset\": \"nano_dy\"},\n",
    "        schemaclass=NanoAODSchema,\n",
    "    ).events()\n",
    "\n",
    "    mask_pt = events.Muon.pt > 30\n",
    "    mask_eta = abs(events.Muon.eta) < 2.4\n",
    "    events = events[ak.any(mask_pt & mask_eta, axis=1)]\n",
    "    \n",
    "myhist = hda.Hist.new.Regular(50, 0, 2.5, name=\"abseta\").Double()\n",
    "\n",
    "myhist.fill(abseta=abs(events.Muon.eta))"
   ]
  },
  {
   "cell_type": "code",
   "execution_count": 6,
   "metadata": {},
   "outputs": [
    {
     "name": "stdout",
     "output_type": "stream",
     "text": [
      "{'getitem-f8ff719ba2ef2b31a45cbda6e474eae2': (<dask_awkward.lib.core.ArgsKwargsPackedFunction object at 0x000002C72AF95E50>, '__dask_blockwise__0', '__dask_blockwise__1')}\n",
      "['__abstractmethods__', '__annotations__', '__class__', '__class_getitem__', '__contains__', '__copy__', '__delattr__', '__dict__', '__dir__', '__doc__', '__eq__', '__format__', '__ge__', '__getattribute__', '__getitem__', '__getstate__', '__gt__', '__hash__', '__init__', '__init_subclass__', '__iter__', '__le__', '__len__', '__lt__', '__module__', '__ne__', '__new__', '__orig_bases__', '__reduce__', '__reduce_ex__', '__repr__', '__reversed__', '__setattr__', '__sizeof__', '__slots__', '__str__', '__subclasshook__', '__weakref__', '_abc_impl', '_cached_dict', '_cull', '_cull_dependencies', '_dict', '_dims', '_repr_html_', 'annotations', 'clone', 'collection_annotations', 'concatenate', 'cull', 'dims', 'dsk', 'from_blockwise', 'get', 'get_dependencies', 'get_output_keys', 'has_been_unpickled', 'indices', 'io_deps', 'is_materialized', 'items', 'keys', 'layer_info_dict', 'mock', 'new_axes', 'numblocks', 'output', 'output_blocks', 'output_indices', 'values']\n",
      "[('getitem-f8ff719ba2ef2b31a45cbda6e474eae2', 0)]\n",
      "getitem-f8ff719ba2ef2b31a45cbda6e474eae2 <built-in function getitem>\n",
      "['__call__', '__class__', '__delattr__', '__dict__', '__dir__', '__doc__', '__eq__', '__format__', '__ge__', '__getattribute__', '__getstate__', '__gt__', '__hash__', '__init__', '__init_subclass__', '__le__', '__lt__', '__module__', '__ne__', '__new__', '__reduce__', '__reduce_ex__', '__repr__', '__setattr__', '__sizeof__', '__str__', '__subclasshook__', '__weakref__', 'arg_lens_for_repackers', 'arg_repackers', 'fn', 'kwarg_repacker']\n",
      "<function unpack_collections.<locals>.repack at 0x000002C729FDBB00>\n",
      "\n",
      "{'any-c2dc4b16a8b57db82c1b72b4e8226b04': (<dask_awkward.lib.core.ArgsKwargsPackedFunction object at 0x000002C72AD97910>, '__dask_blockwise__0')}\n",
      "['__abstractmethods__', '__annotations__', '__class__', '__class_getitem__', '__contains__', '__copy__', '__delattr__', '__dict__', '__dir__', '__doc__', '__eq__', '__format__', '__ge__', '__getattribute__', '__getitem__', '__getstate__', '__gt__', '__hash__', '__init__', '__init_subclass__', '__iter__', '__le__', '__len__', '__lt__', '__module__', '__ne__', '__new__', '__orig_bases__', '__reduce__', '__reduce_ex__', '__repr__', '__reversed__', '__setattr__', '__sizeof__', '__slots__', '__str__', '__subclasshook__', '__weakref__', '_abc_impl', '_cached_dict', '_cull', '_cull_dependencies', '_dict', '_dims', '_repr_html_', 'annotations', 'clone', 'collection_annotations', 'concatenate', 'cull', 'dims', 'dsk', 'from_blockwise', 'get', 'get_dependencies', 'get_output_keys', 'has_been_unpickled', 'indices', 'io_deps', 'is_materialized', 'items', 'keys', 'layer_info_dict', 'mock', 'new_axes', 'numblocks', 'output', 'output_blocks', 'output_indices', 'values']\n",
      "[('any-c2dc4b16a8b57db82c1b72b4e8226b04', 0)]\n",
      "any-c2dc4b16a8b57db82c1b72b4e8226b04 <function any at 0x000002C77BD9FF60>\n",
      "['__call__', '__class__', '__delattr__', '__dict__', '__dir__', '__doc__', '__eq__', '__format__', '__ge__', '__getattribute__', '__getstate__', '__gt__', '__hash__', '__init__', '__init_subclass__', '__le__', '__lt__', '__module__', '__ne__', '__new__', '__reduce__', '__reduce_ex__', '__repr__', '__setattr__', '__sizeof__', '__str__', '__subclasshook__', '__weakref__', 'arg_lens_for_repackers', 'arg_repackers', 'fn', 'kwarg_repacker']\n",
      "<function unpack_collections.<locals>.repack at 0x000002C729FDAE80>\n",
      "\n",
      "{'bitwise-and-339f1ef696cd35c704cb209077a2a6e1': (<dask_awkward.lib.core.ArgsKwargsPackedFunction object at 0x000002C72AF97710>, '__dask_blockwise__0', '__dask_blockwise__1')}\n",
      "['__abstractmethods__', '__annotations__', '__class__', '__class_getitem__', '__contains__', '__copy__', '__delattr__', '__dict__', '__dir__', '__doc__', '__eq__', '__format__', '__ge__', '__getattribute__', '__getitem__', '__getstate__', '__gt__', '__hash__', '__init__', '__init_subclass__', '__iter__', '__le__', '__len__', '__lt__', '__module__', '__ne__', '__new__', '__orig_bases__', '__reduce__', '__reduce_ex__', '__repr__', '__reversed__', '__setattr__', '__sizeof__', '__slots__', '__str__', '__subclasshook__', '__weakref__', '_abc_impl', '_cached_dict', '_cull', '_cull_dependencies', '_dict', '_dims', '_repr_html_', 'annotations', 'clone', 'collection_annotations', 'concatenate', 'cull', 'dims', 'dsk', 'from_blockwise', 'get', 'get_dependencies', 'get_output_keys', 'has_been_unpickled', 'indices', 'io_deps', 'is_materialized', 'items', 'keys', 'layer_info_dict', 'mock', 'new_axes', 'numblocks', 'output', 'output_blocks', 'output_indices', 'values']\n",
      "[('bitwise-and-339f1ef696cd35c704cb209077a2a6e1', 0)]\n",
      "bitwise-and-339f1ef696cd35c704cb209077a2a6e1 <ufunc 'bitwise_and'>\n",
      "['__call__', '__class__', '__delattr__', '__dict__', '__dir__', '__doc__', '__eq__', '__format__', '__ge__', '__getattribute__', '__getstate__', '__gt__', '__hash__', '__init__', '__init_subclass__', '__le__', '__lt__', '__module__', '__ne__', '__new__', '__reduce__', '__reduce_ex__', '__repr__', '__setattr__', '__sizeof__', '__str__', '__subclasshook__', '__weakref__', 'arg_lens_for_repackers', 'arg_repackers', 'fn', 'kwarg_repacker']\n",
      "<function unpack_collections.<locals>.repack at 0x000002C729FDA5C0>\n",
      "\n",
      "{'greater-d4c26721f337dbb96cb25e1caf1a6d4e': (<dask_awkward.lib.core.ArgsKwargsPackedFunction object at 0x000002C729FD7190>, '__dask_blockwise__0', '__dask_blockwise__1')}\n",
      "['__abstractmethods__', '__annotations__', '__class__', '__class_getitem__', '__contains__', '__copy__', '__delattr__', '__dict__', '__dir__', '__doc__', '__eq__', '__format__', '__ge__', '__getattribute__', '__getitem__', '__getstate__', '__gt__', '__hash__', '__init__', '__init_subclass__', '__iter__', '__le__', '__len__', '__lt__', '__module__', '__ne__', '__new__', '__orig_bases__', '__reduce__', '__reduce_ex__', '__repr__', '__reversed__', '__setattr__', '__sizeof__', '__slots__', '__str__', '__subclasshook__', '__weakref__', '_abc_impl', '_cached_dict', '_cull', '_cull_dependencies', '_dict', '_dims', '_repr_html_', 'annotations', 'clone', 'collection_annotations', 'concatenate', 'cull', 'dims', 'dsk', 'from_blockwise', 'get', 'get_dependencies', 'get_output_keys', 'has_been_unpickled', 'indices', 'io_deps', 'is_materialized', 'items', 'keys', 'layer_info_dict', 'mock', 'new_axes', 'numblocks', 'output', 'output_blocks', 'output_indices', 'values']\n",
      "[('greater-d4c26721f337dbb96cb25e1caf1a6d4e', 0)]\n",
      "greater-d4c26721f337dbb96cb25e1caf1a6d4e <ufunc 'greater'>\n",
      "['__call__', '__class__', '__delattr__', '__dict__', '__dir__', '__doc__', '__eq__', '__format__', '__ge__', '__getattribute__', '__getstate__', '__gt__', '__hash__', '__init__', '__init_subclass__', '__le__', '__lt__', '__module__', '__ne__', '__new__', '__reduce__', '__reduce_ex__', '__repr__', '__setattr__', '__sizeof__', '__str__', '__subclasshook__', '__weakref__', 'arg_lens_for_repackers', 'arg_repackers', 'fn', 'kwarg_repacker']\n",
      "<function unpack_collections.<locals>.repack at 0x000002C729FDAAC0>\n",
      "\n",
      "{'pt-a0e1b763db4e4ef4f5cbf5c8d8d54d1c': (<dask_awkward.lib.core.ArgsKwargsPackedFunction object at 0x000002C72ACFDB50>, '__dask_blockwise__0', '__dask_blockwise__1')}\n",
      "['__abstractmethods__', '__annotations__', '__class__', '__class_getitem__', '__contains__', '__copy__', '__delattr__', '__dict__', '__dir__', '__doc__', '__eq__', '__format__', '__ge__', '__getattribute__', '__getitem__', '__getstate__', '__gt__', '__hash__', '__init__', '__init_subclass__', '__iter__', '__le__', '__len__', '__lt__', '__module__', '__ne__', '__new__', '__orig_bases__', '__reduce__', '__reduce_ex__', '__repr__', '__reversed__', '__setattr__', '__sizeof__', '__slots__', '__str__', '__subclasshook__', '__weakref__', '_abc_impl', '_cached_dict', '_cull', '_cull_dependencies', '_dict', '_dims', '_repr_html_', 'annotations', 'clone', 'collection_annotations', 'concatenate', 'cull', 'dims', 'dsk', 'from_blockwise', 'get', 'get_dependencies', 'get_output_keys', 'has_been_unpickled', 'indices', 'io_deps', 'is_materialized', 'items', 'keys', 'layer_info_dict', 'mock', 'new_axes', 'numblocks', 'output', 'output_blocks', 'output_indices', 'values']\n",
      "[('pt-a0e1b763db4e4ef4f5cbf5c8d8d54d1c', 0)]\n",
      "pt-a0e1b763db4e4ef4f5cbf5c8d8d54d1c <built-in function getitem>\n",
      "['__call__', '__class__', '__delattr__', '__dict__', '__dir__', '__doc__', '__eq__', '__format__', '__ge__', '__getattribute__', '__getstate__', '__gt__', '__hash__', '__init__', '__init_subclass__', '__le__', '__lt__', '__module__', '__ne__', '__new__', '__reduce__', '__reduce_ex__', '__repr__', '__setattr__', '__sizeof__', '__str__', '__subclasshook__', '__weakref__', 'arg_lens_for_repackers', 'arg_repackers', 'fn', 'kwarg_repacker']\n",
      "<function unpack_collections.<locals>.repack at 0x000002C729FDA020>\n",
      "\n",
      "{'Muon-b944fd5cfe0593eea7308cb0662d916a': (<dask_awkward.lib.core.ArgsKwargsPackedFunction object at 0x000002C701019A90>, '__dask_blockwise__0', '__dask_blockwise__1')}\n",
      "['__abstractmethods__', '__annotations__', '__class__', '__class_getitem__', '__contains__', '__copy__', '__delattr__', '__dict__', '__dir__', '__doc__', '__eq__', '__format__', '__ge__', '__getattribute__', '__getitem__', '__getstate__', '__gt__', '__hash__', '__init__', '__init_subclass__', '__iter__', '__le__', '__len__', '__lt__', '__module__', '__ne__', '__new__', '__orig_bases__', '__reduce__', '__reduce_ex__', '__repr__', '__reversed__', '__setattr__', '__sizeof__', '__slots__', '__str__', '__subclasshook__', '__weakref__', '_abc_impl', '_cached_dict', '_cull', '_cull_dependencies', '_dict', '_dims', '_repr_html_', 'annotations', 'clone', 'collection_annotations', 'concatenate', 'cull', 'dims', 'dsk', 'from_blockwise', 'get', 'get_dependencies', 'get_output_keys', 'has_been_unpickled', 'indices', 'io_deps', 'is_materialized', 'items', 'keys', 'layer_info_dict', 'mock', 'new_axes', 'numblocks', 'output', 'output_blocks', 'output_indices', 'values']\n",
      "[('Muon-b944fd5cfe0593eea7308cb0662d916a', 0)]\n",
      "Muon-b944fd5cfe0593eea7308cb0662d916a <built-in function getitem>\n",
      "['__call__', '__class__', '__delattr__', '__dict__', '__dir__', '__doc__', '__eq__', '__format__', '__ge__', '__getattribute__', '__getstate__', '__gt__', '__hash__', '__init__', '__init_subclass__', '__le__', '__lt__', '__module__', '__ne__', '__new__', '__reduce__', '__reduce_ex__', '__repr__', '__setattr__', '__sizeof__', '__str__', '__subclasshook__', '__weakref__', 'arg_lens_for_repackers', 'arg_repackers', 'fn', 'kwarg_repacker']\n",
      "<function unpack_collections.<locals>.repack at 0x000002C729F022A0>\n",
      "\n",
      "{'less-35d80e42713d5febbb503e2b5b318e8b': (<dask_awkward.lib.core.ArgsKwargsPackedFunction object at 0x000002C729FC5A10>, '__dask_blockwise__0', '__dask_blockwise__1')}\n",
      "['__abstractmethods__', '__annotations__', '__class__', '__class_getitem__', '__contains__', '__copy__', '__delattr__', '__dict__', '__dir__', '__doc__', '__eq__', '__format__', '__ge__', '__getattribute__', '__getitem__', '__getstate__', '__gt__', '__hash__', '__init__', '__init_subclass__', '__iter__', '__le__', '__len__', '__lt__', '__module__', '__ne__', '__new__', '__orig_bases__', '__reduce__', '__reduce_ex__', '__repr__', '__reversed__', '__setattr__', '__sizeof__', '__slots__', '__str__', '__subclasshook__', '__weakref__', '_abc_impl', '_cached_dict', '_cull', '_cull_dependencies', '_dict', '_dims', '_repr_html_', 'annotations', 'clone', 'collection_annotations', 'concatenate', 'cull', 'dims', 'dsk', 'from_blockwise', 'get', 'get_dependencies', 'get_output_keys', 'has_been_unpickled', 'indices', 'io_deps', 'is_materialized', 'items', 'keys', 'layer_info_dict', 'mock', 'new_axes', 'numblocks', 'output', 'output_blocks', 'output_indices', 'values']\n",
      "[('less-35d80e42713d5febbb503e2b5b318e8b', 0)]\n",
      "less-35d80e42713d5febbb503e2b5b318e8b <ufunc 'less'>\n",
      "['__call__', '__class__', '__delattr__', '__dict__', '__dir__', '__doc__', '__eq__', '__format__', '__ge__', '__getattribute__', '__getstate__', '__gt__', '__hash__', '__init__', '__init_subclass__', '__le__', '__lt__', '__module__', '__ne__', '__new__', '__reduce__', '__reduce_ex__', '__repr__', '__setattr__', '__sizeof__', '__str__', '__subclasshook__', '__weakref__', 'arg_lens_for_repackers', 'arg_repackers', 'fn', 'kwarg_repacker']\n",
      "<function unpack_collections.<locals>.repack at 0x000002C729FD8180>\n",
      "\n",
      "{'absolute-d41436f50743aab56c7d456e662abfdc': (<dask_awkward.lib.core.ArgsKwargsPackedFunction object at 0x000002C72AF95950>, '__dask_blockwise__0')}\n",
      "['__abstractmethods__', '__annotations__', '__class__', '__class_getitem__', '__contains__', '__copy__', '__delattr__', '__dict__', '__dir__', '__doc__', '__eq__', '__format__', '__ge__', '__getattribute__', '__getitem__', '__getstate__', '__gt__', '__hash__', '__init__', '__init_subclass__', '__iter__', '__le__', '__len__', '__lt__', '__module__', '__ne__', '__new__', '__orig_bases__', '__reduce__', '__reduce_ex__', '__repr__', '__reversed__', '__setattr__', '__sizeof__', '__slots__', '__str__', '__subclasshook__', '__weakref__', '_abc_impl', '_cached_dict', '_cull', '_cull_dependencies', '_dict', '_dims', '_repr_html_', 'annotations', 'clone', 'collection_annotations', 'concatenate', 'cull', 'dims', 'dsk', 'from_blockwise', 'get', 'get_dependencies', 'get_output_keys', 'has_been_unpickled', 'indices', 'io_deps', 'is_materialized', 'items', 'keys', 'layer_info_dict', 'mock', 'new_axes', 'numblocks', 'output', 'output_blocks', 'output_indices', 'values']\n",
      "[('absolute-d41436f50743aab56c7d456e662abfdc', 0)]\n",
      "absolute-d41436f50743aab56c7d456e662abfdc <ufunc 'absolute'>\n",
      "['__call__', '__class__', '__delattr__', '__dict__', '__dir__', '__doc__', '__eq__', '__format__', '__ge__', '__getattribute__', '__getstate__', '__gt__', '__hash__', '__init__', '__init_subclass__', '__le__', '__lt__', '__module__', '__ne__', '__new__', '__reduce__', '__reduce_ex__', '__repr__', '__setattr__', '__sizeof__', '__str__', '__subclasshook__', '__weakref__', 'arg_lens_for_repackers', 'arg_repackers', 'fn', 'kwarg_repacker']\n",
      "<function unpack_collections.<locals>.repack at 0x000002C729FDB9C0>\n",
      "\n",
      "{'eta-85947e0a5ce023b88b2e5ff1e46947c0': (<dask_awkward.lib.core.ArgsKwargsPackedFunction object at 0x000002C729F34C50>, '__dask_blockwise__0', '__dask_blockwise__1')}\n",
      "['__abstractmethods__', '__annotations__', '__class__', '__class_getitem__', '__contains__', '__copy__', '__delattr__', '__dict__', '__dir__', '__doc__', '__eq__', '__format__', '__ge__', '__getattribute__', '__getitem__', '__getstate__', '__gt__', '__hash__', '__init__', '__init_subclass__', '__iter__', '__le__', '__len__', '__lt__', '__module__', '__ne__', '__new__', '__orig_bases__', '__reduce__', '__reduce_ex__', '__repr__', '__reversed__', '__setattr__', '__sizeof__', '__slots__', '__str__', '__subclasshook__', '__weakref__', '_abc_impl', '_cached_dict', '_cull', '_cull_dependencies', '_dict', '_dims', '_repr_html_', 'annotations', 'clone', 'collection_annotations', 'concatenate', 'cull', 'dims', 'dsk', 'from_blockwise', 'get', 'get_dependencies', 'get_output_keys', 'has_been_unpickled', 'indices', 'io_deps', 'is_materialized', 'items', 'keys', 'layer_info_dict', 'mock', 'new_axes', 'numblocks', 'output', 'output_blocks', 'output_indices', 'values']\n",
      "[('eta-85947e0a5ce023b88b2e5ff1e46947c0', 0)]\n",
      "eta-85947e0a5ce023b88b2e5ff1e46947c0 <built-in function getitem>\n",
      "['__call__', '__class__', '__delattr__', '__dict__', '__dir__', '__doc__', '__eq__', '__format__', '__ge__', '__getattribute__', '__getstate__', '__gt__', '__hash__', '__init__', '__init_subclass__', '__le__', '__lt__', '__module__', '__ne__', '__new__', '__reduce__', '__reduce_ex__', '__repr__', '__setattr__', '__sizeof__', '__str__', '__subclasshook__', '__weakref__', 'arg_lens_for_repackers', 'arg_repackers', 'fn', 'kwarg_repacker']\n",
      "<function unpack_collections.<locals>.repack at 0x000002C729FDBA60>\n",
      "\n",
      "{'Muon-4d4c96be08d297925812eeef61763fd7': (<dask_awkward.lib.core.ArgsKwargsPackedFunction object at 0x000002C72AA30790>, '__dask_blockwise__0', '__dask_blockwise__1')}\n",
      "['__abstractmethods__', '__annotations__', '__class__', '__class_getitem__', '__contains__', '__copy__', '__delattr__', '__dict__', '__dir__', '__doc__', '__eq__', '__format__', '__ge__', '__getattribute__', '__getitem__', '__getstate__', '__gt__', '__hash__', '__init__', '__init_subclass__', '__iter__', '__le__', '__len__', '__lt__', '__module__', '__ne__', '__new__', '__orig_bases__', '__reduce__', '__reduce_ex__', '__repr__', '__reversed__', '__setattr__', '__sizeof__', '__slots__', '__str__', '__subclasshook__', '__weakref__', '_abc_impl', '_cached_dict', '_cull', '_cull_dependencies', '_dict', '_dims', '_repr_html_', 'annotations', 'clone', 'collection_annotations', 'concatenate', 'cull', 'dims', 'dsk', 'from_blockwise', 'get', 'get_dependencies', 'get_output_keys', 'has_been_unpickled', 'indices', 'io_deps', 'is_materialized', 'items', 'keys', 'layer_info_dict', 'mock', 'new_axes', 'numblocks', 'output', 'output_blocks', 'output_indices', 'values']\n",
      "[('Muon-4d4c96be08d297925812eeef61763fd7', 0)]\n",
      "Muon-4d4c96be08d297925812eeef61763fd7 <built-in function getitem>\n",
      "['__call__', '__class__', '__delattr__', '__dict__', '__dir__', '__doc__', '__eq__', '__format__', '__ge__', '__getattribute__', '__getstate__', '__gt__', '__hash__', '__init__', '__init_subclass__', '__le__', '__lt__', '__module__', '__ne__', '__new__', '__reduce__', '__reduce_ex__', '__repr__', '__setattr__', '__sizeof__', '__str__', '__subclasshook__', '__weakref__', 'arg_lens_for_repackers', 'arg_repackers', 'fn', 'kwarg_repacker']\n",
      "<function unpack_collections.<locals>.repack at 0x000002C729FD9800>\n",
      "\n",
      "Not a good instance from-uproot-16bb4126f2e8acd5aadb5203ff224585 <uproot._dask._UprootOpenAndRead object at 0x000002C729F35590>\n"
     ]
    },
    {
     "data": {
      "text/plain": [
       "[node_info(name='getitem-f8ff719ba2ef2b31a45cbda6e474eae2', function_name='getitem', input_nodes=['from-uproot-16bb4126f2e8acd5aadb5203ff224585', 'any-c2dc4b16a8b57db82c1b72b4e8226b04']),\n",
       " node_info(name='any-c2dc4b16a8b57db82c1b72b4e8226b04', function_name='any', input_nodes=['bitwise-and-339f1ef696cd35c704cb209077a2a6e1']),\n",
       " node_info(name='bitwise-and-339f1ef696cd35c704cb209077a2a6e1', function_name='bitwise_and', input_nodes=['greater-d4c26721f337dbb96cb25e1caf1a6d4e', 'less-35d80e42713d5febbb503e2b5b318e8b']),\n",
       " node_info(name='greater-d4c26721f337dbb96cb25e1caf1a6d4e', function_name='greater', input_nodes=['pt-a0e1b763db4e4ef4f5cbf5c8d8d54d1c', 30]),\n",
       " node_info(name='pt-a0e1b763db4e4ef4f5cbf5c8d8d54d1c', function_name='getitem', input_nodes=['Muon-b944fd5cfe0593eea7308cb0662d916a', 'pt']),\n",
       " node_info(name='Muon-b944fd5cfe0593eea7308cb0662d916a', function_name='getitem', input_nodes=['from-uproot-16bb4126f2e8acd5aadb5203ff224585', 'Muon']),\n",
       " node_info(name='less-35d80e42713d5febbb503e2b5b318e8b', function_name='less', input_nodes=['absolute-d41436f50743aab56c7d456e662abfdc', 2.4]),\n",
       " node_info(name='absolute-d41436f50743aab56c7d456e662abfdc', function_name='absolute', input_nodes=['eta-85947e0a5ce023b88b2e5ff1e46947c0']),\n",
       " node_info(name='eta-85947e0a5ce023b88b2e5ff1e46947c0', function_name='getitem', input_nodes=['Muon-4d4c96be08d297925812eeef61763fd7', 'eta']),\n",
       " node_info(name='Muon-4d4c96be08d297925812eeef61763fd7', function_name='getitem', input_nodes=['from-uproot-16bb4126f2e8acd5aadb5203ff224585', 'Muon'])]"
      ]
     },
     "execution_count": 6,
     "metadata": {},
     "output_type": "execute_result"
    }
   ],
   "source": [
    "extract_pushdown(myhist)"
   ]
  }
 ],
 "metadata": {
  "kernelspec": {
   "display_name": ".venv",
   "language": "python",
   "name": "python3"
  },
  "language_info": {
   "codemirror_mode": {
    "name": "ipython",
    "version": 3
   },
   "file_extension": ".py",
   "mimetype": "text/x-python",
   "name": "python",
   "nbconvert_exporter": "python",
   "pygments_lexer": "ipython3",
   "version": "3.11.6"
  },
  "orig_nbformat": 4
 },
 "nbformat": 4,
 "nbformat_minor": 2
}
