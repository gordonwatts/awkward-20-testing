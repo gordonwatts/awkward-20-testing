{
 "cells": [
  {
   "cell_type": "markdown",
   "metadata": {},
   "source": [
    "# Expression Parsing\n",
    "\n",
    "Part of predicate push-down is parsing the expressions and re-building the map."
   ]
  },
  {
   "cell_type": "code",
   "execution_count": 1,
   "metadata": {},
   "outputs": [
    {
     "data": {
      "text/plain": [
       "<dask.config.set at 0x206ab322b90>"
      ]
     },
     "execution_count": 1,
     "metadata": {},
     "output_type": "execute_result"
    }
   ],
   "source": [
    "from pathlib import Path\n",
    "from coffea.nanoevents import NanoEventsFactory, NanoAODSchema\n",
    "from dask.distributed import Client\n",
    "import dask\n",
    "import dask_awkward\n",
    "import awkward as ak\n",
    "import hist.dask as hda\n",
    "from typing import Dict, List\n",
    "from dataclasses import dataclass\n",
    "\n",
    "dask.config.set({\"awkward.optimization.enabled\": True, \"awkward.raise-failed-meta\": True, \"awkward.optimization.on-fail\": \"raise\"})"
   ]
  },
  {
   "cell_type": "markdown",
   "metadata": {},
   "source": [
    "Info about each function in dask"
   ]
  },
  {
   "cell_type": "code",
   "execution_count": 2,
   "metadata": {},
   "outputs": [],
   "source": [
    "@dataclass\n",
    "class func_info:\n",
    "    n_args: int\n",
    "\n",
    "function_info = {\n",
    "    'any': func_info(1),\n",
    "    'getitem': func_info(2),\n",
    "    'bitwise_and': func_info(2),\n",
    "    'greater': func_info(2),\n",
    "}"
   ]
  },
  {
   "cell_type": "markdown",
   "metadata": {},
   "source": [
    "Read through the layers, and try to extract the directed graph."
   ]
  },
  {
   "cell_type": "code",
   "execution_count": 3,
   "metadata": {},
   "outputs": [],
   "source": [
    "@dataclass\n",
    "class node_info:\n",
    "    name: str\n",
    "    function_name: str\n",
    "    input_nodes: List[str]\n",
    "\n",
    "def layer_names(input_names) -> List[str]:\n",
    "    result = []\n",
    "    for l_info in input_names:\n",
    "        if isinstance(l_info, tuple):\n",
    "            result.append(l_info[0])\n",
    "        else:\n",
    "            result.append(l_info)\n",
    "    return result\n",
    "\n",
    "def extract_pushdown(coll) -> List[node_info]:\n",
    "    hlg_sorted = coll.dask._toposort_layers()\n",
    "    pushdown_deps = []\n",
    "    result: List[node_info] = []\n",
    "    for key in hlg_sorted:\n",
    "        annotations = coll.dask.layers[key].annotations\n",
    "        if annotations is not None and \"pushdown\" in annotations:\n",
    "            #print(key, coll.dask.layers[key].annotations)\n",
    "            pushdown_deps = [key] + pushdown_deps\n",
    "    for dep in pushdown_deps:\n",
    "        layer = coll.dask.layers[dep]\n",
    "\n",
    "        fcn = list(layer.dsk.values())[0][0]\n",
    "        if isinstance(layer, dask_awkward.layers.AwkwardBlockwiseLayer) and not isinstance(layer, dask_awkward.layers.AwkwardInputLayer):\n",
    "            result.append(node_info(dep, fcn.fn.__name__, layer_names(layer[(dep, 0)][1:])))\n",
    "            # print(layer.dsk)\n",
    "            # print(dir(layer))\n",
    "            # print(list(layer.keys()))\n",
    "            # print(dep, fcn.fn)\n",
    "            # print(dir(fcn))\n",
    "            # print(fcn.arg_repackers[0])\n",
    "            # print(\"\")\n",
    "        else:\n",
    "            print(\"Not a good instance\", dep, fcn)\n",
    "\n",
    "    # next job is create a new input layer in place of the first dep.\n",
    "\n",
    "    return result"
   ]
  },
  {
   "cell_type": "code",
   "execution_count": 4,
   "metadata": {},
   "outputs": [
    {
     "name": "stderr",
     "output_type": "stream",
     "text": [
      "c:\\Users\\gordo\\Code\\iris-hep\\awkward-20-testing\\.venv\\Lib\\site-packages\\coffea\\nanoevents\\methods\\candidate.py:11: FutureWarning: In version 2024.7.0 (target date: 2024-06-30 11:59:59-05:00), this will be an error.\n",
      "To raise these warnings as errors (and get stack traces to find out where they're called), run\n",
      "    import warnings\n",
      "    warnings.filterwarnings(\"error\", module=\"coffea.*\")\n",
      "after the first `import coffea` or use `@pytest.mark.filterwarnings(\"error:::coffea.*\")` in pytest.\n",
      "Issue: coffea.nanoevents.methods.vector will be removed and replaced with scikit-hep vector. Nanoevents schemas internal to coffea will be migrated. Otherwise please consider using that package!.\n",
      "  from coffea.nanoevents.methods import vector\n",
      "c:\\Users\\gordo\\Code\\iris-hep\\awkward-20-testing\\.venv\\Lib\\site-packages\\coffea\\nanoevents\\schemas\\nanoaod.py:243: RuntimeWarning: Missing cross-reference index for FatJet_genJetAK8Idx => GenJetAK8\n",
      "  warnings.warn(\n"
     ]
    },
    {
     "data": {
      "text/html": [
       "<html>\n",
       "<div style=\"display:flex; align-items:center;\">\n",
       "<div style=\"width:290px;\">\n",
       "<svg xmlns=\"http://www.w3.org/2000/svg\" viewBox=\"-10 -105 270 120\">\n",
       "<line x1=\"-5\" y1=\"0\" x2=\"255\" y2=\"0\" style=\"fill:none;stroke-width:2;stroke:currentColor\"/>\n",
       "<text text-anchor=\"middle\" x=\"0\" y=\"15\" style=\"fill:currentColor;\">\n",
       "0\n",
       "</text>\n",
       "<text text-anchor=\"middle\" x=\"250\" y=\"15\" style=\"fill:currentColor;\">\n",
       "2.5\n",
       "</text>\n",
       "<text text-anchor=\"middle\" x=\"125.0\" y=\"15\" style=\"fill:currentColor;\">\n",
       "abseta\n",
       "</text>\n",
       "<polyline points=\"  0,0   0,-0   5,-0   5,-0  10,-0  10,-0  15,-0  15,-0  20,-0  20,-0  25,-0  25,-0  30,-0  30,-0  35,-0  35,-0  40,-0  40,-0  45,-0  45,-0  50,-0  50,-0  55,-0  55,-0  60,-0  60,-0  65,-0  65,-0  70,-0  70,-0  75,-0  75,-0  80,-0  80,-0  85,-0  85,-0  90,-0  90,-0  95,-0  95,-0 100,-0 100,-0 105,-0 105,-0 110,-0 110,-0 115,-0 115,-0 120,-0 120,-0 125,-0 125,-0 130,-0 130,-0 135,-0 135,-0 140,-0 140,-0 145,-0 145,-0 150,-0 150,-0 155,-0 155,-0 160,-0 160,-0 165,-0 165,-0 170,-0 170,-0 175,-0 175,-0 180,-0 180,-0 185,-0 185,-0 190,-0 190,-0 195,-0 195,-0 200,-0 200,-0 205,-0 205,-0 210,-0 210,-0 215,-0 215,-0 220,-0 220,-0 225,-0 225,-0 230,-0 230,-0 235,-0 235,-0 240,-0 240,-0 245,-0 245,-0 250,-0 250,0\" style=\"fill:none; stroke:currentColor;\"/>\n",
       "</svg>\n",
       "</div>\n",
       "<div style=\"flex=grow:1;\">\n",
       "Regular(50, 0, 2.5, name='abseta')<br/>\n",
       "<hr style=\"margin-top:.2em; margin-bottom:.2em;\"/>\n",
       "Double() Σ=0.0\n",
       "\n",
       "</div>\n",
       "</div>\n",
       "</html>"
      ],
      "text/plain": [
       "Hist(Regular(50, 0, 2.5, name='abseta'), storage=Double()) # (has staged fills)"
      ]
     },
     "execution_count": 4,
     "metadata": {},
     "output_type": "execute_result"
    }
   ],
   "source": [
    "\n",
    "with dask.annotate(pushdown=\"servicex\"):\n",
    "    events = NanoEventsFactory.from_root(\n",
    "        {\n",
    "            \"nano_dy.root\": \"Events\",\n",
    "            \"nano_dy.root\": \"Events\",\n",
    "            \"nano_dy.root\": \"Events\",\n",
    "            \"nano_dy.root\": \"Events\",\n",
    "        },\n",
    "        metadata={\"dataset\": \"nano_dy\"},\n",
    "        schemaclass=NanoAODSchema,\n",
    "    ).events()\n",
    "\n",
    "    mask_pt = events.Muon.pt > 30\n",
    "    mask_eta = abs(events.Muon.eta) < 2.4\n",
    "    events = events[ak.any(mask_pt & mask_eta, axis=1)]\n",
    "    \n",
    "myhist = hda.Hist.new.Regular(50, 0, 2.5, name=\"abseta\").Double()\n",
    "\n",
    "myhist.fill(abseta=abs(events.Muon.eta))"
   ]
  },
  {
   "cell_type": "code",
   "execution_count": 5,
   "metadata": {},
   "outputs": [
    {
     "name": "stdout",
     "output_type": "stream",
     "text": [
      "Not a good instance from-uproot-1d33ce1279e7835ab27a0a7569d14435 <uproot._dask._UprootOpenAndRead object at 0x00000206D4952110>\n"
     ]
    },
    {
     "data": {
      "text/plain": [
       "[node_info(name='getitem-ee66d0bdfc11447330d3798fd686c954', function_name='getitem', input_nodes=['from-uproot-1d33ce1279e7835ab27a0a7569d14435', 'any-17977bd1efcaf1a970619dfda4e72ba7']),\n",
       " node_info(name='any-17977bd1efcaf1a970619dfda4e72ba7', function_name='any', input_nodes=['bitwise-and-20b0b3f5ef1db85cd961fedb5aa64e01']),\n",
       " node_info(name='bitwise-and-20b0b3f5ef1db85cd961fedb5aa64e01', function_name='bitwise_and', input_nodes=['greater-35ee09587b66b671244bac1ac757c4bf', 'less-de276097741012a179886604447699c7']),\n",
       " node_info(name='greater-35ee09587b66b671244bac1ac757c4bf', function_name='greater', input_nodes=['pt-4e299fb17ee6d067064e659957c85727', 30]),\n",
       " node_info(name='pt-4e299fb17ee6d067064e659957c85727', function_name='getitem', input_nodes=['Muon-0403d9d7ff884b0571955813c1db4f5d', 'pt']),\n",
       " node_info(name='Muon-0403d9d7ff884b0571955813c1db4f5d', function_name='getitem', input_nodes=['from-uproot-1d33ce1279e7835ab27a0a7569d14435', 'Muon']),\n",
       " node_info(name='less-de276097741012a179886604447699c7', function_name='less', input_nodes=['absolute-5ccda35711bce10af5d90455c7c642b1', 2.4]),\n",
       " node_info(name='absolute-5ccda35711bce10af5d90455c7c642b1', function_name='absolute', input_nodes=['eta-3e9fd565438be6b46328d189a535accd']),\n",
       " node_info(name='eta-3e9fd565438be6b46328d189a535accd', function_name='getitem', input_nodes=['Muon-5b65c79607d2fd1fc539a102304870e7', 'eta']),\n",
       " node_info(name='Muon-5b65c79607d2fd1fc539a102304870e7', function_name='getitem', input_nodes=['from-uproot-1d33ce1279e7835ab27a0a7569d14435', 'Muon'])]"
      ]
     },
     "execution_count": 5,
     "metadata": {},
     "output_type": "execute_result"
    }
   ],
   "source": [
    "extract_pushdown(myhist)"
   ]
  }
 ],
 "metadata": {
  "kernelspec": {
   "display_name": ".venv",
   "language": "python",
   "name": "python3"
  },
  "language_info": {
   "codemirror_mode": {
    "name": "ipython",
    "version": 3
   },
   "file_extension": ".py",
   "mimetype": "text/x-python",
   "name": "python",
   "nbconvert_exporter": "python",
   "pygments_lexer": "ipython3",
   "version": "3.11.6"
  },
  "orig_nbformat": 4
 },
 "nbformat": 4,
 "nbformat_minor": 2
}
