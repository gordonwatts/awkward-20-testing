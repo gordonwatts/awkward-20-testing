{
 "cells": [
  {
   "attachments": {},
   "cell_type": "markdown",
   "metadata": {},
   "source": [
    "# Using dask and awkward together\n",
    "\n",
    "Some basic tests/examples.\n",
    "\n",
    "Lets first try with a single data file."
   ]
  },
  {
   "attachments": {},
   "cell_type": "markdown",
   "metadata": {},
   "source": [
    "## Write out the data files"
   ]
  },
  {
   "cell_type": "code",
   "execution_count": 2,
   "metadata": {},
   "outputs": [],
   "source": [
    "from pathlib import Path\n",
    "\n",
    "data = {\n",
    "    'x': [1, 2, 3, 4, 5],\n",
    "}\n",
    "\n",
    "import json\n",
    "\n",
    "num_files = 100\n",
    "\n",
    "data_dir = Path(\"data\")\n",
    "if not data_dir.exists():\n",
    "    data_dir.mkdir()\n",
    "\n",
    "for i in range(num_files):\n",
    "    with open(data_dir / f'data{i}.json', 'w') as f:\n",
    "        json.dump(data, f)\n"
   ]
  },
  {
   "attachments": {},
   "cell_type": "markdown",
   "metadata": {},
   "source": [
    "## Using awkward 2.0\n",
    "\n",
    "Well, no new features - but just awkward - to load one of the files."
   ]
  },
  {
   "cell_type": "code",
   "execution_count": 4,
   "metadata": {},
   "outputs": [
    {
     "data": {
      "text/html": [
       "<pre>{x: [1, 2, 3, 4, 5]}\n",
       "--------------------\n",
       "type: {\n",
       "    x: var * int64\n",
       "}</pre>"
      ],
      "text/plain": [
       "<Record {x: [1, 2, 3, 4, 5]} type='{x: var * int64}'>"
      ]
     },
     "execution_count": 4,
     "metadata": {},
     "output_type": "execute_result"
    }
   ],
   "source": [
    "from pathlib import Path\n",
    "import awkward as ak\n",
    "\n",
    "file0 = data_dir / 'data0.json'\n",
    "x = ak.from_json(file0)\n",
    "x"
   ]
  },
  {
   "cell_type": "code",
   "execution_count": 5,
   "metadata": {},
   "outputs": [
    {
     "data": {
      "text/html": [
       "<pre>[1,\n",
       " 2,\n",
       " 3,\n",
       " 4,\n",
       " 5]\n",
       "---------------\n",
       "type: 5 * int64</pre>"
      ],
      "text/plain": [
       "<Array [1, 2, 3, 4, 5] type='5 * int64'>"
      ]
     },
     "execution_count": 5,
     "metadata": {},
     "output_type": "execute_result"
    }
   ],
   "source": [
    "x.x"
   ]
  },
  {
   "cell_type": "code",
   "execution_count": 6,
   "metadata": {},
   "outputs": [
    {
     "data": {
      "text/html": [
       "<pre>[3,\n",
       " 4,\n",
       " 5]\n",
       "---------------\n",
       "type: 3 * int64</pre>"
      ],
      "text/plain": [
       "<Array [3, 4, 5] type='3 * int64'>"
      ]
     },
     "execution_count": 6,
     "metadata": {},
     "output_type": "execute_result"
    }
   ],
   "source": [
    "x.x[x.x > 2]"
   ]
  },
  {
   "attachments": {},
   "cell_type": "markdown",
   "metadata": {},
   "source": [
    "## With awkward dask\n",
    "\n",
    "Look at the same thing, but with awkward dask - run the `compute`..."
   ]
  },
  {
   "cell_type": "code",
   "execution_count": 7,
   "metadata": {},
   "outputs": [
    {
     "data": {
      "text/plain": [
       "dask.awkward<getitem, npartitions=100>"
      ]
     },
     "execution_count": 7,
     "metadata": {},
     "output_type": "execute_result"
    }
   ],
   "source": [
    "import dask_awkward as dak\n",
    "\n",
    "x = dak.from_json(data_dir / \"data*.json\")\n",
    "result = x[x.x > 2]\n",
    "result"
   ]
  },
  {
   "attachments": {},
   "cell_type": "markdown",
   "metadata": {},
   "source": [
    "Ok - note that it already knows about the number of partitions here."
   ]
  },
  {
   "cell_type": "code",
   "execution_count": 8,
   "metadata": {},
   "outputs": [
    {
     "data": {
      "text/html": [
       "<pre>[{x: [3, 4, 5]},\n",
       " {x: [3, 4, 5]},\n",
       " {x: [3, 4, 5]},\n",
       " {x: [3, 4, 5]},\n",
       " {x: [3, 4, 5]},\n",
       " {x: [3, 4, 5]},\n",
       " {x: [3, 4, 5]},\n",
       " {x: [3, 4, 5]},\n",
       " {x: [3, 4, 5]},\n",
       " {x: [3, 4, 5]},\n",
       " ...,\n",
       " {x: [3, 4, 5]},\n",
       " {x: [3, 4, 5]},\n",
       " {x: [3, 4, 5]},\n",
       " {x: [3, 4, 5]},\n",
       " {x: [3, 4, 5]},\n",
       " {x: [3, 4, 5]},\n",
       " {x: [3, 4, 5]},\n",
       " {x: [3, 4, 5]},\n",
       " {x: [3, 4, 5]}]\n",
       "------------------\n",
       "type: 100 * {\n",
       "    x: var * int64\n",
       "}</pre>"
      ],
      "text/plain": [
       "<Array [{x: [3, 4, 5]}, ..., {x: [3, ...]}] type='100 * {x: var * int64}'>"
      ]
     },
     "execution_count": 8,
     "metadata": {},
     "output_type": "execute_result"
    }
   ],
   "source": [
    "result.compute()"
   ]
  },
  {
   "attachments": {},
   "cell_type": "markdown",
   "metadata": {},
   "source": [
    "Interesting - it is a list of items... I suppose that is because this isn't an array. Ahh... What if I actually access x?"
   ]
  },
  {
   "cell_type": "code",
   "execution_count": 9,
   "metadata": {},
   "outputs": [
    {
     "name": "stdout",
     "output_type": "stream",
     "text": [
      "dask.awkward<x, npartitions=100>\n"
     ]
    }
   ],
   "source": [
    "result2 = x[x.x > 2].x\n",
    "print(result2)"
   ]
  },
  {
   "cell_type": "code",
   "execution_count": 10,
   "metadata": {},
   "outputs": [
    {
     "data": {
      "text/html": [
       "<pre>[[3, 4, 5],\n",
       " [3, 4, 5],\n",
       " [3, 4, 5],\n",
       " [3, 4, 5],\n",
       " [3, 4, 5],\n",
       " [3, 4, 5],\n",
       " [3, 4, 5],\n",
       " [3, 4, 5],\n",
       " [3, 4, 5],\n",
       " [3, 4, 5],\n",
       " ...,\n",
       " [3, 4, 5],\n",
       " [3, 4, 5],\n",
       " [3, 4, 5],\n",
       " [3, 4, 5],\n",
       " [3, 4, 5],\n",
       " [3, 4, 5],\n",
       " [3, 4, 5],\n",
       " [3, 4, 5],\n",
       " [3, 4, 5]]\n",
       "-----------------------\n",
       "type: 100 * var * int64</pre>"
      ],
      "text/plain": [
       "<Array [[3, 4, 5], [3, 4, 5], ..., [...], [3, 4, 5]] type='100 * var * int64'>"
      ]
     },
     "execution_count": 10,
     "metadata": {},
     "output_type": "execute_result"
    }
   ],
   "source": [
    "result2.compute()"
   ]
  },
  {
   "attachments": {},
   "cell_type": "markdown",
   "metadata": {},
   "source": [
    "Still not concatenating them - I guess there must be a reducer that already does that... But it did all 100 files no problem."
   ]
  },
  {
   "cell_type": "code",
   "execution_count": 11,
   "metadata": {},
   "outputs": [
    {
     "data": {
      "text/plain": [
       "100"
      ]
     },
     "execution_count": 11,
     "metadata": {},
     "output_type": "execute_result"
    }
   ],
   "source": [
    "len(result2)"
   ]
  },
  {
   "attachments": {},
   "cell_type": "markdown",
   "metadata": {},
   "source": [
    "Also interesting - there is no `shape`. :-) Not at all surprised after everything."
   ]
  },
  {
   "attachments": {},
   "cell_type": "markdown",
   "metadata": {},
   "source": [
    "## Getting at the compute graph to see what we can do with it."
   ]
  },
  {
   "cell_type": "code",
   "execution_count": 12,
   "metadata": {},
   "outputs": [],
   "source": [
    "g = result2.__dask_graph__()"
   ]
  },
  {
   "cell_type": "code",
   "execution_count": 13,
   "metadata": {},
   "outputs": [
    {
     "data": {
      "text/plain": [
       "dask.highlevelgraph.HighLevelGraph"
      ]
     },
     "execution_count": 13,
     "metadata": {},
     "output_type": "execute_result"
    }
   ],
   "source": [
    "type(g)"
   ]
  },
  {
   "cell_type": "code",
   "execution_count": 14,
   "metadata": {},
   "outputs": [
    {
     "data": {
      "text/plain": [
       "dict_keys([('getitem-d336e5a0669e9fb71bac5622ee3a3078', 0), ('getitem-d336e5a0669e9fb71bac5622ee3a3078', 1), ('getitem-d336e5a0669e9fb71bac5622ee3a3078', 2), ('getitem-d336e5a0669e9fb71bac5622ee3a3078', 3), ('getitem-d336e5a0669e9fb71bac5622ee3a3078', 4), ('getitem-d336e5a0669e9fb71bac5622ee3a3078', 5), ('getitem-d336e5a0669e9fb71bac5622ee3a3078', 6), ('getitem-d336e5a0669e9fb71bac5622ee3a3078', 7), ('getitem-d336e5a0669e9fb71bac5622ee3a3078', 8), ('getitem-d336e5a0669e9fb71bac5622ee3a3078', 9), ('getitem-d336e5a0669e9fb71bac5622ee3a3078', 10), ('getitem-d336e5a0669e9fb71bac5622ee3a3078', 11), ('getitem-d336e5a0669e9fb71bac5622ee3a3078', 12), ('getitem-d336e5a0669e9fb71bac5622ee3a3078', 13), ('getitem-d336e5a0669e9fb71bac5622ee3a3078', 14), ('getitem-d336e5a0669e9fb71bac5622ee3a3078', 15), ('getitem-d336e5a0669e9fb71bac5622ee3a3078', 16), ('getitem-d336e5a0669e9fb71bac5622ee3a3078', 17), ('getitem-d336e5a0669e9fb71bac5622ee3a3078', 18), ('getitem-d336e5a0669e9fb71bac5622ee3a3078', 19), ('getitem-d336e5a0669e9fb71bac5622ee3a3078', 20), ('getitem-d336e5a0669e9fb71bac5622ee3a3078', 21), ('getitem-d336e5a0669e9fb71bac5622ee3a3078', 22), ('getitem-d336e5a0669e9fb71bac5622ee3a3078', 23), ('getitem-d336e5a0669e9fb71bac5622ee3a3078', 24), ('getitem-d336e5a0669e9fb71bac5622ee3a3078', 25), ('getitem-d336e5a0669e9fb71bac5622ee3a3078', 26), ('getitem-d336e5a0669e9fb71bac5622ee3a3078', 27), ('getitem-d336e5a0669e9fb71bac5622ee3a3078', 28), ('getitem-d336e5a0669e9fb71bac5622ee3a3078', 29), ('getitem-d336e5a0669e9fb71bac5622ee3a3078', 30), ('getitem-d336e5a0669e9fb71bac5622ee3a3078', 31), ('getitem-d336e5a0669e9fb71bac5622ee3a3078', 32), ('getitem-d336e5a0669e9fb71bac5622ee3a3078', 33), ('getitem-d336e5a0669e9fb71bac5622ee3a3078', 34), ('getitem-d336e5a0669e9fb71bac5622ee3a3078', 35), ('getitem-d336e5a0669e9fb71bac5622ee3a3078', 36), ('getitem-d336e5a0669e9fb71bac5622ee3a3078', 37), ('getitem-d336e5a0669e9fb71bac5622ee3a3078', 38), ('getitem-d336e5a0669e9fb71bac5622ee3a3078', 39), ('getitem-d336e5a0669e9fb71bac5622ee3a3078', 40), ('getitem-d336e5a0669e9fb71bac5622ee3a3078', 41), ('getitem-d336e5a0669e9fb71bac5622ee3a3078', 42), ('getitem-d336e5a0669e9fb71bac5622ee3a3078', 43), ('getitem-d336e5a0669e9fb71bac5622ee3a3078', 44), ('getitem-d336e5a0669e9fb71bac5622ee3a3078', 45), ('getitem-d336e5a0669e9fb71bac5622ee3a3078', 46), ('getitem-d336e5a0669e9fb71bac5622ee3a3078', 47), ('getitem-d336e5a0669e9fb71bac5622ee3a3078', 48), ('getitem-d336e5a0669e9fb71bac5622ee3a3078', 49), ('getitem-d336e5a0669e9fb71bac5622ee3a3078', 50), ('getitem-d336e5a0669e9fb71bac5622ee3a3078', 51), ('getitem-d336e5a0669e9fb71bac5622ee3a3078', 52), ('getitem-d336e5a0669e9fb71bac5622ee3a3078', 53), ('getitem-d336e5a0669e9fb71bac5622ee3a3078', 54), ('getitem-d336e5a0669e9fb71bac5622ee3a3078', 55), ('getitem-d336e5a0669e9fb71bac5622ee3a3078', 56), ('getitem-d336e5a0669e9fb71bac5622ee3a3078', 57), ('getitem-d336e5a0669e9fb71bac5622ee3a3078', 58), ('getitem-d336e5a0669e9fb71bac5622ee3a3078', 59), ('getitem-d336e5a0669e9fb71bac5622ee3a3078', 60), ('getitem-d336e5a0669e9fb71bac5622ee3a3078', 61), ('getitem-d336e5a0669e9fb71bac5622ee3a3078', 62), ('getitem-d336e5a0669e9fb71bac5622ee3a3078', 63), ('getitem-d336e5a0669e9fb71bac5622ee3a3078', 64), ('getitem-d336e5a0669e9fb71bac5622ee3a3078', 65), ('getitem-d336e5a0669e9fb71bac5622ee3a3078', 66), ('getitem-d336e5a0669e9fb71bac5622ee3a3078', 67), ('getitem-d336e5a0669e9fb71bac5622ee3a3078', 68), ('getitem-d336e5a0669e9fb71bac5622ee3a3078', 69), ('getitem-d336e5a0669e9fb71bac5622ee3a3078', 70), ('getitem-d336e5a0669e9fb71bac5622ee3a3078', 71), ('getitem-d336e5a0669e9fb71bac5622ee3a3078', 72), ('getitem-d336e5a0669e9fb71bac5622ee3a3078', 73), ('getitem-d336e5a0669e9fb71bac5622ee3a3078', 74), ('getitem-d336e5a0669e9fb71bac5622ee3a3078', 75), ('getitem-d336e5a0669e9fb71bac5622ee3a3078', 76), ('getitem-d336e5a0669e9fb71bac5622ee3a3078', 77), ('getitem-d336e5a0669e9fb71bac5622ee3a3078', 78), ('getitem-d336e5a0669e9fb71bac5622ee3a3078', 79), ('getitem-d336e5a0669e9fb71bac5622ee3a3078', 80), ('getitem-d336e5a0669e9fb71bac5622ee3a3078', 81), ('getitem-d336e5a0669e9fb71bac5622ee3a3078', 82), ('getitem-d336e5a0669e9fb71bac5622ee3a3078', 83), ('getitem-d336e5a0669e9fb71bac5622ee3a3078', 84), ('getitem-d336e5a0669e9fb71bac5622ee3a3078', 85), ('getitem-d336e5a0669e9fb71bac5622ee3a3078', 86), ('getitem-d336e5a0669e9fb71bac5622ee3a3078', 87), ('getitem-d336e5a0669e9fb71bac5622ee3a3078', 88), ('getitem-d336e5a0669e9fb71bac5622ee3a3078', 89), ('getitem-d336e5a0669e9fb71bac5622ee3a3078', 90), ('getitem-d336e5a0669e9fb71bac5622ee3a3078', 91), ('getitem-d336e5a0669e9fb71bac5622ee3a3078', 92), ('getitem-d336e5a0669e9fb71bac5622ee3a3078', 93), ('getitem-d336e5a0669e9fb71bac5622ee3a3078', 94), ('getitem-d336e5a0669e9fb71bac5622ee3a3078', 95), ('getitem-d336e5a0669e9fb71bac5622ee3a3078', 96), ('getitem-d336e5a0669e9fb71bac5622ee3a3078', 97), ('getitem-d336e5a0669e9fb71bac5622ee3a3078', 98), ('getitem-d336e5a0669e9fb71bac5622ee3a3078', 99), ('from-json-9d126f133bab0b51bb09d49783e34032', 0), ('from-json-9d126f133bab0b51bb09d49783e34032', 1), ('from-json-9d126f133bab0b51bb09d49783e34032', 2), ('from-json-9d126f133bab0b51bb09d49783e34032', 3), ('from-json-9d126f133bab0b51bb09d49783e34032', 4), ('from-json-9d126f133bab0b51bb09d49783e34032', 5), ('from-json-9d126f133bab0b51bb09d49783e34032', 6), ('from-json-9d126f133bab0b51bb09d49783e34032', 7), ('from-json-9d126f133bab0b51bb09d49783e34032', 8), ('from-json-9d126f133bab0b51bb09d49783e34032', 9), ('from-json-9d126f133bab0b51bb09d49783e34032', 10), ('from-json-9d126f133bab0b51bb09d49783e34032', 11), ('from-json-9d126f133bab0b51bb09d49783e34032', 12), ('from-json-9d126f133bab0b51bb09d49783e34032', 13), ('from-json-9d126f133bab0b51bb09d49783e34032', 14), ('from-json-9d126f133bab0b51bb09d49783e34032', 15), ('from-json-9d126f133bab0b51bb09d49783e34032', 16), ('from-json-9d126f133bab0b51bb09d49783e34032', 17), ('from-json-9d126f133bab0b51bb09d49783e34032', 18), ('from-json-9d126f133bab0b51bb09d49783e34032', 19), ('from-json-9d126f133bab0b51bb09d49783e34032', 20), ('from-json-9d126f133bab0b51bb09d49783e34032', 21), ('from-json-9d126f133bab0b51bb09d49783e34032', 22), ('from-json-9d126f133bab0b51bb09d49783e34032', 23), ('from-json-9d126f133bab0b51bb09d49783e34032', 24), ('from-json-9d126f133bab0b51bb09d49783e34032', 25), ('from-json-9d126f133bab0b51bb09d49783e34032', 26), ('from-json-9d126f133bab0b51bb09d49783e34032', 27), ('from-json-9d126f133bab0b51bb09d49783e34032', 28), ('from-json-9d126f133bab0b51bb09d49783e34032', 29), ('from-json-9d126f133bab0b51bb09d49783e34032', 30), ('from-json-9d126f133bab0b51bb09d49783e34032', 31), ('from-json-9d126f133bab0b51bb09d49783e34032', 32), ('from-json-9d126f133bab0b51bb09d49783e34032', 33), ('from-json-9d126f133bab0b51bb09d49783e34032', 34), ('from-json-9d126f133bab0b51bb09d49783e34032', 35), ('from-json-9d126f133bab0b51bb09d49783e34032', 36), ('from-json-9d126f133bab0b51bb09d49783e34032', 37), ('from-json-9d126f133bab0b51bb09d49783e34032', 38), ('from-json-9d126f133bab0b51bb09d49783e34032', 39), ('from-json-9d126f133bab0b51bb09d49783e34032', 40), ('from-json-9d126f133bab0b51bb09d49783e34032', 41), ('from-json-9d126f133bab0b51bb09d49783e34032', 42), ('from-json-9d126f133bab0b51bb09d49783e34032', 43), ('from-json-9d126f133bab0b51bb09d49783e34032', 44), ('from-json-9d126f133bab0b51bb09d49783e34032', 45), ('from-json-9d126f133bab0b51bb09d49783e34032', 46), ('from-json-9d126f133bab0b51bb09d49783e34032', 47), ('from-json-9d126f133bab0b51bb09d49783e34032', 48), ('from-json-9d126f133bab0b51bb09d49783e34032', 49), ('from-json-9d126f133bab0b51bb09d49783e34032', 50), ('from-json-9d126f133bab0b51bb09d49783e34032', 51), ('from-json-9d126f133bab0b51bb09d49783e34032', 52), ('from-json-9d126f133bab0b51bb09d49783e34032', 53), ('from-json-9d126f133bab0b51bb09d49783e34032', 54), ('from-json-9d126f133bab0b51bb09d49783e34032', 55), ('from-json-9d126f133bab0b51bb09d49783e34032', 56), ('from-json-9d126f133bab0b51bb09d49783e34032', 57), ('from-json-9d126f133bab0b51bb09d49783e34032', 58), ('from-json-9d126f133bab0b51bb09d49783e34032', 59), ('from-json-9d126f133bab0b51bb09d49783e34032', 60), ('from-json-9d126f133bab0b51bb09d49783e34032', 61), ('from-json-9d126f133bab0b51bb09d49783e34032', 62), ('from-json-9d126f133bab0b51bb09d49783e34032', 63), ('from-json-9d126f133bab0b51bb09d49783e34032', 64), ('from-json-9d126f133bab0b51bb09d49783e34032', 65), ('from-json-9d126f133bab0b51bb09d49783e34032', 66), ('from-json-9d126f133bab0b51bb09d49783e34032', 67), ('from-json-9d126f133bab0b51bb09d49783e34032', 68), ('from-json-9d126f133bab0b51bb09d49783e34032', 69), ('from-json-9d126f133bab0b51bb09d49783e34032', 70), ('from-json-9d126f133bab0b51bb09d49783e34032', 71), ('from-json-9d126f133bab0b51bb09d49783e34032', 72), ('from-json-9d126f133bab0b51bb09d49783e34032', 73), ('from-json-9d126f133bab0b51bb09d49783e34032', 74), ('from-json-9d126f133bab0b51bb09d49783e34032', 75), ('from-json-9d126f133bab0b51bb09d49783e34032', 76), ('from-json-9d126f133bab0b51bb09d49783e34032', 77), ('from-json-9d126f133bab0b51bb09d49783e34032', 78), ('from-json-9d126f133bab0b51bb09d49783e34032', 79), ('from-json-9d126f133bab0b51bb09d49783e34032', 80), ('from-json-9d126f133bab0b51bb09d49783e34032', 81), ('from-json-9d126f133bab0b51bb09d49783e34032', 82), ('from-json-9d126f133bab0b51bb09d49783e34032', 83), ('from-json-9d126f133bab0b51bb09d49783e34032', 84), ('from-json-9d126f133bab0b51bb09d49783e34032', 85), ('from-json-9d126f133bab0b51bb09d49783e34032', 86), ('from-json-9d126f133bab0b51bb09d49783e34032', 87), ('from-json-9d126f133bab0b51bb09d49783e34032', 88), ('from-json-9d126f133bab0b51bb09d49783e34032', 89), ('from-json-9d126f133bab0b51bb09d49783e34032', 90), ('from-json-9d126f133bab0b51bb09d49783e34032', 91), ('from-json-9d126f133bab0b51bb09d49783e34032', 92), ('from-json-9d126f133bab0b51bb09d49783e34032', 93), ('from-json-9d126f133bab0b51bb09d49783e34032', 94), ('from-json-9d126f133bab0b51bb09d49783e34032', 95), ('from-json-9d126f133bab0b51bb09d49783e34032', 96), ('from-json-9d126f133bab0b51bb09d49783e34032', 97), ('from-json-9d126f133bab0b51bb09d49783e34032', 98), ('from-json-9d126f133bab0b51bb09d49783e34032', 99), ('x-a03afce92af077634178bbcecf97264c', 0), ('x-a03afce92af077634178bbcecf97264c', 1), ('x-a03afce92af077634178bbcecf97264c', 2), ('x-a03afce92af077634178bbcecf97264c', 3), ('x-a03afce92af077634178bbcecf97264c', 4), ('x-a03afce92af077634178bbcecf97264c', 5), ('x-a03afce92af077634178bbcecf97264c', 6), ('x-a03afce92af077634178bbcecf97264c', 7), ('x-a03afce92af077634178bbcecf97264c', 8), ('x-a03afce92af077634178bbcecf97264c', 9), ('x-a03afce92af077634178bbcecf97264c', 10), ('x-a03afce92af077634178bbcecf97264c', 11), ('x-a03afce92af077634178bbcecf97264c', 12), ('x-a03afce92af077634178bbcecf97264c', 13), ('x-a03afce92af077634178bbcecf97264c', 14), ('x-a03afce92af077634178bbcecf97264c', 15), ('x-a03afce92af077634178bbcecf97264c', 16), ('x-a03afce92af077634178bbcecf97264c', 17), ('x-a03afce92af077634178bbcecf97264c', 18), ('x-a03afce92af077634178bbcecf97264c', 19), ('x-a03afce92af077634178bbcecf97264c', 20), ('x-a03afce92af077634178bbcecf97264c', 21), ('x-a03afce92af077634178bbcecf97264c', 22), ('x-a03afce92af077634178bbcecf97264c', 23), ('x-a03afce92af077634178bbcecf97264c', 24), ('x-a03afce92af077634178bbcecf97264c', 25), ('x-a03afce92af077634178bbcecf97264c', 26), ('x-a03afce92af077634178bbcecf97264c', 27), ('x-a03afce92af077634178bbcecf97264c', 28), ('x-a03afce92af077634178bbcecf97264c', 29), ('x-a03afce92af077634178bbcecf97264c', 30), ('x-a03afce92af077634178bbcecf97264c', 31), ('x-a03afce92af077634178bbcecf97264c', 32), ('x-a03afce92af077634178bbcecf97264c', 33), ('x-a03afce92af077634178bbcecf97264c', 34), ('x-a03afce92af077634178bbcecf97264c', 35), ('x-a03afce92af077634178bbcecf97264c', 36), ('x-a03afce92af077634178bbcecf97264c', 37), ('x-a03afce92af077634178bbcecf97264c', 38), ('x-a03afce92af077634178bbcecf97264c', 39), ('x-a03afce92af077634178bbcecf97264c', 40), ('x-a03afce92af077634178bbcecf97264c', 41), ('x-a03afce92af077634178bbcecf97264c', 42), ('x-a03afce92af077634178bbcecf97264c', 43), ('x-a03afce92af077634178bbcecf97264c', 44), ('x-a03afce92af077634178bbcecf97264c', 45), ('x-a03afce92af077634178bbcecf97264c', 46), ('x-a03afce92af077634178bbcecf97264c', 47), ('x-a03afce92af077634178bbcecf97264c', 48), ('x-a03afce92af077634178bbcecf97264c', 49), ('x-a03afce92af077634178bbcecf97264c', 50), ('x-a03afce92af077634178bbcecf97264c', 51), ('x-a03afce92af077634178bbcecf97264c', 52), ('x-a03afce92af077634178bbcecf97264c', 53), ('x-a03afce92af077634178bbcecf97264c', 54), ('x-a03afce92af077634178bbcecf97264c', 55), ('x-a03afce92af077634178bbcecf97264c', 56), ('x-a03afce92af077634178bbcecf97264c', 57), ('x-a03afce92af077634178bbcecf97264c', 58), ('x-a03afce92af077634178bbcecf97264c', 59), ('x-a03afce92af077634178bbcecf97264c', 60), ('x-a03afce92af077634178bbcecf97264c', 61), ('x-a03afce92af077634178bbcecf97264c', 62), ('x-a03afce92af077634178bbcecf97264c', 63), ('x-a03afce92af077634178bbcecf97264c', 64), ('x-a03afce92af077634178bbcecf97264c', 65), ('x-a03afce92af077634178bbcecf97264c', 66), ('x-a03afce92af077634178bbcecf97264c', 67), ('x-a03afce92af077634178bbcecf97264c', 68), ('x-a03afce92af077634178bbcecf97264c', 69), ('x-a03afce92af077634178bbcecf97264c', 70), ('x-a03afce92af077634178bbcecf97264c', 71), ('x-a03afce92af077634178bbcecf97264c', 72), ('x-a03afce92af077634178bbcecf97264c', 73), ('x-a03afce92af077634178bbcecf97264c', 74), ('x-a03afce92af077634178bbcecf97264c', 75), ('x-a03afce92af077634178bbcecf97264c', 76), ('x-a03afce92af077634178bbcecf97264c', 77), ('x-a03afce92af077634178bbcecf97264c', 78), ('x-a03afce92af077634178bbcecf97264c', 79), ('x-a03afce92af077634178bbcecf97264c', 80), ('x-a03afce92af077634178bbcecf97264c', 81), ('x-a03afce92af077634178bbcecf97264c', 82), ('x-a03afce92af077634178bbcecf97264c', 83), ('x-a03afce92af077634178bbcecf97264c', 84), ('x-a03afce92af077634178bbcecf97264c', 85), ('x-a03afce92af077634178bbcecf97264c', 86), ('x-a03afce92af077634178bbcecf97264c', 87), ('x-a03afce92af077634178bbcecf97264c', 88), ('x-a03afce92af077634178bbcecf97264c', 89), ('x-a03afce92af077634178bbcecf97264c', 90), ('x-a03afce92af077634178bbcecf97264c', 91), ('x-a03afce92af077634178bbcecf97264c', 92), ('x-a03afce92af077634178bbcecf97264c', 93), ('x-a03afce92af077634178bbcecf97264c', 94), ('x-a03afce92af077634178bbcecf97264c', 95), ('x-a03afce92af077634178bbcecf97264c', 96), ('x-a03afce92af077634178bbcecf97264c', 97), ('x-a03afce92af077634178bbcecf97264c', 98), ('x-a03afce92af077634178bbcecf97264c', 99), ('greater-4a85e82529e5e3e94757b8392a4471db', 0), ('greater-4a85e82529e5e3e94757b8392a4471db', 1), ('greater-4a85e82529e5e3e94757b8392a4471db', 2), ('greater-4a85e82529e5e3e94757b8392a4471db', 3), ('greater-4a85e82529e5e3e94757b8392a4471db', 4), ('greater-4a85e82529e5e3e94757b8392a4471db', 5), ('greater-4a85e82529e5e3e94757b8392a4471db', 6), ('greater-4a85e82529e5e3e94757b8392a4471db', 7), ('greater-4a85e82529e5e3e94757b8392a4471db', 8), ('greater-4a85e82529e5e3e94757b8392a4471db', 9), ('greater-4a85e82529e5e3e94757b8392a4471db', 10), ('greater-4a85e82529e5e3e94757b8392a4471db', 11), ('greater-4a85e82529e5e3e94757b8392a4471db', 12), ('greater-4a85e82529e5e3e94757b8392a4471db', 13), ('greater-4a85e82529e5e3e94757b8392a4471db', 14), ('greater-4a85e82529e5e3e94757b8392a4471db', 15), ('greater-4a85e82529e5e3e94757b8392a4471db', 16), ('greater-4a85e82529e5e3e94757b8392a4471db', 17), ('greater-4a85e82529e5e3e94757b8392a4471db', 18), ('greater-4a85e82529e5e3e94757b8392a4471db', 19), ('greater-4a85e82529e5e3e94757b8392a4471db', 20), ('greater-4a85e82529e5e3e94757b8392a4471db', 21), ('greater-4a85e82529e5e3e94757b8392a4471db', 22), ('greater-4a85e82529e5e3e94757b8392a4471db', 23), ('greater-4a85e82529e5e3e94757b8392a4471db', 24), ('greater-4a85e82529e5e3e94757b8392a4471db', 25), ('greater-4a85e82529e5e3e94757b8392a4471db', 26), ('greater-4a85e82529e5e3e94757b8392a4471db', 27), ('greater-4a85e82529e5e3e94757b8392a4471db', 28), ('greater-4a85e82529e5e3e94757b8392a4471db', 29), ('greater-4a85e82529e5e3e94757b8392a4471db', 30), ('greater-4a85e82529e5e3e94757b8392a4471db', 31), ('greater-4a85e82529e5e3e94757b8392a4471db', 32), ('greater-4a85e82529e5e3e94757b8392a4471db', 33), ('greater-4a85e82529e5e3e94757b8392a4471db', 34), ('greater-4a85e82529e5e3e94757b8392a4471db', 35), ('greater-4a85e82529e5e3e94757b8392a4471db', 36), ('greater-4a85e82529e5e3e94757b8392a4471db', 37), ('greater-4a85e82529e5e3e94757b8392a4471db', 38), ('greater-4a85e82529e5e3e94757b8392a4471db', 39), ('greater-4a85e82529e5e3e94757b8392a4471db', 40), ('greater-4a85e82529e5e3e94757b8392a4471db', 41), ('greater-4a85e82529e5e3e94757b8392a4471db', 42), ('greater-4a85e82529e5e3e94757b8392a4471db', 43), ('greater-4a85e82529e5e3e94757b8392a4471db', 44), ('greater-4a85e82529e5e3e94757b8392a4471db', 45), ('greater-4a85e82529e5e3e94757b8392a4471db', 46), ('greater-4a85e82529e5e3e94757b8392a4471db', 47), ('greater-4a85e82529e5e3e94757b8392a4471db', 48), ('greater-4a85e82529e5e3e94757b8392a4471db', 49), ('greater-4a85e82529e5e3e94757b8392a4471db', 50), ('greater-4a85e82529e5e3e94757b8392a4471db', 51), ('greater-4a85e82529e5e3e94757b8392a4471db', 52), ('greater-4a85e82529e5e3e94757b8392a4471db', 53), ('greater-4a85e82529e5e3e94757b8392a4471db', 54), ('greater-4a85e82529e5e3e94757b8392a4471db', 55), ('greater-4a85e82529e5e3e94757b8392a4471db', 56), ('greater-4a85e82529e5e3e94757b8392a4471db', 57), ('greater-4a85e82529e5e3e94757b8392a4471db', 58), ('greater-4a85e82529e5e3e94757b8392a4471db', 59), ('greater-4a85e82529e5e3e94757b8392a4471db', 60), ('greater-4a85e82529e5e3e94757b8392a4471db', 61), ('greater-4a85e82529e5e3e94757b8392a4471db', 62), ('greater-4a85e82529e5e3e94757b8392a4471db', 63), ('greater-4a85e82529e5e3e94757b8392a4471db', 64), ('greater-4a85e82529e5e3e94757b8392a4471db', 65), ('greater-4a85e82529e5e3e94757b8392a4471db', 66), ('greater-4a85e82529e5e3e94757b8392a4471db', 67), ('greater-4a85e82529e5e3e94757b8392a4471db', 68), ('greater-4a85e82529e5e3e94757b8392a4471db', 69), ('greater-4a85e82529e5e3e94757b8392a4471db', 70), ('greater-4a85e82529e5e3e94757b8392a4471db', 71), ('greater-4a85e82529e5e3e94757b8392a4471db', 72), ('greater-4a85e82529e5e3e94757b8392a4471db', 73), ('greater-4a85e82529e5e3e94757b8392a4471db', 74), ('greater-4a85e82529e5e3e94757b8392a4471db', 75), ('greater-4a85e82529e5e3e94757b8392a4471db', 76), ('greater-4a85e82529e5e3e94757b8392a4471db', 77), ('greater-4a85e82529e5e3e94757b8392a4471db', 78), ('greater-4a85e82529e5e3e94757b8392a4471db', 79), ('greater-4a85e82529e5e3e94757b8392a4471db', 80), ('greater-4a85e82529e5e3e94757b8392a4471db', 81), ('greater-4a85e82529e5e3e94757b8392a4471db', 82), ('greater-4a85e82529e5e3e94757b8392a4471db', 83), ('greater-4a85e82529e5e3e94757b8392a4471db', 84), ('greater-4a85e82529e5e3e94757b8392a4471db', 85), ('greater-4a85e82529e5e3e94757b8392a4471db', 86), ('greater-4a85e82529e5e3e94757b8392a4471db', 87), ('greater-4a85e82529e5e3e94757b8392a4471db', 88), ('greater-4a85e82529e5e3e94757b8392a4471db', 89), ('greater-4a85e82529e5e3e94757b8392a4471db', 90), ('greater-4a85e82529e5e3e94757b8392a4471db', 91), ('greater-4a85e82529e5e3e94757b8392a4471db', 92), ('greater-4a85e82529e5e3e94757b8392a4471db', 93), ('greater-4a85e82529e5e3e94757b8392a4471db', 94), ('greater-4a85e82529e5e3e94757b8392a4471db', 95), ('greater-4a85e82529e5e3e94757b8392a4471db', 96), ('greater-4a85e82529e5e3e94757b8392a4471db', 97), ('greater-4a85e82529e5e3e94757b8392a4471db', 98), ('greater-4a85e82529e5e3e94757b8392a4471db', 99), ('x-99850a91593bafe06d03742462e531d5', 0), ('x-99850a91593bafe06d03742462e531d5', 1), ('x-99850a91593bafe06d03742462e531d5', 2), ('x-99850a91593bafe06d03742462e531d5', 3), ('x-99850a91593bafe06d03742462e531d5', 4), ('x-99850a91593bafe06d03742462e531d5', 5), ('x-99850a91593bafe06d03742462e531d5', 6), ('x-99850a91593bafe06d03742462e531d5', 7), ('x-99850a91593bafe06d03742462e531d5', 8), ('x-99850a91593bafe06d03742462e531d5', 9), ('x-99850a91593bafe06d03742462e531d5', 10), ('x-99850a91593bafe06d03742462e531d5', 11), ('x-99850a91593bafe06d03742462e531d5', 12), ('x-99850a91593bafe06d03742462e531d5', 13), ('x-99850a91593bafe06d03742462e531d5', 14), ('x-99850a91593bafe06d03742462e531d5', 15), ('x-99850a91593bafe06d03742462e531d5', 16), ('x-99850a91593bafe06d03742462e531d5', 17), ('x-99850a91593bafe06d03742462e531d5', 18), ('x-99850a91593bafe06d03742462e531d5', 19), ('x-99850a91593bafe06d03742462e531d5', 20), ('x-99850a91593bafe06d03742462e531d5', 21), ('x-99850a91593bafe06d03742462e531d5', 22), ('x-99850a91593bafe06d03742462e531d5', 23), ('x-99850a91593bafe06d03742462e531d5', 24), ('x-99850a91593bafe06d03742462e531d5', 25), ('x-99850a91593bafe06d03742462e531d5', 26), ('x-99850a91593bafe06d03742462e531d5', 27), ('x-99850a91593bafe06d03742462e531d5', 28), ('x-99850a91593bafe06d03742462e531d5', 29), ('x-99850a91593bafe06d03742462e531d5', 30), ('x-99850a91593bafe06d03742462e531d5', 31), ('x-99850a91593bafe06d03742462e531d5', 32), ('x-99850a91593bafe06d03742462e531d5', 33), ('x-99850a91593bafe06d03742462e531d5', 34), ('x-99850a91593bafe06d03742462e531d5', 35), ('x-99850a91593bafe06d03742462e531d5', 36), ('x-99850a91593bafe06d03742462e531d5', 37), ('x-99850a91593bafe06d03742462e531d5', 38), ('x-99850a91593bafe06d03742462e531d5', 39), ('x-99850a91593bafe06d03742462e531d5', 40), ('x-99850a91593bafe06d03742462e531d5', 41), ('x-99850a91593bafe06d03742462e531d5', 42), ('x-99850a91593bafe06d03742462e531d5', 43), ('x-99850a91593bafe06d03742462e531d5', 44), ('x-99850a91593bafe06d03742462e531d5', 45), ('x-99850a91593bafe06d03742462e531d5', 46), ('x-99850a91593bafe06d03742462e531d5', 47), ('x-99850a91593bafe06d03742462e531d5', 48), ('x-99850a91593bafe06d03742462e531d5', 49), ('x-99850a91593bafe06d03742462e531d5', 50), ('x-99850a91593bafe06d03742462e531d5', 51), ('x-99850a91593bafe06d03742462e531d5', 52), ('x-99850a91593bafe06d03742462e531d5', 53), ('x-99850a91593bafe06d03742462e531d5', 54), ('x-99850a91593bafe06d03742462e531d5', 55), ('x-99850a91593bafe06d03742462e531d5', 56), ('x-99850a91593bafe06d03742462e531d5', 57), ('x-99850a91593bafe06d03742462e531d5', 58), ('x-99850a91593bafe06d03742462e531d5', 59), ('x-99850a91593bafe06d03742462e531d5', 60), ('x-99850a91593bafe06d03742462e531d5', 61), ('x-99850a91593bafe06d03742462e531d5', 62), ('x-99850a91593bafe06d03742462e531d5', 63), ('x-99850a91593bafe06d03742462e531d5', 64), ('x-99850a91593bafe06d03742462e531d5', 65), ('x-99850a91593bafe06d03742462e531d5', 66), ('x-99850a91593bafe06d03742462e531d5', 67), ('x-99850a91593bafe06d03742462e531d5', 68), ('x-99850a91593bafe06d03742462e531d5', 69), ('x-99850a91593bafe06d03742462e531d5', 70), ('x-99850a91593bafe06d03742462e531d5', 71), ('x-99850a91593bafe06d03742462e531d5', 72), ('x-99850a91593bafe06d03742462e531d5', 73), ('x-99850a91593bafe06d03742462e531d5', 74), ('x-99850a91593bafe06d03742462e531d5', 75), ('x-99850a91593bafe06d03742462e531d5', 76), ('x-99850a91593bafe06d03742462e531d5', 77), ('x-99850a91593bafe06d03742462e531d5', 78), ('x-99850a91593bafe06d03742462e531d5', 79), ('x-99850a91593bafe06d03742462e531d5', 80), ('x-99850a91593bafe06d03742462e531d5', 81), ('x-99850a91593bafe06d03742462e531d5', 82), ('x-99850a91593bafe06d03742462e531d5', 83), ('x-99850a91593bafe06d03742462e531d5', 84), ('x-99850a91593bafe06d03742462e531d5', 85), ('x-99850a91593bafe06d03742462e531d5', 86), ('x-99850a91593bafe06d03742462e531d5', 87), ('x-99850a91593bafe06d03742462e531d5', 88), ('x-99850a91593bafe06d03742462e531d5', 89), ('x-99850a91593bafe06d03742462e531d5', 90), ('x-99850a91593bafe06d03742462e531d5', 91), ('x-99850a91593bafe06d03742462e531d5', 92), ('x-99850a91593bafe06d03742462e531d5', 93), ('x-99850a91593bafe06d03742462e531d5', 94), ('x-99850a91593bafe06d03742462e531d5', 95), ('x-99850a91593bafe06d03742462e531d5', 96), ('x-99850a91593bafe06d03742462e531d5', 97), ('x-99850a91593bafe06d03742462e531d5', 98), ('x-99850a91593bafe06d03742462e531d5', 99)])"
      ]
     },
     "execution_count": 14,
     "metadata": {},
     "output_type": "execute_result"
    }
   ],
   "source": [
    "g.keys()"
   ]
  },
  {
   "attachments": {},
   "cell_type": "markdown",
   "metadata": {},
   "source": [
    "Ok - too hard to understand. Lets do it for one file."
   ]
  },
  {
   "cell_type": "code",
   "execution_count": 16,
   "metadata": {},
   "outputs": [
    {
     "data": {
      "text/plain": [
       "dask.awkward<x, npartitions=1>"
      ]
     },
     "execution_count": 16,
     "metadata": {},
     "output_type": "execute_result"
    }
   ],
   "source": [
    "import dask_awkward as dak\n",
    "\n",
    "x = dak.from_json(data_dir / \"data0.json\")\n",
    "result3 = x[x.x > 2].x\n",
    "result3"
   ]
  },
  {
   "cell_type": "code",
   "execution_count": 17,
   "metadata": {},
   "outputs": [
    {
     "data": {
      "text/plain": [
       "dict_keys([('getitem-269115c3a09b1bdb533d0895c8d196d3', 0), ('from-json-acba5d7bdc72da2435e076b415679279', 0), ('x-3e77717131bc0f095721866a03f19fde', 0), ('greater-a0b1915b578dd801441ba6e7b2e46ab8', 0), ('x-a6dee122d47eac04388c613aa3a390dd', 0)])"
      ]
     },
     "execution_count": 17,
     "metadata": {},
     "output_type": "execute_result"
    }
   ],
   "source": [
    "g = result3.__dask_graph__()\n",
    "g.keys()"
   ]
  },
  {
   "cell_type": "code",
   "execution_count": 18,
   "metadata": {},
   "outputs": [
    {
     "name": "stdout",
     "output_type": "stream",
     "text": [
      "('getitem-269115c3a09b1bdb533d0895c8d196d3', 0) (subgraph_callable-9069b17f-5653-48ea-96d0-92b2782417d9, ('from-json-acba5d7bdc72da2435e076b415679279', 0), ('greater-a0b1915b578dd801441ba6e7b2e46ab8', 0))\n",
      "\n",
      "('from-json-acba5d7bdc72da2435e076b415679279', 0) (subgraph_callable-53dc6c3e-4ed3-4cc2-b4b2-29cd4cd9d75b, 'c:/Users/gordo/Code/iris-hep/awkward-20-testing/notebooks/data/data0.json')\n",
      "\n",
      "('x-3e77717131bc0f095721866a03f19fde', 0) (subgraph_callable-ac8830ff-f4b2-4578-9ae2-2f0914c6dfd4, ('from-json-acba5d7bdc72da2435e076b415679279', 0), 'x')\n",
      "\n",
      "('greater-a0b1915b578dd801441ba6e7b2e46ab8', 0) (subgraph_callable-945a6074-49e6-42da-a288-935b6358fd9f, ('x-3e77717131bc0f095721866a03f19fde', 0), 2)\n",
      "\n",
      "('x-a6dee122d47eac04388c613aa3a390dd', 0) (subgraph_callable-8f2a4333-8cb9-4a6d-861a-902f3105fd01, ('getitem-269115c3a09b1bdb533d0895c8d196d3', 0), 'x')\n",
      "\n"
     ]
    }
   ],
   "source": [
    "for k, v in g.items():\n",
    "    print(k, v)\n",
    "    print()"
   ]
  },
  {
   "attachments": {},
   "cell_type": "markdown",
   "metadata": {},
   "source": [
    "## Getting a bad variable\n",
    "\n",
    "Lets see how eager this whole thing is?"
   ]
  },
  {
   "cell_type": "code",
   "execution_count": 20,
   "metadata": {},
   "outputs": [
    {
     "ename": "AttributeError",
     "evalue": "y not in fields.",
     "output_type": "error",
     "traceback": [
      "\u001b[1;31m---------------------------------------------------------------------------\u001b[0m",
      "\u001b[1;31mAttributeError\u001b[0m                            Traceback (most recent call last)",
      "Cell \u001b[1;32mIn[20], line 4\u001b[0m\n\u001b[0;32m      1\u001b[0m \u001b[39mimport\u001b[39;00m \u001b[39mdask_awkward\u001b[39;00m \u001b[39mas\u001b[39;00m \u001b[39mdak\u001b[39;00m\n\u001b[0;32m      3\u001b[0m x \u001b[39m=\u001b[39m dak\u001b[39m.\u001b[39mfrom_json(data_dir \u001b[39m/\u001b[39m \u001b[39m\"\u001b[39m\u001b[39mdata0.json\u001b[39m\u001b[39m\"\u001b[39m)\n\u001b[1;32m----> 4\u001b[0m result4 \u001b[39m=\u001b[39m x[x\u001b[39m.\u001b[39;49mx \u001b[39m>\u001b[39;49m \u001b[39m2\u001b[39;49m]\u001b[39m.\u001b[39;49my\n\u001b[0;32m      5\u001b[0m result4\n",
      "File \u001b[1;32mc:\\Users\\gordo\\Code\\iris-hep\\awkward-20-testing\\.venv\\Lib\\site-packages\\dask_awkward\\lib\\core.py:997\u001b[0m, in \u001b[0;36mArray.__getattr__\u001b[1;34m(self, attr)\u001b[0m\n\u001b[0;32m    994\u001b[0m     \u001b[39melif\u001b[39;00m \u001b[39mself\u001b[39m\u001b[39m.\u001b[39m_maybe_behavior_property(attr):\n\u001b[0;32m    995\u001b[0m         \u001b[39mreturn\u001b[39;00m \u001b[39mself\u001b[39m\u001b[39m.\u001b[39m_call_behavior_property(attr)\n\u001b[1;32m--> 997\u001b[0m     \u001b[39mraise\u001b[39;00m \u001b[39mAttributeError\u001b[39;00m(\u001b[39mf\u001b[39m\u001b[39m\"\u001b[39m\u001b[39m{\u001b[39;00mattr\u001b[39m}\u001b[39;00m\u001b[39m not in fields.\u001b[39m\u001b[39m\"\u001b[39m)\n\u001b[0;32m    998\u001b[0m \u001b[39mtry\u001b[39;00m:\n\u001b[0;32m    999\u001b[0m     \u001b[39m# at this point attr is either a field or we'll have to\u001b[39;00m\n\u001b[0;32m   1000\u001b[0m     \u001b[39m# raise an exception.\u001b[39;00m\n\u001b[0;32m   1001\u001b[0m     \u001b[39mreturn\u001b[39;00m \u001b[39mself\u001b[39m\u001b[39m.\u001b[39m\u001b[39m__getitem__\u001b[39m(attr)\n",
      "\u001b[1;31mAttributeError\u001b[0m: y not in fields."
     ]
    }
   ],
   "source": [
    "import dask_awkward as dak\n",
    "\n",
    "x = dak.from_json(data_dir / \"data0.json\")\n",
    "result4 = x[x.x > 2].y\n",
    "result4"
   ]
  },
  {
   "attachments": {},
   "cell_type": "markdown",
   "metadata": {},
   "source": [
    "Ok - this is terrifically bad. Or we'd have to have everything - and how would we specify methods, etc.?"
   ]
  }
 ],
 "metadata": {
  "kernelspec": {
   "display_name": ".venv",
   "language": "python",
   "name": "python3"
  },
  "language_info": {
   "codemirror_mode": {
    "name": "ipython",
    "version": 3
   },
   "file_extension": ".py",
   "mimetype": "text/x-python",
   "name": "python",
   "nbconvert_exporter": "python",
   "pygments_lexer": "ipython3",
   "version": "3.11.0"
  },
  "orig_nbformat": 4,
  "vscode": {
   "interpreter": {
    "hash": "a0a228228fe772f7cb579b5880c0b4d5ff3fc81d4ce74d3dc9f6d7b1c92ce8c9"
   }
  }
 },
 "nbformat": 4,
 "nbformat_minor": 2
}
