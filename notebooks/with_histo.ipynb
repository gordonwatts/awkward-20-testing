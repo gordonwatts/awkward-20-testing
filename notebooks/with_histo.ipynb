{
 "cells": [
  {
   "cell_type": "markdown",
   "metadata": {},
   "source": [
    "# Using Aggregate\n",
    "\n",
    "Build and examine a graph that contains some sort of aggregate operation."
   ]
  },
  {
   "cell_type": "markdown",
   "metadata": {},
   "source": [
    "## Base Builder\n",
    "\n",
    "Starting from previous code, build our own custom dict thingy."
   ]
  },
  {
   "cell_type": "code",
   "execution_count": 1,
   "metadata": {},
   "outputs": [],
   "source": [
    "from typing import List\n",
    "import awkward as ak\n",
    "import dask_awkward as dak\n",
    "import random\n",
    "import dask\n",
    "\n",
    "def make_input_layer(name, inputs: List[str]):\n",
    "    # Each file that returns will be simulated by a block of 100 numbers.\n",
    "    # Call with a string that is the block number.\n",
    "    def generate_data(block):\n",
    "        print(f'In generate_data: {block}')\n",
    "        return ak.from_iter([random.uniform(0, 10) for i in range(0, 100)])\n",
    "\n",
    "    # Build the sample array up    \n",
    "    # TODO: We have to go into core here - does this mean `typetracer_array` is not a good thing to access? If not, how should we do this?\n",
    "    sample_array = ak.from_iter([1, 2, 3, 4, 5])\n",
    "    metadata = dak.core.typetracer_array(sample_array)\n",
    "\n",
    "    # Next, create the input layer that will be used to generate the data.\n",
    "    dsk = dak.layers.AwkwardInputLayer(\n",
    "            name=name,\n",
    "            columns=None,\n",
    "            inputs=inputs,\n",
    "            io_func=generate_data,\n",
    "            meta=metadata,\n",
    "            behavior=None,\n",
    "        )\n",
    "\n",
    "    return dsk\n",
    "\n",
    "def generate_sx_daq(query: str, inputs: List[str] = ['0', '1']) -> dak.Array:\n",
    "    name = 'unique-name'\n",
    "    input_layer = make_input_layer(name, inputs)\n",
    "\n",
    "    # Create the high level graph that will hold all of this, and the actual array object\n",
    "    hlg = dask.highlevelgraph.HighLevelGraph.from_collections(name, input_layer)\n",
    "    ar = dak.core.new_array_object(hlg, name, meta=input_layer._meta, npartitions=len(inputs))\n",
    "\n",
    "    return ar"
   ]
  },
  {
   "attachments": {},
   "cell_type": "markdown",
   "metadata": {},
   "source": [
    "# Doing a length or count operation\n",
    "\n",
    "Lets build the length/count operation - see that it works - and then look at the high level layer layout."
   ]
  },
  {
   "cell_type": "code",
   "execution_count": 2,
   "metadata": {},
   "outputs": [],
   "source": [
    "import dask_histogram as dh\n",
    "import mplhep as hep\n",
    "\n",
    "x = generate_sx_daq(\"(query)\")\n",
    "h = dh.factory(x, axes=(dh.axis.Regular(20, 0, 10),))\n",
    "r = h.compute()\n",
    "_ = hep.histplot(r)"
   ]
  },
  {
   "attachments": {},
   "cell_type": "markdown",
   "metadata": {},
   "source": [
    "Lets look at the dask compute DAG"
   ]
  },
  {
   "cell_type": "code",
   "execution_count": null,
   "metadata": {},
   "outputs": [],
   "source": [
    "h.dask"
   ]
  },
  {
   "attachments": {},
   "cell_type": "markdown",
   "metadata": {},
   "source": [
    "Separate layers for each - can we go in after the first layer and \"alter\" it?"
   ]
  },
  {
   "cell_type": "code",
   "execution_count": null,
   "metadata": {},
   "outputs": [],
   "source": [
    "dsk = h.dask\n",
    "print(type(dsk))"
   ]
  },
  {
   "cell_type": "code",
   "execution_count": null,
   "metadata": {},
   "outputs": [],
   "source": [
    "help(dsk)"
   ]
  },
  {
   "cell_type": "code",
   "execution_count": null,
   "metadata": {},
   "outputs": [],
   "source": [
    "dsk.layers"
   ]
  },
  {
   "cell_type": "code",
   "execution_count": null,
   "metadata": {},
   "outputs": [],
   "source": [
    "dsk.dependencies"
   ]
  },
  {
   "cell_type": "code",
   "execution_count": null,
   "metadata": {},
   "outputs": [],
   "source": [
    "my_input = dsk.layers['unique-name']\n",
    "my_input"
   ]
  },
  {
   "cell_type": "code",
   "execution_count": null,
   "metadata": {},
   "outputs": [],
   "source": [
    "help(my_input)"
   ]
  },
  {
   "cell_type": "code",
   "execution_count": null,
   "metadata": {},
   "outputs": [],
   "source": [
    "print(f'dims: {my_input.dims}')\n",
    "print(f'items: {my_input.items}')\n",
    "print(f'keys: {list(my_input.keys())}')"
   ]
  },
  {
   "attachments": {},
   "cell_type": "markdown",
   "metadata": {},
   "source": [
    "This is probably obvious to most people - but it looks like it isn't the `HighLevelLayer` we want to alter, but rather the `AwkwardInputLayer` that we want to mess with. Though from above it looks like both the awkward array object and the input layer both independently know about the number of partitions (which is a little weird).\n",
    "\n",
    "So - lets hit this with a hammer - just create a new awkward layer that has a different number of inputs and see what happens."
   ]
  },
  {
   "cell_type": "code",
   "execution_count": null,
   "metadata": {},
   "outputs": [],
   "source": [
    "new_input = make_input_layer('unique-name', inputs=['0', '1', '2', '3'])\n",
    "print(f'keys: {list(new_input.keys())}')"
   ]
  },
  {
   "attachments": {},
   "cell_type": "markdown",
   "metadata": {},
   "source": [
    "Moment of truth..."
   ]
  },
  {
   "cell_type": "code",
   "execution_count": null,
   "metadata": {},
   "outputs": [],
   "source": [
    "dsk.layers['unique-name'] = new_input\n",
    "dsk"
   ]
  },
  {
   "attachments": {},
   "cell_type": "markdown",
   "metadata": {},
   "source": [
    "And we can see the layer2 there still has only 2 outputs, but I suspect it should have 4. Lets compare:"
   ]
  },
  {
   "cell_type": "code",
   "execution_count": null,
   "metadata": {},
   "outputs": [],
   "source": [
    "x_expected = generate_sx_daq(\"(query)\", inputs=['0', '1', '2', '3'])\n",
    "h_expected = dh.factory(x_expected, axes=(dh.axis.Regular(20, 0, 10),))\n",
    "h_expected.dask"
   ]
  },
  {
   "attachments": {},
   "cell_type": "markdown",
   "metadata": {},
   "source": [
    "Ok - so it has 4 here... So we still need to modify the second layer somehow. This means being a little more invasive. We have to get into that second layer and somehow fix that up too. So, lets see what it looks like..."
   ]
  },
  {
   "cell_type": "code",
   "execution_count": null,
   "metadata": {},
   "outputs": [],
   "source": [
    "hist_on_block_key = [k for k in dsk.layers.keys() if k.startswith('hist-on-block')][0]\n",
    "block_layer = dsk.layers[hist_on_block_key]\n",
    "block_layer"
   ]
  },
  {
   "attachments": {},
   "cell_type": "markdown",
   "metadata": {},
   "source": [
    "Adjust the number of inputs..."
   ]
  },
  {
   "cell_type": "code",
   "execution_count": null,
   "metadata": {},
   "outputs": [],
   "source": [
    "print(block_layer.numblocks)\n",
    "block_layer.numblocks = (4,)\n",
    "print(block_layer.numblocks)\n",
    "block_layer"
   ]
  },
  {
   "cell_type": "code",
   "execution_count": null,
   "metadata": {},
   "outputs": [],
   "source": [
    "[i for i in block_layer.items()]"
   ]
  },
  {
   "attachments": {},
   "cell_type": "markdown",
   "metadata": {},
   "source": [
    "So the number of outputs is still wrong. Need to get that fixed..."
   ]
  },
  {
   "cell_type": "code",
   "execution_count": null,
   "metadata": {},
   "outputs": [],
   "source": [
    "block_layer._dims = {'.0': 4}\n",
    "block_layer"
   ]
  },
  {
   "attachments": {},
   "cell_type": "markdown",
   "metadata": {},
   "source": [
    "Ok - the layer looks good - how does the rest of the graph look?"
   ]
  },
  {
   "cell_type": "code",
   "execution_count": null,
   "metadata": {},
   "outputs": [],
   "source": [
    "dsk"
   ]
  },
  {
   "attachments": {},
   "cell_type": "markdown",
   "metadata": {},
   "source": [
    "Lets see what happens when it runs. We've been modifying this dsak thing in place... so we should just be able to execute it..."
   ]
  },
  {
   "cell_type": "code",
   "execution_count": null,
   "metadata": {},
   "outputs": [],
   "source": [
    "h.compute()"
   ]
  },
  {
   "cell_type": "code",
   "execution_count": null,
   "metadata": {},
   "outputs": [],
   "source": []
  },
  {
   "cell_type": "code",
   "execution_count": null,
   "metadata": {},
   "outputs": [],
   "source": []
  }
 ],
 "metadata": {
  "kernelspec": {
   "display_name": ".venv",
   "language": "python",
   "name": "python3"
  },
  "language_info": {
   "codemirror_mode": {
    "name": "ipython",
    "version": 3
   },
   "file_extension": ".py",
   "mimetype": "text/x-python",
   "name": "python",
   "nbconvert_exporter": "python",
   "pygments_lexer": "ipython3",
   "version": "3.10.7"
  },
  "orig_nbformat": 4,
  "vscode": {
   "interpreter": {
    "hash": "a0a228228fe772f7cb579b5880c0b4d5ff3fc81d4ce74d3dc9f6d7b1c92ce8c9"
   }
  }
 },
 "nbformat": 4,
 "nbformat_minor": 2
}
