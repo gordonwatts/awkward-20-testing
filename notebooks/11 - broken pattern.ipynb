{
 "cells": [
  {
   "cell_type": "code",
   "execution_count": 1,
   "metadata": {},
   "outputs": [],
   "source": [
    "import dask_awkward as dak\n",
    "import awkward as ak\n",
    "import dask\n",
    "import uproot"
   ]
  },
  {
   "cell_type": "code",
   "execution_count": 4,
   "metadata": {},
   "outputs": [],
   "source": [
    "filename = \"0fc6e51a5ea6dea107c195591d20a1b2-15.26710677._000019.pool.root.1\"\n",
    "ar = uproot.dask({filename: \"treeme\"})"
   ]
  },
  {
   "cell_type": "code",
   "execution_count": 5,
   "metadata": {},
   "outputs": [
    {
     "data": {
      "text/html": [
       "<pre>[[509, 315],\n",
       " [346, 251, 179],\n",
       " [548, 172, 166],\n",
       " [667, 505],\n",
       " [631, 278, 190],\n",
       " [406, 272, 177, 160],\n",
       " [353, 353],\n",
       " [656, 484, 183, 152],\n",
       " [225, 188],\n",
       " [486, 382],\n",
       " ...,\n",
       " [670, 577, 152],\n",
       " [709, 642, 162],\n",
       " [761, 543, 170],\n",
       " [580, 468, 171, 159],\n",
       " [320, 254, 198],\n",
       " [572, 462, 168, 160],\n",
       " [605, 545, 315],\n",
       " [571, 233, 222, 164],\n",
       " [763, 452, 270]]\n",
       "---------------------------\n",
       "type: 50000 * var * float64</pre>"
      ],
      "text/plain": [
       "<Array [[509, 315], [...], ..., [763, 452, 270]] type='50000 * var * float64'>"
      ]
     },
     "execution_count": 5,
     "metadata": {},
     "output_type": "execute_result"
    }
   ],
   "source": [
    "pt = ar.JetPt * 5\n",
    "pt.compute()"
   ]
  },
  {
   "cell_type": "code",
   "execution_count": null,
   "metadata": {},
   "outputs": [],
   "source": []
  }
 ],
 "metadata": {
  "kernelspec": {
   "display_name": ".venv",
   "language": "python",
   "name": "python3"
  },
  "language_info": {
   "codemirror_mode": {
    "name": "ipython",
    "version": 3
   },
   "file_extension": ".py",
   "mimetype": "text/x-python",
   "name": "python",
   "nbconvert_exporter": "python",
   "pygments_lexer": "ipython3",
   "version": "3.11.6"
  }
 },
 "nbformat": 4,
 "nbformat_minor": 2
}
