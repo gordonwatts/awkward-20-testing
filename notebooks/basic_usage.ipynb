{
 "cells": [
  {
   "attachments": {},
   "cell_type": "markdown",
   "metadata": {},
   "source": [
    "# Using dask and awkward together\n",
    "\n",
    "Some basic tests/examples.\n",
    "\n",
    "Lets first try with a single data file."
   ]
  },
  {
   "attachments": {},
   "cell_type": "markdown",
   "metadata": {},
   "source": [
    "## Write out the data files"
   ]
  },
  {
   "cell_type": "code",
   "execution_count": 15,
   "metadata": {},
   "outputs": [],
   "source": [
    "data = {\n",
    "    'x': [1, 2, 3, 4, 5],\n",
    "}\n",
    "\n",
    "import json\n",
    "\n",
    "num_files = 100\n",
    "\n",
    "for i in range(num_files):\n",
    "    with open(f'data{i}.json', 'w') as f:\n",
    "        json.dump(data, f)\n"
   ]
  },
  {
   "attachments": {},
   "cell_type": "markdown",
   "metadata": {},
   "source": [
    "## Using awkward 2.0\n",
    "\n",
    "Well, no new features - but just awkward - to load one of the files."
   ]
  },
  {
   "cell_type": "code",
   "execution_count": 16,
   "metadata": {},
   "outputs": [
    {
     "data": {
      "text/html": [
       "<pre>{x: [1, 2, 3, 4, 5]}\n",
       "--------------------\n",
       "type: {\n",
       "    x: var * int64\n",
       "}</pre>"
      ],
      "text/plain": [
       "<Record {x: [1, 2, 3, 4, 5]} type='{x: var * int64}'>"
      ]
     },
     "execution_count": 16,
     "metadata": {},
     "output_type": "execute_result"
    }
   ],
   "source": [
    "from pathlib import Path\n",
    "import awkward as ak\n",
    "\n",
    "file0 = Path('data0.json')\n",
    "x = ak.from_json(file0)\n",
    "x"
   ]
  },
  {
   "cell_type": "code",
   "execution_count": 17,
   "metadata": {},
   "outputs": [
    {
     "data": {
      "text/html": [
       "<pre>[1,\n",
       " 2,\n",
       " 3,\n",
       " 4,\n",
       " 5]\n",
       "---------------\n",
       "type: 5 * int64</pre>"
      ],
      "text/plain": [
       "<Array [1, 2, 3, 4, 5] type='5 * int64'>"
      ]
     },
     "execution_count": 17,
     "metadata": {},
     "output_type": "execute_result"
    }
   ],
   "source": [
    "x.x"
   ]
  },
  {
   "cell_type": "code",
   "execution_count": 18,
   "metadata": {},
   "outputs": [
    {
     "data": {
      "text/html": [
       "<pre>[3,\n",
       " 4,\n",
       " 5]\n",
       "---------------\n",
       "type: 3 * int64</pre>"
      ],
      "text/plain": [
       "<Array [3, 4, 5] type='3 * int64'>"
      ]
     },
     "execution_count": 18,
     "metadata": {},
     "output_type": "execute_result"
    }
   ],
   "source": [
    "x.x[x.x > 2]"
   ]
  },
  {
   "attachments": {},
   "cell_type": "markdown",
   "metadata": {},
   "source": [
    "## With awkward dask\n",
    "\n",
    "Look at the same thing, but with awkward dask - run the `compute`..."
   ]
  },
  {
   "cell_type": "code",
   "execution_count": 21,
   "metadata": {},
   "outputs": [
    {
     "data": {
      "text/plain": [
       "dask.awkward<getitem, npartitions=100>"
      ]
     },
     "execution_count": 21,
     "metadata": {},
     "output_type": "execute_result"
    }
   ],
   "source": [
    "import dask_awkward as dak\n",
    "\n",
    "x = dak.from_json(\"data*.json\")\n",
    "result = x[x.x > 2]\n",
    "result"
   ]
  },
  {
   "attachments": {},
   "cell_type": "markdown",
   "metadata": {},
   "source": [
    "Ok - note that it already knows about the number of partitions here."
   ]
  },
  {
   "cell_type": "code",
   "execution_count": 22,
   "metadata": {},
   "outputs": [
    {
     "data": {
      "text/html": [
       "<pre>[{x: [3, 4, 5]},\n",
       " {x: [3, 4, 5]},\n",
       " {x: [3, 4, 5]},\n",
       " {x: [3, 4, 5]},\n",
       " {x: [3, 4, 5]},\n",
       " {x: [3, 4, 5]},\n",
       " {x: [3, 4, 5]},\n",
       " {x: [3, 4, 5]},\n",
       " {x: [3, 4, 5]},\n",
       " {x: [3, 4, 5]},\n",
       " ...,\n",
       " {x: [3, 4, 5]},\n",
       " {x: [3, 4, 5]},\n",
       " {x: [3, 4, 5]},\n",
       " {x: [3, 4, 5]},\n",
       " {x: [3, 4, 5]},\n",
       " {x: [3, 4, 5]},\n",
       " {x: [3, 4, 5]},\n",
       " {x: [3, 4, 5]},\n",
       " {x: [3, 4, 5]}]\n",
       "------------------\n",
       "type: 100 * {\n",
       "    x: var * int64\n",
       "}</pre>"
      ],
      "text/plain": [
       "<Array [{x: [3, 4, 5]}, ..., {x: [3, ...]}] type='100 * {x: var * int64}'>"
      ]
     },
     "execution_count": 22,
     "metadata": {},
     "output_type": "execute_result"
    }
   ],
   "source": [
    "result.compute()"
   ]
  },
  {
   "attachments": {},
   "cell_type": "markdown",
   "metadata": {},
   "source": [
    "Interesting - it is a list of items... I suppose that is because this isn't an array. Ahh... What if I actually access x?"
   ]
  },
  {
   "cell_type": "code",
   "execution_count": 23,
   "metadata": {},
   "outputs": [
    {
     "name": "stdout",
     "output_type": "stream",
     "text": [
      "dask.awkward<x, npartitions=100>\n"
     ]
    }
   ],
   "source": [
    "result2 = x[x.x > 2].x\n",
    "print(result2)"
   ]
  },
  {
   "cell_type": "code",
   "execution_count": 24,
   "metadata": {},
   "outputs": [
    {
     "data": {
      "text/html": [
       "<pre>[[3, 4, 5],\n",
       " [3, 4, 5],\n",
       " [3, 4, 5],\n",
       " [3, 4, 5],\n",
       " [3, 4, 5],\n",
       " [3, 4, 5],\n",
       " [3, 4, 5],\n",
       " [3, 4, 5],\n",
       " [3, 4, 5],\n",
       " [3, 4, 5],\n",
       " ...,\n",
       " [3, 4, 5],\n",
       " [3, 4, 5],\n",
       " [3, 4, 5],\n",
       " [3, 4, 5],\n",
       " [3, 4, 5],\n",
       " [3, 4, 5],\n",
       " [3, 4, 5],\n",
       " [3, 4, 5],\n",
       " [3, 4, 5]]\n",
       "-----------------------\n",
       "type: 100 * var * int64</pre>"
      ],
      "text/plain": [
       "<Array [[3, 4, 5], [3, 4, 5], ..., [...], [3, 4, 5]] type='100 * var * int64'>"
      ]
     },
     "execution_count": 24,
     "metadata": {},
     "output_type": "execute_result"
    }
   ],
   "source": [
    "result2.compute()"
   ]
  },
  {
   "attachments": {},
   "cell_type": "markdown",
   "metadata": {},
   "source": [
    "Still not concatenating them - I guess there must be a reducer that already does that... But it did all 100 files no problem."
   ]
  },
  {
   "cell_type": "code",
   "execution_count": 25,
   "metadata": {},
   "outputs": [
    {
     "data": {
      "text/plain": [
       "100"
      ]
     },
     "execution_count": 25,
     "metadata": {},
     "output_type": "execute_result"
    }
   ],
   "source": [
    "len(result2)"
   ]
  },
  {
   "attachments": {},
   "cell_type": "markdown",
   "metadata": {},
   "source": [
    "Also interesting - there is no `shape`. :-) Not at all surprised after everything."
   ]
  },
  {
   "attachments": {},
   "cell_type": "markdown",
   "metadata": {},
   "source": [
    "## Getting at the compute graph to see what we can do with it."
   ]
  },
  {
   "cell_type": "code",
   "execution_count": 28,
   "metadata": {},
   "outputs": [],
   "source": [
    "g = result2.__dask_graph__()"
   ]
  },
  {
   "cell_type": "code",
   "execution_count": 29,
   "metadata": {},
   "outputs": [
    {
     "data": {
      "text/plain": [
       "dask.highlevelgraph.HighLevelGraph"
      ]
     },
     "execution_count": 29,
     "metadata": {},
     "output_type": "execute_result"
    }
   ],
   "source": [
    "type(g)"
   ]
  },
  {
   "cell_type": "code",
   "execution_count": 30,
   "metadata": {},
   "outputs": [
    {
     "data": {
      "text/plain": [
       "dict_keys([('getitem-dbb1001309169667e4001a0f9fe7fcf3', 0), ('getitem-dbb1001309169667e4001a0f9fe7fcf3', 1), ('getitem-dbb1001309169667e4001a0f9fe7fcf3', 2), ('getitem-dbb1001309169667e4001a0f9fe7fcf3', 3), ('getitem-dbb1001309169667e4001a0f9fe7fcf3', 4), ('getitem-dbb1001309169667e4001a0f9fe7fcf3', 5), ('getitem-dbb1001309169667e4001a0f9fe7fcf3', 6), ('getitem-dbb1001309169667e4001a0f9fe7fcf3', 7), ('getitem-dbb1001309169667e4001a0f9fe7fcf3', 8), ('getitem-dbb1001309169667e4001a0f9fe7fcf3', 9), ('getitem-dbb1001309169667e4001a0f9fe7fcf3', 10), ('getitem-dbb1001309169667e4001a0f9fe7fcf3', 11), ('getitem-dbb1001309169667e4001a0f9fe7fcf3', 12), ('getitem-dbb1001309169667e4001a0f9fe7fcf3', 13), ('getitem-dbb1001309169667e4001a0f9fe7fcf3', 14), ('getitem-dbb1001309169667e4001a0f9fe7fcf3', 15), ('getitem-dbb1001309169667e4001a0f9fe7fcf3', 16), ('getitem-dbb1001309169667e4001a0f9fe7fcf3', 17), ('getitem-dbb1001309169667e4001a0f9fe7fcf3', 18), ('getitem-dbb1001309169667e4001a0f9fe7fcf3', 19), ('getitem-dbb1001309169667e4001a0f9fe7fcf3', 20), ('getitem-dbb1001309169667e4001a0f9fe7fcf3', 21), ('getitem-dbb1001309169667e4001a0f9fe7fcf3', 22), ('getitem-dbb1001309169667e4001a0f9fe7fcf3', 23), ('getitem-dbb1001309169667e4001a0f9fe7fcf3', 24), ('getitem-dbb1001309169667e4001a0f9fe7fcf3', 25), ('getitem-dbb1001309169667e4001a0f9fe7fcf3', 26), ('getitem-dbb1001309169667e4001a0f9fe7fcf3', 27), ('getitem-dbb1001309169667e4001a0f9fe7fcf3', 28), ('getitem-dbb1001309169667e4001a0f9fe7fcf3', 29), ('getitem-dbb1001309169667e4001a0f9fe7fcf3', 30), ('getitem-dbb1001309169667e4001a0f9fe7fcf3', 31), ('getitem-dbb1001309169667e4001a0f9fe7fcf3', 32), ('getitem-dbb1001309169667e4001a0f9fe7fcf3', 33), ('getitem-dbb1001309169667e4001a0f9fe7fcf3', 34), ('getitem-dbb1001309169667e4001a0f9fe7fcf3', 35), ('getitem-dbb1001309169667e4001a0f9fe7fcf3', 36), ('getitem-dbb1001309169667e4001a0f9fe7fcf3', 37), ('getitem-dbb1001309169667e4001a0f9fe7fcf3', 38), ('getitem-dbb1001309169667e4001a0f9fe7fcf3', 39), ('getitem-dbb1001309169667e4001a0f9fe7fcf3', 40), ('getitem-dbb1001309169667e4001a0f9fe7fcf3', 41), ('getitem-dbb1001309169667e4001a0f9fe7fcf3', 42), ('getitem-dbb1001309169667e4001a0f9fe7fcf3', 43), ('getitem-dbb1001309169667e4001a0f9fe7fcf3', 44), ('getitem-dbb1001309169667e4001a0f9fe7fcf3', 45), ('getitem-dbb1001309169667e4001a0f9fe7fcf3', 46), ('getitem-dbb1001309169667e4001a0f9fe7fcf3', 47), ('getitem-dbb1001309169667e4001a0f9fe7fcf3', 48), ('getitem-dbb1001309169667e4001a0f9fe7fcf3', 49), ('getitem-dbb1001309169667e4001a0f9fe7fcf3', 50), ('getitem-dbb1001309169667e4001a0f9fe7fcf3', 51), ('getitem-dbb1001309169667e4001a0f9fe7fcf3', 52), ('getitem-dbb1001309169667e4001a0f9fe7fcf3', 53), ('getitem-dbb1001309169667e4001a0f9fe7fcf3', 54), ('getitem-dbb1001309169667e4001a0f9fe7fcf3', 55), ('getitem-dbb1001309169667e4001a0f9fe7fcf3', 56), ('getitem-dbb1001309169667e4001a0f9fe7fcf3', 57), ('getitem-dbb1001309169667e4001a0f9fe7fcf3', 58), ('getitem-dbb1001309169667e4001a0f9fe7fcf3', 59), ('getitem-dbb1001309169667e4001a0f9fe7fcf3', 60), ('getitem-dbb1001309169667e4001a0f9fe7fcf3', 61), ('getitem-dbb1001309169667e4001a0f9fe7fcf3', 62), ('getitem-dbb1001309169667e4001a0f9fe7fcf3', 63), ('getitem-dbb1001309169667e4001a0f9fe7fcf3', 64), ('getitem-dbb1001309169667e4001a0f9fe7fcf3', 65), ('getitem-dbb1001309169667e4001a0f9fe7fcf3', 66), ('getitem-dbb1001309169667e4001a0f9fe7fcf3', 67), ('getitem-dbb1001309169667e4001a0f9fe7fcf3', 68), ('getitem-dbb1001309169667e4001a0f9fe7fcf3', 69), ('getitem-dbb1001309169667e4001a0f9fe7fcf3', 70), ('getitem-dbb1001309169667e4001a0f9fe7fcf3', 71), ('getitem-dbb1001309169667e4001a0f9fe7fcf3', 72), ('getitem-dbb1001309169667e4001a0f9fe7fcf3', 73), ('getitem-dbb1001309169667e4001a0f9fe7fcf3', 74), ('getitem-dbb1001309169667e4001a0f9fe7fcf3', 75), ('getitem-dbb1001309169667e4001a0f9fe7fcf3', 76), ('getitem-dbb1001309169667e4001a0f9fe7fcf3', 77), ('getitem-dbb1001309169667e4001a0f9fe7fcf3', 78), ('getitem-dbb1001309169667e4001a0f9fe7fcf3', 79), ('getitem-dbb1001309169667e4001a0f9fe7fcf3', 80), ('getitem-dbb1001309169667e4001a0f9fe7fcf3', 81), ('getitem-dbb1001309169667e4001a0f9fe7fcf3', 82), ('getitem-dbb1001309169667e4001a0f9fe7fcf3', 83), ('getitem-dbb1001309169667e4001a0f9fe7fcf3', 84), ('getitem-dbb1001309169667e4001a0f9fe7fcf3', 85), ('getitem-dbb1001309169667e4001a0f9fe7fcf3', 86), ('getitem-dbb1001309169667e4001a0f9fe7fcf3', 87), ('getitem-dbb1001309169667e4001a0f9fe7fcf3', 88), ('getitem-dbb1001309169667e4001a0f9fe7fcf3', 89), ('getitem-dbb1001309169667e4001a0f9fe7fcf3', 90), ('getitem-dbb1001309169667e4001a0f9fe7fcf3', 91), ('getitem-dbb1001309169667e4001a0f9fe7fcf3', 92), ('getitem-dbb1001309169667e4001a0f9fe7fcf3', 93), ('getitem-dbb1001309169667e4001a0f9fe7fcf3', 94), ('getitem-dbb1001309169667e4001a0f9fe7fcf3', 95), ('getitem-dbb1001309169667e4001a0f9fe7fcf3', 96), ('getitem-dbb1001309169667e4001a0f9fe7fcf3', 97), ('getitem-dbb1001309169667e4001a0f9fe7fcf3', 98), ('getitem-dbb1001309169667e4001a0f9fe7fcf3', 99), ('from-json-c179c185c154bcbb8e5facdc184ffbdc', 0), ('from-json-c179c185c154bcbb8e5facdc184ffbdc', 1), ('from-json-c179c185c154bcbb8e5facdc184ffbdc', 2), ('from-json-c179c185c154bcbb8e5facdc184ffbdc', 3), ('from-json-c179c185c154bcbb8e5facdc184ffbdc', 4), ('from-json-c179c185c154bcbb8e5facdc184ffbdc', 5), ('from-json-c179c185c154bcbb8e5facdc184ffbdc', 6), ('from-json-c179c185c154bcbb8e5facdc184ffbdc', 7), ('from-json-c179c185c154bcbb8e5facdc184ffbdc', 8), ('from-json-c179c185c154bcbb8e5facdc184ffbdc', 9), ('from-json-c179c185c154bcbb8e5facdc184ffbdc', 10), ('from-json-c179c185c154bcbb8e5facdc184ffbdc', 11), ('from-json-c179c185c154bcbb8e5facdc184ffbdc', 12), ('from-json-c179c185c154bcbb8e5facdc184ffbdc', 13), ('from-json-c179c185c154bcbb8e5facdc184ffbdc', 14), ('from-json-c179c185c154bcbb8e5facdc184ffbdc', 15), ('from-json-c179c185c154bcbb8e5facdc184ffbdc', 16), ('from-json-c179c185c154bcbb8e5facdc184ffbdc', 17), ('from-json-c179c185c154bcbb8e5facdc184ffbdc', 18), ('from-json-c179c185c154bcbb8e5facdc184ffbdc', 19), ('from-json-c179c185c154bcbb8e5facdc184ffbdc', 20), ('from-json-c179c185c154bcbb8e5facdc184ffbdc', 21), ('from-json-c179c185c154bcbb8e5facdc184ffbdc', 22), ('from-json-c179c185c154bcbb8e5facdc184ffbdc', 23), ('from-json-c179c185c154bcbb8e5facdc184ffbdc', 24), ('from-json-c179c185c154bcbb8e5facdc184ffbdc', 25), ('from-json-c179c185c154bcbb8e5facdc184ffbdc', 26), ('from-json-c179c185c154bcbb8e5facdc184ffbdc', 27), ('from-json-c179c185c154bcbb8e5facdc184ffbdc', 28), ('from-json-c179c185c154bcbb8e5facdc184ffbdc', 29), ('from-json-c179c185c154bcbb8e5facdc184ffbdc', 30), ('from-json-c179c185c154bcbb8e5facdc184ffbdc', 31), ('from-json-c179c185c154bcbb8e5facdc184ffbdc', 32), ('from-json-c179c185c154bcbb8e5facdc184ffbdc', 33), ('from-json-c179c185c154bcbb8e5facdc184ffbdc', 34), ('from-json-c179c185c154bcbb8e5facdc184ffbdc', 35), ('from-json-c179c185c154bcbb8e5facdc184ffbdc', 36), ('from-json-c179c185c154bcbb8e5facdc184ffbdc', 37), ('from-json-c179c185c154bcbb8e5facdc184ffbdc', 38), ('from-json-c179c185c154bcbb8e5facdc184ffbdc', 39), ('from-json-c179c185c154bcbb8e5facdc184ffbdc', 40), ('from-json-c179c185c154bcbb8e5facdc184ffbdc', 41), ('from-json-c179c185c154bcbb8e5facdc184ffbdc', 42), ('from-json-c179c185c154bcbb8e5facdc184ffbdc', 43), ('from-json-c179c185c154bcbb8e5facdc184ffbdc', 44), ('from-json-c179c185c154bcbb8e5facdc184ffbdc', 45), ('from-json-c179c185c154bcbb8e5facdc184ffbdc', 46), ('from-json-c179c185c154bcbb8e5facdc184ffbdc', 47), ('from-json-c179c185c154bcbb8e5facdc184ffbdc', 48), ('from-json-c179c185c154bcbb8e5facdc184ffbdc', 49), ('from-json-c179c185c154bcbb8e5facdc184ffbdc', 50), ('from-json-c179c185c154bcbb8e5facdc184ffbdc', 51), ('from-json-c179c185c154bcbb8e5facdc184ffbdc', 52), ('from-json-c179c185c154bcbb8e5facdc184ffbdc', 53), ('from-json-c179c185c154bcbb8e5facdc184ffbdc', 54), ('from-json-c179c185c154bcbb8e5facdc184ffbdc', 55), ('from-json-c179c185c154bcbb8e5facdc184ffbdc', 56), ('from-json-c179c185c154bcbb8e5facdc184ffbdc', 57), ('from-json-c179c185c154bcbb8e5facdc184ffbdc', 58), ('from-json-c179c185c154bcbb8e5facdc184ffbdc', 59), ('from-json-c179c185c154bcbb8e5facdc184ffbdc', 60), ('from-json-c179c185c154bcbb8e5facdc184ffbdc', 61), ('from-json-c179c185c154bcbb8e5facdc184ffbdc', 62), ('from-json-c179c185c154bcbb8e5facdc184ffbdc', 63), ('from-json-c179c185c154bcbb8e5facdc184ffbdc', 64), ('from-json-c179c185c154bcbb8e5facdc184ffbdc', 65), ('from-json-c179c185c154bcbb8e5facdc184ffbdc', 66), ('from-json-c179c185c154bcbb8e5facdc184ffbdc', 67), ('from-json-c179c185c154bcbb8e5facdc184ffbdc', 68), ('from-json-c179c185c154bcbb8e5facdc184ffbdc', 69), ('from-json-c179c185c154bcbb8e5facdc184ffbdc', 70), ('from-json-c179c185c154bcbb8e5facdc184ffbdc', 71), ('from-json-c179c185c154bcbb8e5facdc184ffbdc', 72), ('from-json-c179c185c154bcbb8e5facdc184ffbdc', 73), ('from-json-c179c185c154bcbb8e5facdc184ffbdc', 74), ('from-json-c179c185c154bcbb8e5facdc184ffbdc', 75), ('from-json-c179c185c154bcbb8e5facdc184ffbdc', 76), ('from-json-c179c185c154bcbb8e5facdc184ffbdc', 77), ('from-json-c179c185c154bcbb8e5facdc184ffbdc', 78), ('from-json-c179c185c154bcbb8e5facdc184ffbdc', 79), ('from-json-c179c185c154bcbb8e5facdc184ffbdc', 80), ('from-json-c179c185c154bcbb8e5facdc184ffbdc', 81), ('from-json-c179c185c154bcbb8e5facdc184ffbdc', 82), ('from-json-c179c185c154bcbb8e5facdc184ffbdc', 83), ('from-json-c179c185c154bcbb8e5facdc184ffbdc', 84), ('from-json-c179c185c154bcbb8e5facdc184ffbdc', 85), ('from-json-c179c185c154bcbb8e5facdc184ffbdc', 86), ('from-json-c179c185c154bcbb8e5facdc184ffbdc', 87), ('from-json-c179c185c154bcbb8e5facdc184ffbdc', 88), ('from-json-c179c185c154bcbb8e5facdc184ffbdc', 89), ('from-json-c179c185c154bcbb8e5facdc184ffbdc', 90), ('from-json-c179c185c154bcbb8e5facdc184ffbdc', 91), ('from-json-c179c185c154bcbb8e5facdc184ffbdc', 92), ('from-json-c179c185c154bcbb8e5facdc184ffbdc', 93), ('from-json-c179c185c154bcbb8e5facdc184ffbdc', 94), ('from-json-c179c185c154bcbb8e5facdc184ffbdc', 95), ('from-json-c179c185c154bcbb8e5facdc184ffbdc', 96), ('from-json-c179c185c154bcbb8e5facdc184ffbdc', 97), ('from-json-c179c185c154bcbb8e5facdc184ffbdc', 98), ('from-json-c179c185c154bcbb8e5facdc184ffbdc', 99), ('x-0773fadb0fa053fdc6cacfccf0238a55', 0), ('x-0773fadb0fa053fdc6cacfccf0238a55', 1), ('x-0773fadb0fa053fdc6cacfccf0238a55', 2), ('x-0773fadb0fa053fdc6cacfccf0238a55', 3), ('x-0773fadb0fa053fdc6cacfccf0238a55', 4), ('x-0773fadb0fa053fdc6cacfccf0238a55', 5), ('x-0773fadb0fa053fdc6cacfccf0238a55', 6), ('x-0773fadb0fa053fdc6cacfccf0238a55', 7), ('x-0773fadb0fa053fdc6cacfccf0238a55', 8), ('x-0773fadb0fa053fdc6cacfccf0238a55', 9), ('x-0773fadb0fa053fdc6cacfccf0238a55', 10), ('x-0773fadb0fa053fdc6cacfccf0238a55', 11), ('x-0773fadb0fa053fdc6cacfccf0238a55', 12), ('x-0773fadb0fa053fdc6cacfccf0238a55', 13), ('x-0773fadb0fa053fdc6cacfccf0238a55', 14), ('x-0773fadb0fa053fdc6cacfccf0238a55', 15), ('x-0773fadb0fa053fdc6cacfccf0238a55', 16), ('x-0773fadb0fa053fdc6cacfccf0238a55', 17), ('x-0773fadb0fa053fdc6cacfccf0238a55', 18), ('x-0773fadb0fa053fdc6cacfccf0238a55', 19), ('x-0773fadb0fa053fdc6cacfccf0238a55', 20), ('x-0773fadb0fa053fdc6cacfccf0238a55', 21), ('x-0773fadb0fa053fdc6cacfccf0238a55', 22), ('x-0773fadb0fa053fdc6cacfccf0238a55', 23), ('x-0773fadb0fa053fdc6cacfccf0238a55', 24), ('x-0773fadb0fa053fdc6cacfccf0238a55', 25), ('x-0773fadb0fa053fdc6cacfccf0238a55', 26), ('x-0773fadb0fa053fdc6cacfccf0238a55', 27), ('x-0773fadb0fa053fdc6cacfccf0238a55', 28), ('x-0773fadb0fa053fdc6cacfccf0238a55', 29), ('x-0773fadb0fa053fdc6cacfccf0238a55', 30), ('x-0773fadb0fa053fdc6cacfccf0238a55', 31), ('x-0773fadb0fa053fdc6cacfccf0238a55', 32), ('x-0773fadb0fa053fdc6cacfccf0238a55', 33), ('x-0773fadb0fa053fdc6cacfccf0238a55', 34), ('x-0773fadb0fa053fdc6cacfccf0238a55', 35), ('x-0773fadb0fa053fdc6cacfccf0238a55', 36), ('x-0773fadb0fa053fdc6cacfccf0238a55', 37), ('x-0773fadb0fa053fdc6cacfccf0238a55', 38), ('x-0773fadb0fa053fdc6cacfccf0238a55', 39), ('x-0773fadb0fa053fdc6cacfccf0238a55', 40), ('x-0773fadb0fa053fdc6cacfccf0238a55', 41), ('x-0773fadb0fa053fdc6cacfccf0238a55', 42), ('x-0773fadb0fa053fdc6cacfccf0238a55', 43), ('x-0773fadb0fa053fdc6cacfccf0238a55', 44), ('x-0773fadb0fa053fdc6cacfccf0238a55', 45), ('x-0773fadb0fa053fdc6cacfccf0238a55', 46), ('x-0773fadb0fa053fdc6cacfccf0238a55', 47), ('x-0773fadb0fa053fdc6cacfccf0238a55', 48), ('x-0773fadb0fa053fdc6cacfccf0238a55', 49), ('x-0773fadb0fa053fdc6cacfccf0238a55', 50), ('x-0773fadb0fa053fdc6cacfccf0238a55', 51), ('x-0773fadb0fa053fdc6cacfccf0238a55', 52), ('x-0773fadb0fa053fdc6cacfccf0238a55', 53), ('x-0773fadb0fa053fdc6cacfccf0238a55', 54), ('x-0773fadb0fa053fdc6cacfccf0238a55', 55), ('x-0773fadb0fa053fdc6cacfccf0238a55', 56), ('x-0773fadb0fa053fdc6cacfccf0238a55', 57), ('x-0773fadb0fa053fdc6cacfccf0238a55', 58), ('x-0773fadb0fa053fdc6cacfccf0238a55', 59), ('x-0773fadb0fa053fdc6cacfccf0238a55', 60), ('x-0773fadb0fa053fdc6cacfccf0238a55', 61), ('x-0773fadb0fa053fdc6cacfccf0238a55', 62), ('x-0773fadb0fa053fdc6cacfccf0238a55', 63), ('x-0773fadb0fa053fdc6cacfccf0238a55', 64), ('x-0773fadb0fa053fdc6cacfccf0238a55', 65), ('x-0773fadb0fa053fdc6cacfccf0238a55', 66), ('x-0773fadb0fa053fdc6cacfccf0238a55', 67), ('x-0773fadb0fa053fdc6cacfccf0238a55', 68), ('x-0773fadb0fa053fdc6cacfccf0238a55', 69), ('x-0773fadb0fa053fdc6cacfccf0238a55', 70), ('x-0773fadb0fa053fdc6cacfccf0238a55', 71), ('x-0773fadb0fa053fdc6cacfccf0238a55', 72), ('x-0773fadb0fa053fdc6cacfccf0238a55', 73), ('x-0773fadb0fa053fdc6cacfccf0238a55', 74), ('x-0773fadb0fa053fdc6cacfccf0238a55', 75), ('x-0773fadb0fa053fdc6cacfccf0238a55', 76), ('x-0773fadb0fa053fdc6cacfccf0238a55', 77), ('x-0773fadb0fa053fdc6cacfccf0238a55', 78), ('x-0773fadb0fa053fdc6cacfccf0238a55', 79), ('x-0773fadb0fa053fdc6cacfccf0238a55', 80), ('x-0773fadb0fa053fdc6cacfccf0238a55', 81), ('x-0773fadb0fa053fdc6cacfccf0238a55', 82), ('x-0773fadb0fa053fdc6cacfccf0238a55', 83), ('x-0773fadb0fa053fdc6cacfccf0238a55', 84), ('x-0773fadb0fa053fdc6cacfccf0238a55', 85), ('x-0773fadb0fa053fdc6cacfccf0238a55', 86), ('x-0773fadb0fa053fdc6cacfccf0238a55', 87), ('x-0773fadb0fa053fdc6cacfccf0238a55', 88), ('x-0773fadb0fa053fdc6cacfccf0238a55', 89), ('x-0773fadb0fa053fdc6cacfccf0238a55', 90), ('x-0773fadb0fa053fdc6cacfccf0238a55', 91), ('x-0773fadb0fa053fdc6cacfccf0238a55', 92), ('x-0773fadb0fa053fdc6cacfccf0238a55', 93), ('x-0773fadb0fa053fdc6cacfccf0238a55', 94), ('x-0773fadb0fa053fdc6cacfccf0238a55', 95), ('x-0773fadb0fa053fdc6cacfccf0238a55', 96), ('x-0773fadb0fa053fdc6cacfccf0238a55', 97), ('x-0773fadb0fa053fdc6cacfccf0238a55', 98), ('x-0773fadb0fa053fdc6cacfccf0238a55', 99), ('greater-c6de2e2ddf6dc5e936fc717fff6ea4fe', 0), ('greater-c6de2e2ddf6dc5e936fc717fff6ea4fe', 1), ('greater-c6de2e2ddf6dc5e936fc717fff6ea4fe', 2), ('greater-c6de2e2ddf6dc5e936fc717fff6ea4fe', 3), ('greater-c6de2e2ddf6dc5e936fc717fff6ea4fe', 4), ('greater-c6de2e2ddf6dc5e936fc717fff6ea4fe', 5), ('greater-c6de2e2ddf6dc5e936fc717fff6ea4fe', 6), ('greater-c6de2e2ddf6dc5e936fc717fff6ea4fe', 7), ('greater-c6de2e2ddf6dc5e936fc717fff6ea4fe', 8), ('greater-c6de2e2ddf6dc5e936fc717fff6ea4fe', 9), ('greater-c6de2e2ddf6dc5e936fc717fff6ea4fe', 10), ('greater-c6de2e2ddf6dc5e936fc717fff6ea4fe', 11), ('greater-c6de2e2ddf6dc5e936fc717fff6ea4fe', 12), ('greater-c6de2e2ddf6dc5e936fc717fff6ea4fe', 13), ('greater-c6de2e2ddf6dc5e936fc717fff6ea4fe', 14), ('greater-c6de2e2ddf6dc5e936fc717fff6ea4fe', 15), ('greater-c6de2e2ddf6dc5e936fc717fff6ea4fe', 16), ('greater-c6de2e2ddf6dc5e936fc717fff6ea4fe', 17), ('greater-c6de2e2ddf6dc5e936fc717fff6ea4fe', 18), ('greater-c6de2e2ddf6dc5e936fc717fff6ea4fe', 19), ('greater-c6de2e2ddf6dc5e936fc717fff6ea4fe', 20), ('greater-c6de2e2ddf6dc5e936fc717fff6ea4fe', 21), ('greater-c6de2e2ddf6dc5e936fc717fff6ea4fe', 22), ('greater-c6de2e2ddf6dc5e936fc717fff6ea4fe', 23), ('greater-c6de2e2ddf6dc5e936fc717fff6ea4fe', 24), ('greater-c6de2e2ddf6dc5e936fc717fff6ea4fe', 25), ('greater-c6de2e2ddf6dc5e936fc717fff6ea4fe', 26), ('greater-c6de2e2ddf6dc5e936fc717fff6ea4fe', 27), ('greater-c6de2e2ddf6dc5e936fc717fff6ea4fe', 28), ('greater-c6de2e2ddf6dc5e936fc717fff6ea4fe', 29), ('greater-c6de2e2ddf6dc5e936fc717fff6ea4fe', 30), ('greater-c6de2e2ddf6dc5e936fc717fff6ea4fe', 31), ('greater-c6de2e2ddf6dc5e936fc717fff6ea4fe', 32), ('greater-c6de2e2ddf6dc5e936fc717fff6ea4fe', 33), ('greater-c6de2e2ddf6dc5e936fc717fff6ea4fe', 34), ('greater-c6de2e2ddf6dc5e936fc717fff6ea4fe', 35), ('greater-c6de2e2ddf6dc5e936fc717fff6ea4fe', 36), ('greater-c6de2e2ddf6dc5e936fc717fff6ea4fe', 37), ('greater-c6de2e2ddf6dc5e936fc717fff6ea4fe', 38), ('greater-c6de2e2ddf6dc5e936fc717fff6ea4fe', 39), ('greater-c6de2e2ddf6dc5e936fc717fff6ea4fe', 40), ('greater-c6de2e2ddf6dc5e936fc717fff6ea4fe', 41), ('greater-c6de2e2ddf6dc5e936fc717fff6ea4fe', 42), ('greater-c6de2e2ddf6dc5e936fc717fff6ea4fe', 43), ('greater-c6de2e2ddf6dc5e936fc717fff6ea4fe', 44), ('greater-c6de2e2ddf6dc5e936fc717fff6ea4fe', 45), ('greater-c6de2e2ddf6dc5e936fc717fff6ea4fe', 46), ('greater-c6de2e2ddf6dc5e936fc717fff6ea4fe', 47), ('greater-c6de2e2ddf6dc5e936fc717fff6ea4fe', 48), ('greater-c6de2e2ddf6dc5e936fc717fff6ea4fe', 49), ('greater-c6de2e2ddf6dc5e936fc717fff6ea4fe', 50), ('greater-c6de2e2ddf6dc5e936fc717fff6ea4fe', 51), ('greater-c6de2e2ddf6dc5e936fc717fff6ea4fe', 52), ('greater-c6de2e2ddf6dc5e936fc717fff6ea4fe', 53), ('greater-c6de2e2ddf6dc5e936fc717fff6ea4fe', 54), ('greater-c6de2e2ddf6dc5e936fc717fff6ea4fe', 55), ('greater-c6de2e2ddf6dc5e936fc717fff6ea4fe', 56), ('greater-c6de2e2ddf6dc5e936fc717fff6ea4fe', 57), ('greater-c6de2e2ddf6dc5e936fc717fff6ea4fe', 58), ('greater-c6de2e2ddf6dc5e936fc717fff6ea4fe', 59), ('greater-c6de2e2ddf6dc5e936fc717fff6ea4fe', 60), ('greater-c6de2e2ddf6dc5e936fc717fff6ea4fe', 61), ('greater-c6de2e2ddf6dc5e936fc717fff6ea4fe', 62), ('greater-c6de2e2ddf6dc5e936fc717fff6ea4fe', 63), ('greater-c6de2e2ddf6dc5e936fc717fff6ea4fe', 64), ('greater-c6de2e2ddf6dc5e936fc717fff6ea4fe', 65), ('greater-c6de2e2ddf6dc5e936fc717fff6ea4fe', 66), ('greater-c6de2e2ddf6dc5e936fc717fff6ea4fe', 67), ('greater-c6de2e2ddf6dc5e936fc717fff6ea4fe', 68), ('greater-c6de2e2ddf6dc5e936fc717fff6ea4fe', 69), ('greater-c6de2e2ddf6dc5e936fc717fff6ea4fe', 70), ('greater-c6de2e2ddf6dc5e936fc717fff6ea4fe', 71), ('greater-c6de2e2ddf6dc5e936fc717fff6ea4fe', 72), ('greater-c6de2e2ddf6dc5e936fc717fff6ea4fe', 73), ('greater-c6de2e2ddf6dc5e936fc717fff6ea4fe', 74), ('greater-c6de2e2ddf6dc5e936fc717fff6ea4fe', 75), ('greater-c6de2e2ddf6dc5e936fc717fff6ea4fe', 76), ('greater-c6de2e2ddf6dc5e936fc717fff6ea4fe', 77), ('greater-c6de2e2ddf6dc5e936fc717fff6ea4fe', 78), ('greater-c6de2e2ddf6dc5e936fc717fff6ea4fe', 79), ('greater-c6de2e2ddf6dc5e936fc717fff6ea4fe', 80), ('greater-c6de2e2ddf6dc5e936fc717fff6ea4fe', 81), ('greater-c6de2e2ddf6dc5e936fc717fff6ea4fe', 82), ('greater-c6de2e2ddf6dc5e936fc717fff6ea4fe', 83), ('greater-c6de2e2ddf6dc5e936fc717fff6ea4fe', 84), ('greater-c6de2e2ddf6dc5e936fc717fff6ea4fe', 85), ('greater-c6de2e2ddf6dc5e936fc717fff6ea4fe', 86), ('greater-c6de2e2ddf6dc5e936fc717fff6ea4fe', 87), ('greater-c6de2e2ddf6dc5e936fc717fff6ea4fe', 88), ('greater-c6de2e2ddf6dc5e936fc717fff6ea4fe', 89), ('greater-c6de2e2ddf6dc5e936fc717fff6ea4fe', 90), ('greater-c6de2e2ddf6dc5e936fc717fff6ea4fe', 91), ('greater-c6de2e2ddf6dc5e936fc717fff6ea4fe', 92), ('greater-c6de2e2ddf6dc5e936fc717fff6ea4fe', 93), ('greater-c6de2e2ddf6dc5e936fc717fff6ea4fe', 94), ('greater-c6de2e2ddf6dc5e936fc717fff6ea4fe', 95), ('greater-c6de2e2ddf6dc5e936fc717fff6ea4fe', 96), ('greater-c6de2e2ddf6dc5e936fc717fff6ea4fe', 97), ('greater-c6de2e2ddf6dc5e936fc717fff6ea4fe', 98), ('greater-c6de2e2ddf6dc5e936fc717fff6ea4fe', 99), ('x-37d788571bc5afe53468e2a0532ece6d', 0), ('x-37d788571bc5afe53468e2a0532ece6d', 1), ('x-37d788571bc5afe53468e2a0532ece6d', 2), ('x-37d788571bc5afe53468e2a0532ece6d', 3), ('x-37d788571bc5afe53468e2a0532ece6d', 4), ('x-37d788571bc5afe53468e2a0532ece6d', 5), ('x-37d788571bc5afe53468e2a0532ece6d', 6), ('x-37d788571bc5afe53468e2a0532ece6d', 7), ('x-37d788571bc5afe53468e2a0532ece6d', 8), ('x-37d788571bc5afe53468e2a0532ece6d', 9), ('x-37d788571bc5afe53468e2a0532ece6d', 10), ('x-37d788571bc5afe53468e2a0532ece6d', 11), ('x-37d788571bc5afe53468e2a0532ece6d', 12), ('x-37d788571bc5afe53468e2a0532ece6d', 13), ('x-37d788571bc5afe53468e2a0532ece6d', 14), ('x-37d788571bc5afe53468e2a0532ece6d', 15), ('x-37d788571bc5afe53468e2a0532ece6d', 16), ('x-37d788571bc5afe53468e2a0532ece6d', 17), ('x-37d788571bc5afe53468e2a0532ece6d', 18), ('x-37d788571bc5afe53468e2a0532ece6d', 19), ('x-37d788571bc5afe53468e2a0532ece6d', 20), ('x-37d788571bc5afe53468e2a0532ece6d', 21), ('x-37d788571bc5afe53468e2a0532ece6d', 22), ('x-37d788571bc5afe53468e2a0532ece6d', 23), ('x-37d788571bc5afe53468e2a0532ece6d', 24), ('x-37d788571bc5afe53468e2a0532ece6d', 25), ('x-37d788571bc5afe53468e2a0532ece6d', 26), ('x-37d788571bc5afe53468e2a0532ece6d', 27), ('x-37d788571bc5afe53468e2a0532ece6d', 28), ('x-37d788571bc5afe53468e2a0532ece6d', 29), ('x-37d788571bc5afe53468e2a0532ece6d', 30), ('x-37d788571bc5afe53468e2a0532ece6d', 31), ('x-37d788571bc5afe53468e2a0532ece6d', 32), ('x-37d788571bc5afe53468e2a0532ece6d', 33), ('x-37d788571bc5afe53468e2a0532ece6d', 34), ('x-37d788571bc5afe53468e2a0532ece6d', 35), ('x-37d788571bc5afe53468e2a0532ece6d', 36), ('x-37d788571bc5afe53468e2a0532ece6d', 37), ('x-37d788571bc5afe53468e2a0532ece6d', 38), ('x-37d788571bc5afe53468e2a0532ece6d', 39), ('x-37d788571bc5afe53468e2a0532ece6d', 40), ('x-37d788571bc5afe53468e2a0532ece6d', 41), ('x-37d788571bc5afe53468e2a0532ece6d', 42), ('x-37d788571bc5afe53468e2a0532ece6d', 43), ('x-37d788571bc5afe53468e2a0532ece6d', 44), ('x-37d788571bc5afe53468e2a0532ece6d', 45), ('x-37d788571bc5afe53468e2a0532ece6d', 46), ('x-37d788571bc5afe53468e2a0532ece6d', 47), ('x-37d788571bc5afe53468e2a0532ece6d', 48), ('x-37d788571bc5afe53468e2a0532ece6d', 49), ('x-37d788571bc5afe53468e2a0532ece6d', 50), ('x-37d788571bc5afe53468e2a0532ece6d', 51), ('x-37d788571bc5afe53468e2a0532ece6d', 52), ('x-37d788571bc5afe53468e2a0532ece6d', 53), ('x-37d788571bc5afe53468e2a0532ece6d', 54), ('x-37d788571bc5afe53468e2a0532ece6d', 55), ('x-37d788571bc5afe53468e2a0532ece6d', 56), ('x-37d788571bc5afe53468e2a0532ece6d', 57), ('x-37d788571bc5afe53468e2a0532ece6d', 58), ('x-37d788571bc5afe53468e2a0532ece6d', 59), ('x-37d788571bc5afe53468e2a0532ece6d', 60), ('x-37d788571bc5afe53468e2a0532ece6d', 61), ('x-37d788571bc5afe53468e2a0532ece6d', 62), ('x-37d788571bc5afe53468e2a0532ece6d', 63), ('x-37d788571bc5afe53468e2a0532ece6d', 64), ('x-37d788571bc5afe53468e2a0532ece6d', 65), ('x-37d788571bc5afe53468e2a0532ece6d', 66), ('x-37d788571bc5afe53468e2a0532ece6d', 67), ('x-37d788571bc5afe53468e2a0532ece6d', 68), ('x-37d788571bc5afe53468e2a0532ece6d', 69), ('x-37d788571bc5afe53468e2a0532ece6d', 70), ('x-37d788571bc5afe53468e2a0532ece6d', 71), ('x-37d788571bc5afe53468e2a0532ece6d', 72), ('x-37d788571bc5afe53468e2a0532ece6d', 73), ('x-37d788571bc5afe53468e2a0532ece6d', 74), ('x-37d788571bc5afe53468e2a0532ece6d', 75), ('x-37d788571bc5afe53468e2a0532ece6d', 76), ('x-37d788571bc5afe53468e2a0532ece6d', 77), ('x-37d788571bc5afe53468e2a0532ece6d', 78), ('x-37d788571bc5afe53468e2a0532ece6d', 79), ('x-37d788571bc5afe53468e2a0532ece6d', 80), ('x-37d788571bc5afe53468e2a0532ece6d', 81), ('x-37d788571bc5afe53468e2a0532ece6d', 82), ('x-37d788571bc5afe53468e2a0532ece6d', 83), ('x-37d788571bc5afe53468e2a0532ece6d', 84), ('x-37d788571bc5afe53468e2a0532ece6d', 85), ('x-37d788571bc5afe53468e2a0532ece6d', 86), ('x-37d788571bc5afe53468e2a0532ece6d', 87), ('x-37d788571bc5afe53468e2a0532ece6d', 88), ('x-37d788571bc5afe53468e2a0532ece6d', 89), ('x-37d788571bc5afe53468e2a0532ece6d', 90), ('x-37d788571bc5afe53468e2a0532ece6d', 91), ('x-37d788571bc5afe53468e2a0532ece6d', 92), ('x-37d788571bc5afe53468e2a0532ece6d', 93), ('x-37d788571bc5afe53468e2a0532ece6d', 94), ('x-37d788571bc5afe53468e2a0532ece6d', 95), ('x-37d788571bc5afe53468e2a0532ece6d', 96), ('x-37d788571bc5afe53468e2a0532ece6d', 97), ('x-37d788571bc5afe53468e2a0532ece6d', 98), ('x-37d788571bc5afe53468e2a0532ece6d', 99)])"
      ]
     },
     "execution_count": 30,
     "metadata": {},
     "output_type": "execute_result"
    }
   ],
   "source": [
    "g.keys()"
   ]
  },
  {
   "attachments": {},
   "cell_type": "markdown",
   "metadata": {},
   "source": [
    "Ok - too hard to understand. Lets do it for one file."
   ]
  },
  {
   "cell_type": "code",
   "execution_count": 37,
   "metadata": {},
   "outputs": [
    {
     "data": {
      "text/plain": [
       "dask.awkward<x, npartitions=1>"
      ]
     },
     "execution_count": 37,
     "metadata": {},
     "output_type": "execute_result"
    }
   ],
   "source": [
    "import dask_awkward as dak\n",
    "\n",
    "x = dak.from_json(\"data0.json\")\n",
    "result3 = x[x.x > 2].x\n",
    "result3"
   ]
  },
  {
   "cell_type": "code",
   "execution_count": 38,
   "metadata": {},
   "outputs": [
    {
     "data": {
      "text/plain": [
       "dict_keys([('getitem-684436b54b5781868e72ea82a6681bae', 0), ('from-json-d1854d5be36375807dfdd90f07a6e5a4', 0), ('x-4ffe2fb34d85b676913770e7536211e8', 0), ('greater-2201a1e6411991b73a37ffc2aba2d89a', 0), ('x-a75c4079032a8a2b5827b57088198e94', 0)])"
      ]
     },
     "execution_count": 38,
     "metadata": {},
     "output_type": "execute_result"
    }
   ],
   "source": [
    "g = result3.__dask_graph__()\n",
    "g.keys()"
   ]
  },
  {
   "cell_type": "code",
   "execution_count": 39,
   "metadata": {},
   "outputs": [
    {
     "name": "stdout",
     "output_type": "stream",
     "text": [
      "('getitem-684436b54b5781868e72ea82a6681bae', 0) (subgraph_callable-0971dd35-7207-4bd5-9159-74db18846864, ('from-json-d1854d5be36375807dfdd90f07a6e5a4', 0), ('greater-2201a1e6411991b73a37ffc2aba2d89a', 0))\n",
      "\n",
      "('from-json-d1854d5be36375807dfdd90f07a6e5a4', 0) (subgraph_callable-c868e464-32e3-4eb5-8c05-75c74932c6fe, 'c:/Users/gordo/Code/iris-hep/awkward-20-testing/notebooks/data0.json')\n",
      "\n",
      "('x-4ffe2fb34d85b676913770e7536211e8', 0) (subgraph_callable-b22a8241-32ad-4dd1-8485-86238864273b, ('from-json-d1854d5be36375807dfdd90f07a6e5a4', 0), 'x')\n",
      "\n",
      "('greater-2201a1e6411991b73a37ffc2aba2d89a', 0) (subgraph_callable-347dba23-292e-4f65-9125-6c8a9c509bdd, ('x-4ffe2fb34d85b676913770e7536211e8', 0), 2)\n",
      "\n",
      "('x-a75c4079032a8a2b5827b57088198e94', 0) (subgraph_callable-b6bf1036-d182-41d4-a743-68648d595dfa, ('getitem-684436b54b5781868e72ea82a6681bae', 0), 'x')\n",
      "\n"
     ]
    }
   ],
   "source": [
    "for k, v in g.items():\n",
    "    print(k, v)\n",
    "    print()"
   ]
  },
  {
   "attachments": {},
   "cell_type": "markdown",
   "metadata": {},
   "source": [
    "## Getting a bad variable\n",
    "\n",
    "Lets see how eager this whole thing is?"
   ]
  },
  {
   "cell_type": "code",
   "execution_count": 40,
   "metadata": {},
   "outputs": [
    {
     "ename": "AttributeError",
     "evalue": "y not in fields.",
     "output_type": "error",
     "traceback": [
      "\u001b[1;31m---------------------------------------------------------------------------\u001b[0m",
      "\u001b[1;31mAttributeError\u001b[0m                            Traceback (most recent call last)",
      "Cell \u001b[1;32mIn[40], line 4\u001b[0m\n\u001b[0;32m      1\u001b[0m \u001b[39mimport\u001b[39;00m \u001b[39mdask_awkward\u001b[39;00m \u001b[39mas\u001b[39;00m \u001b[39mdak\u001b[39;00m\n\u001b[0;32m      3\u001b[0m x \u001b[39m=\u001b[39m dak\u001b[39m.\u001b[39mfrom_json(\u001b[39m\"\u001b[39m\u001b[39mdata0.json\u001b[39m\u001b[39m\"\u001b[39m)\n\u001b[1;32m----> 4\u001b[0m result4 \u001b[39m=\u001b[39m x[x\u001b[39m.\u001b[39;49mx \u001b[39m>\u001b[39;49m \u001b[39m2\u001b[39;49m]\u001b[39m.\u001b[39;49my\n\u001b[0;32m      5\u001b[0m result4\n",
      "File \u001b[1;32mc:\\Users\\gordo\\Code\\iris-hep\\awkward-20-testing\\.venv\\Lib\\site-packages\\dask_awkward\\lib\\core.py:997\u001b[0m, in \u001b[0;36mArray.__getattr__\u001b[1;34m(self, attr)\u001b[0m\n\u001b[0;32m    994\u001b[0m     \u001b[39melif\u001b[39;00m \u001b[39mself\u001b[39m\u001b[39m.\u001b[39m_maybe_behavior_property(attr):\n\u001b[0;32m    995\u001b[0m         \u001b[39mreturn\u001b[39;00m \u001b[39mself\u001b[39m\u001b[39m.\u001b[39m_call_behavior_property(attr)\n\u001b[1;32m--> 997\u001b[0m     \u001b[39mraise\u001b[39;00m \u001b[39mAttributeError\u001b[39;00m(\u001b[39mf\u001b[39m\u001b[39m\"\u001b[39m\u001b[39m{\u001b[39;00mattr\u001b[39m}\u001b[39;00m\u001b[39m not in fields.\u001b[39m\u001b[39m\"\u001b[39m)\n\u001b[0;32m    998\u001b[0m \u001b[39mtry\u001b[39;00m:\n\u001b[0;32m    999\u001b[0m     \u001b[39m# at this point attr is either a field or we'll have to\u001b[39;00m\n\u001b[0;32m   1000\u001b[0m     \u001b[39m# raise an exception.\u001b[39;00m\n\u001b[0;32m   1001\u001b[0m     \u001b[39mreturn\u001b[39;00m \u001b[39mself\u001b[39m\u001b[39m.\u001b[39m\u001b[39m__getitem__\u001b[39m(attr)\n",
      "\u001b[1;31mAttributeError\u001b[0m: y not in fields."
     ]
    }
   ],
   "source": [
    "import dask_awkward as dak\n",
    "\n",
    "x = dak.from_json(\"data0.json\")\n",
    "result4 = x[x.x > 2].y\n",
    "result4"
   ]
  },
  {
   "attachments": {},
   "cell_type": "markdown",
   "metadata": {},
   "source": [
    "Ok - this is terrifically bad. Or we'd have to have everything - and how would we specify methods, etc.?"
   ]
  },
  {
   "cell_type": "code",
   "execution_count": null,
   "metadata": {},
   "outputs": [],
   "source": []
  }
 ],
 "metadata": {
  "kernelspec": {
   "display_name": ".venv",
   "language": "python",
   "name": "python3"
  },
  "language_info": {
   "codemirror_mode": {
    "name": "ipython",
    "version": 3
   },
   "file_extension": ".py",
   "mimetype": "text/x-python",
   "name": "python",
   "nbconvert_exporter": "python",
   "pygments_lexer": "ipython3",
   "version": "3.11.2"
  },
  "orig_nbformat": 4,
  "vscode": {
   "interpreter": {
    "hash": "a0a228228fe772f7cb579b5880c0b4d5ff3fc81d4ce74d3dc9f6d7b1c92ce8c9"
   }
  }
 },
 "nbformat": 4,
 "nbformat_minor": 2
}
