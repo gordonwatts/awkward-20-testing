{
 "cells": [
  {
   "attachments": {},
   "cell_type": "markdown",
   "metadata": {},
   "source": [
    "# With an Event Data Model\n",
    "\n",
    "Lets see if we can't build something that has a sort-of event data model that looks a lot like awkward, but does \"the right thing\" in the queries, and returns awkward events.\n",
    "\n",
    "The EDM is pretty simple:\n",
    "\n",
    "* An object that represents all events\n",
    "* It has a jet collection (which is named)\n",
    "* The jets have pt and eta columns.\n",
    "\n",
    "## Difference from the first EDM notebook:\n",
    "\n",
    "After talking with Lindsey we discovered that we don't need to know the number of partitions when we create the expression. It is only needed at evaluation.\n",
    "\n",
    "Given the way ServiceX works now, we can wait until SX returns the number of files - and as soon as that happens, we can then return the number of layers.\n",
    "\n",
    "If all goes well, this happens only after full optimization is done, that way we will know the \"useful\" columns before this has to be filled in."
   ]
  },
  {
   "cell_type": "code",
   "execution_count": 1,
   "metadata": {},
   "outputs": [],
   "source": [
    "import dask_histogram as dh\n",
    "import mplhep as hep\n",
    "import dask_awkward as dak\n",
    "import uproot\n",
    "import awkward as ak\n",
    "from pathlib import Path\n",
    "import dask\n",
    "\n",
    "from typing import Dict, List, Iterable\n",
    "\n",
    "# We will use this as dummy data - this is from a real SX query, so even if the column\n",
    "# names are wrong, at least the \"form\" of the data is as it would be.\n",
    "root_file = Path(\"0fc6e51a5ea6dea107c195591d20a1b2-15.26710677._000019.pool.root.1\")"
   ]
  },
  {
   "attachments": {},
   "cell_type": "markdown",
   "metadata": {},
   "source": [
    "## Array Input Source\n",
    "\n",
    "Code to manage the query. There are several components. The design is driven by my understanding of how `dask` and `dask-awkward` work.\n",
    "\n",
    "* A central query manager\n",
    "    * One per dataset that will be queried\n",
    "    * Collects all the columns that we will want form ServiceX\n",
    "    * When the `.compute()` triggers the calculation, this triggers the query to ServiceX\n",
    "    * Only one query is made for all columns\n",
    "* `dask` `ArrayInputLayer`\n",
    "    * Holds onto the query manager and the particular queried column that needs to be fetched from the query\n",
    "    * Depending on how `dask` is running, many requests may come in for the same query at about the same time\n",
    "    * Will likely need to be thread safe\n",
    "    * Though not done here, there is no reason not to use the async interface that comes back from SX, so you can pump the data through the system naturally as it arrives."
   ]
  },
  {
   "attachments": {},
   "cell_type": "markdown",
   "metadata": {},
   "source": [
    "First up is the ServiceX query manager. There is one of these per dataset."
   ]
  },
  {
   "cell_type": "code",
   "execution_count": 2,
   "metadata": {},
   "outputs": [],
   "source": [
    "class sx_query_manager:\n",
    "    def __init__(self, queries: Dict[str, str]):\n",
    "        '''Create a query manager. When triggered, takes all the queries, combines them, and triggers SX and waits for the files to all come back.'''\n",
    "        self._queries = queries\n",
    "        # This would probably end up being a mutex of some sort.\n",
    "        # TODO how do we to multiple queries? There is probably something basic missing in the design for\n",
    "        # that.\n",
    "        self._query_done = False\n",
    "    \n",
    "    @property\n",
    "    def inputs(self) -> List[str]:\n",
    "        '''Return the names of the partitions\n",
    "        TODO: We might not know this actual number until the SX query is well under\n",
    "        way, and so it might be different from the number of partitions.\n",
    "        So - this is determined only when the query is executed!!\n",
    "        This could be, for example, the URL objects referencing minio filenames names in the query bucket.\n",
    "        '''\n",
    "        if not self._query_done:\n",
    "            self._query_done = True\n",
    "            # TODO: Magic code to combine all the queries\n",
    "            print(f\"Just did query for {self._queries.keys()} (and {self._queries.values()})\")\n",
    "        return [f'part_{i}' for i in range(0, self.npartitions)]\n",
    "    \n",
    "    @property\n",
    "    def ninputs(self) -> int:\n",
    "        '''Number of actual input partitions after the query is under way'''\n",
    "        # TODO: this would need to block on a new query till we knew the number of queries\n",
    "        return len(self.inputs)\n",
    "\n",
    "    @property\n",
    "    def npartitions(self) -> int:\n",
    "        '''Return the number of partitions in the data'''\n",
    "\n",
    "        # TODO: SX Dataset will need a new property/method that will\n",
    "        # return the number of data partitions coming back, or a default\n",
    "        # value if this is a new dataset (say 10, from the other sample\n",
    "        # code here in this guy).\n",
    "        return 10\n",
    "    \n",
    "    @property\n",
    "    def metadata(self) -> ak.Array:\n",
    "        '''Return the metadata for the query'''\n",
    "        # Build the metadata for this array we will be returning. Each partition\n",
    "        # will be of this form.\n",
    "        sample_array = ak.from_iter([[1.0, 2.1], [3.2], [], [4.3, 5.4]])\n",
    "        return dak.core.typetracer_array(sample_array)\n",
    "\n"
   ]
  },
  {
   "cell_type": "code",
   "execution_count": 3,
   "metadata": {},
   "outputs": [],
   "source": [
    "def make_input_layer(name: str, leaf_name: str, query_manager: sx_query_manager):\n",
    "    '''Create an AwkwardInput layer with however many chunks the query from SX\n",
    "    is going to return.\n",
    "\n",
    "    Use `query_manager` to understand the number of input files that will come back\n",
    "    from SX. Normally the number of partitions would be the same, unless this is a new\n",
    "    dataset and we've never made a query before.\n",
    "\n",
    "    Args:\n",
    "        name(str): Unique name for internal reference\n",
    "        leaf_name(str): In the query, this is the column we are interested in\n",
    "        query_manager(sx_query_manager): What manages the actual query\n",
    "\n",
    "    Returns:\n",
    "        AwkwardInputLayer: Input Layer\n",
    "    '''\n",
    "    def generate_data(block):\n",
    "        '''Generate the data for a particular partition. We have the job of\n",
    "        figuring out how many files per partition.\n",
    "\n",
    "        Args:\n",
    "            block (int): The block number\n",
    "        '''\n",
    "        # This will be a list of things we'll use uproot to open.\n",
    "        files = []\n",
    "\n",
    "        if query_manager.ninputs <= query_manager.npartitions:\n",
    "            if block < query_manager.ninputs:\n",
    "                files = [generate_partition_data(query_manager.inputs[block])]\n",
    "            else:\n",
    "                return ak.from_iter([])\n",
    "        else:\n",
    "            num_per = int(query_manager.ninputs / query_manager.npartitions)\n",
    "            if block < (query_manager.ninputs - num_per*query_manager.npartitions):\n",
    "                num_per += 1\n",
    "            \n",
    "            # The indexing has a bug - will come back to this eventually\n",
    "            # Not important for now.\n",
    "            block_index = num_per * block\n",
    "            files = [generate_partition_data(query_manager.inputs[block_index + i]) for i in range(0, num_per)]\n",
    "\n",
    "        # files = uproot.dask(file_list)\n",
    "        # pt = files['JetPt']\n",
    "        # TODO: would use `leaf_name rather than `JetPt`\n",
    "        all_pt = [uproot.open(f_name)['treeme']['JetPt'].array(library='ak') for f_name in files]  # type: ignore\n",
    "        pt = ak.concatenate(all_pt)\n",
    "        return pt\n",
    "\n",
    "    def generate_partition_data(block):\n",
    "        '''Generate the partition data for a single block.\n",
    "\n",
    "        Args:\n",
    "            block (_type_): _description_\n",
    "\n",
    "        Returns:\n",
    "            _type_: _description_\n",
    "        '''\n",
    "        print(f'In generate_data: {block}')\n",
    "        return root_file\n",
    "\n",
    "    # Next, create the input layer that will be used to generate the data.\n",
    "    # Always setup 10 partitions\n",
    "    dsk = dak.layers.AwkwardInputLayer(\n",
    "            name=name,\n",
    "            inputs=list(range(0, query_manager.npartitions)),\n",
    "            io_func=generate_data,\n",
    "            # meta=metadata,\n",
    "            # behavior=None,\n",
    "        )\n",
    "\n",
    "    return dsk"
   ]
  },
  {
   "attachments": {},
   "cell_type": "markdown",
   "metadata": {},
   "source": [
    "Finally, generate the actual `dask-awkward` array that downstream can use."
   ]
  },
  {
   "cell_type": "code",
   "execution_count": 4,
   "metadata": {},
   "outputs": [],
   "source": [
    "def generate_sx_daq(sx_leaf_name: str, query_manager: sx_query_manager) -> dak.Array:\n",
    "    name = 'unique-name'\n",
    "    input_layer = make_input_layer(name, sx_leaf_name, query_manager)\n",
    "\n",
    "    # Create the high level graph that will hold all of this, and the actual array object\n",
    "    hlg = dask.highlevelgraph.HighLevelGraph.from_collections(name, input_layer)  # type: ignore\n",
    "    ar = dak.core.new_array_object(hlg, name, meta=query_manager.metadata, npartitions=query_manager.npartitions)\n",
    "\n",
    "    return ar"
   ]
  },
  {
   "attachments": {},
   "cell_type": "markdown",
   "metadata": {},
   "source": [
    "## EDM\n",
    "\n",
    "Define a really simple edm that takes (some) parameters."
   ]
  },
  {
   "cell_type": "code",
   "execution_count": 5,
   "metadata": {},
   "outputs": [],
   "source": [
    "class jets:\n",
    "    '''Represents a collection of jets'''\n",
    "\n",
    "    def __init__(self, base_obj, base_query: str, name_stub: str):\n",
    "        self._query = base_query\n",
    "        self._parent_edm = base_obj\n",
    "        self._name_stub = name_stub\n",
    "\n",
    "    def pt(self) -> dak.Array:\n",
    "        '''Return the jet $p_T$ for all events (assuming xAOD-like objects)'''\n",
    "        # NOTE: in real code this would be lambda's in code that build an ast\n",
    "        query = f'{self._query}.Select(j: j.pt())'\n",
    "        return self._parent_edm._add_query(f'{self._name_stub}_pt', query)\n",
    "\n",
    "    def eta(self) -> dak.Array:\n",
    "        r'''Return the jet $\\eta$ for all events'''\n",
    "        # NOTE: in real code this would be lambda's in code that build an ast\n",
    "        query = f'{self._query}.Select(j: j.eta())'\n",
    "        return self._parent_edm._add_query(f'{self._name_stub}_eta', query)\n",
    "\n",
    "class events:\n",
    "    '''Represents all events in a file'''\n",
    "    def __init__(self, base_query=\"sx_datasource\"):\n",
    "        self._my_jets: Dict[str, jets] = {}\n",
    "        self._query = base_query\n",
    "        self._sx_columns: Dict[str, str] = {}\n",
    "        self._sx_col_arrays: Dict[str, dak.Array] = {}\n",
    "        self._sx_query_manager = None\n",
    "\n",
    "    def _add_query(self, name: str, query: str) -> dak.Array:\n",
    "        '''Add a query to the SX backend so when we \"run\" we actually execute the query.\n",
    "        Return the data in `name` column in the sx query\n",
    "        Return a dask/awkward builder that knows how to make the full query when\n",
    "        the compute is hit.\n",
    "        '''\n",
    "        # Return an Array for this query.\n",
    "        # NB: Since Awkward and dask need to know *everything* before they can even form the\n",
    "        # compute graph, we have to return an array here. Each repeated request will do the same.\n",
    "        # That said, if multiple things are requested, they will be tied to a single SX transaction.\n",
    "        # This makes a mess of sync when things are running on multiple threads, but don't see a way\n",
    "        # to untie this.\n",
    "        if self._sx_query_manager is None:\n",
    "            # Note that `_sx_columns` is a dict and passed in by reference\n",
    "            self._sx_query_manager = sx_query_manager(self._sx_columns)\n",
    "\n",
    "        # Create the array output layer\n",
    "        if name not in self._sx_columns:\n",
    "            d_array = generate_sx_daq(name, self._sx_query_manager)\n",
    "            self._sx_columns[name] = query\n",
    "            self._sx_col_arrays[name] = d_array\n",
    "\n",
    "        # Return the array for use by user\n",
    "        return self._sx_col_arrays[name]        \n",
    "\n",
    "    def jets(self, jet_collection_name: str) -> jets:\n",
    "        '''Return the jet collection'''\n",
    "        if jet_collection_name not in self._my_jets:\n",
    "        # NOTE: in real code this would be lambda's in code that build an ast\n",
    "            query = f'{self._query}.Select(e: e.Jets(\"{jet_collection_name}\"))'\n",
    "            self._my_jets[jet_collection_name] = jets(self, query, jet_collection_name)\n",
    "        return self._my_jets[jet_collection_name]"
   ]
  },
  {
   "attachments": {},
   "cell_type": "markdown",
   "metadata": {},
   "source": [
    "## Make a histogram of jet $p_T$\n",
    "\n",
    "Start with something really simple."
   ]
  },
  {
   "cell_type": "code",
   "execution_count": 6,
   "metadata": {},
   "outputs": [
    {
     "name": "stdout",
     "output_type": "stream",
     "text": [
      "Just did query for dict_keys(['antipflow_pt']) (and dict_values(['sx_datasource.Select(e: e.Jets(\"antipflow\")).Select(j: j.pt())']))\n",
      "In generate_data: part_7\n",
      "In generate_data: part_3\n",
      "In generate_data: part_0\n",
      "In generate_data: part_4\n",
      "In generate_data: part_1\n",
      "In generate_data: part_2\n",
      "In generate_data: part_5\n",
      "In generate_data: part_6\n",
      "In generate_data: part_9\n",
      "In generate_data: part_8\n"
     ]
    },
    {
     "data": {
      "image/png": "[encoded data removed]",
      "text/plain": [
       "<Figure size 640x480 with 1 Axes>"
      ]
     },
     "metadata": {},
     "output_type": "display_data"
    }
   ],
   "source": [
    "e = events()\n",
    "x = e.jets('antipflow').pt()\n",
    "\n",
    "h = dh.factory(dak.flatten(x), axes=(dh.axis.Regular(40, 0, 1000),))\n",
    "r = h.compute()\n",
    "_ = hep.histplot(r)"
   ]
  },
  {
   "attachments": {},
   "cell_type": "markdown",
   "metadata": {},
   "source": [
    "## Two variables\n",
    "\n",
    "This just double checks that the code to accumulate different items will work."
   ]
  },
  {
   "cell_type": "code",
   "execution_count": 7,
   "metadata": {},
   "outputs": [
    {
     "name": "stdout",
     "output_type": "stream",
     "text": [
      "Just did query for dict_keys(['antipflow_pt', 'antipflow_eta']) (and dict_values(['sx_datasource.Select(e: e.Jets(\"antipflow\")).Select(j: j.pt())', 'sx_datasource.Select(e: e.Jets(\"antipflow\")).Select(j: j.eta())']))\n",
      "In generate_data: part_7\n",
      "In generate_data: part_5\n",
      "In generate_data: part_2\n",
      "In generate_data: part_6\n",
      "In generate_data: part_3\n",
      "In generate_data: part_0\n",
      "In generate_data: part_1\n",
      "In generate_data: part_4\n",
      "In generate_data: part_9\n",
      "In generate_data: part_8\n",
      "Just did query for dict_keys(['antipflow_pt', 'antipflow_eta']) (and dict_values(['sx_datasource.Select(e: e.Jets(\"antipflow\")).Select(j: j.pt())', 'sx_datasource.Select(e: e.Jets(\"antipflow\")).Select(j: j.eta())']))In generate_data: part_4\n",
      "In generate_data: part_1\n",
      "In generate_data: part_2\n",
      "\n",
      "In generate_data: part_7\n",
      "In generate_data: part_5\n",
      "In generate_data: part_6\n",
      "In generate_data: part_3\n",
      "In generate_data: part_0\n",
      "In generate_data: part_9\n",
      "In generate_data: part_8\n"
     ]
    },
    {
     "data": {
      "image/png": "[encoded data removed]",
      "text/plain": [
       "<Figure size 640x480 with 1 Axes>"
      ]
     },
     "metadata": {},
     "output_type": "display_data"
    }
   ],
   "source": [
    "e = events()\n",
    "pt = e.jets('antipflow').pt()\n",
    "eta = e.jets('antipflow').eta()\n",
    "\n",
    "# Remember that we don't really have eta - just pt duplicated, so this\n",
    "# cut is nothing more than a demo\n",
    "good_pt = pt[eta > 50]\n",
    "\n",
    "h = dh.factory(dak.flatten(good_pt), axes=(dh.axis.Regular(40, 0, 1000),))\n",
    "r = h.compute()\n",
    "_ = hep.histplot(r)"
   ]
  },
  {
   "attachments": {},
   "cell_type": "markdown",
   "metadata": {},
   "source": [
    "## Unused variable\n",
    "\n",
    "Do not actually know how to make this work.\n",
    "\n",
    "The below query generates the proper result, but even though it doesn't need eta, it still asks for it from ServiceX."
   ]
  },
  {
   "cell_type": "code",
   "execution_count": 8,
   "metadata": {},
   "outputs": [
    {
     "data": {
      "image/png": "[encoded data removed]",
      "text/plain": [
       "<Figure size 640x480 with 1 Axes>"
      ]
     },
     "metadata": {},
     "output_type": "display_data"
    }
   ],
   "source": [
    "e = events()\n",
    "pt = e.jets('antipflow').pt()\n",
    "eta = e.jets('antipflow').eta()\n",
    "\n",
    "# Remember that we don't really have eta - just pt duplicated, so this\n",
    "# cut is nothing more than a demo\n",
    "good_pt = pt[eta > 50]\n",
    "\n",
    "# Note good_pt and thus eta are not actually needed.\n",
    "h = dh.factory(dak.flatten(pt), axes=(dh.axis.Regular(40, 0, 1000),))\n",
    "r = h.compute()\n",
    "_ = hep.histplot(r)"
   ]
  }
 ],
 "metadata": {
  "kernelspec": {
   "display_name": ".venv",
   "language": "python",
   "name": "python3"
  },
  "language_info": {
   "codemirror_mode": {
    "name": "ipython",
    "version": 3
   },
   "file_extension": ".py",
   "mimetype": "text/x-python",
   "name": "python",
   "nbconvert_exporter": "python",
   "pygments_lexer": "ipython3",
   "version": "3.11.6"
  },
  "orig_nbformat": 4
 },
 "nbformat": 4,
 "nbformat_minor": 2
}
