{
 "cells": [
  {
   "cell_type": "markdown",
   "metadata": {},
   "source": [
    "# DASK to ServiceX\n",
    "\n",
    "In this demo we'll take advantage of DASK and ServiceX.\n",
    "\n",
    "## Assumptions:\n",
    "\n",
    "* We don't start anything until we know the number of files that SX will produce\n",
    "* We are ok with some files failing coming out of SX\n",
    "* We are going to do one partition per file\n",
    "* When we start we don't necessarily know all the files produced.\n",
    "\n",
    "## Design Outline\n",
    "\n",
    "* A single `dask` task/layer that has a single output per partition. The output is just a string.\n",
    "* The `AwkwardInputLayer` that has looks at the task input and loads that data from `minio`\n",
    "\n",
    "This version of things will work only for local files - once this works we can move it to a SX prototype.\n",
    "\n",
    "This was written before any code below."
   ]
  },
  {
   "cell_type": "markdown",
   "metadata": {},
   "source": [
    "## Research\n",
    "\n",
    "A few things to help get started below.\n",
    "\n",
    "### How does the current uproot/dask work?\n",
    "\n",
    "The `from_map` is the base of how `dask_awkward` builds the production. One very nice thing - this is a public interface, so we\n",
    "can rely on it in libraries. \n",
    "\n",
    "```python\n",
    "def from_map(\n",
    "    func: Callable,\n",
    "    *iterables: Iterable,\n",
    "    args: tuple[Any, ...] | None = None,\n",
    "    label: str | None = None,\n",
    "    token: str | None = None,\n",
    "    divisions: tuple[int, ...] | tuple[None, ...] | None = None,\n",
    "    meta: ak.Array | None = None,\n",
    "    **kwargs: Any,\n",
    ") -> Array | tuple[Array, Array]:\n",
    "    \"\"\"Create an Array collection from a custom mapping.\n",
    "\n",
    "    Parameters\n",
    "    ----------\n",
    "    func : Callable\n",
    "        Function used to create each partition.\n",
    "    *iterables : Iterable\n",
    "        Iterable objects to map to each output partition. All\n",
    "        iterables must be the same length. This length determines the\n",
    "        number of partitions in the output collection (only one\n",
    "        element of each iterable will be passed to `func` for each\n",
    "        partition).\n",
    "    args : tuple\n",
    "        Tuple of positional arguments to append after mapped arguments.\n",
    "    label : str, optional\n",
    "        String to use as the function-name label in the output\n",
    "        collection-key names.\n",
    "    token : str, optional\n",
    "        String to use as the \"token\" in the output collection-key names.\n",
    "    divisions : tuple[int, ...] | tuple[None, ...], optional\n",
    "        Partition boundaries (if known).\n",
    "    meta : Array, optional\n",
    "        Collection metadata array, if known (the awkward-array type\n",
    "        tracer)\n",
    "    **kwargs : Any\n",
    "        Keyword arguments passed to `func`.\n",
    "\n",
    "    Returns\n",
    "    -------\n",
    "    Array\n",
    "        Array collection.\n",
    "\n",
    "    \"\"\"\n",
    "\n",
    "    if not callable(func):\n",
    "        raise ValueError(\"`func` argument must be `callable`\")\n",
    "    lengths = set()\n",
    "    iters: list[Iterable] = list(iterables)\n",
    "    for i, iterable in enumerate(iters):\n",
    "        if not isinstance(iterable, Iterable):\n",
    "            raise ValueError(\n",
    "                f\"All elements of `iterables` must be Iterable, got {type(iterable)}\"\n",
    "            )\n",
    "        try:\n",
    "            lengths.add(len(iterable))  # type: ignore\n",
    "        except (AttributeError, TypeError):\n",
    "            iters[i] = list(iterable)\n",
    "            lengths.add(len(iters[i]))  # type: ignore\n",
    "    if len(lengths) == 0:\n",
    "        raise ValueError(\"`from_map` requires at least one Iterable input\")\n",
    "    elif len(lengths) > 1:\n",
    "        raise ValueError(\"All `iterables` must have the same length\")\n",
    "    if lengths == {0}:\n",
    "        raise ValueError(\"All `iterables` must have a non-zero length\")\n",
    "\n",
    "    # Check for `produces_tasks` and `creation_info`\n",
    "    produces_tasks = kwargs.pop(\"produces_tasks\", False)\n",
    "    # creation_info = kwargs.pop(\"creation_info\", None)\n",
    "\n",
    "    if produces_tasks or len(iters) == 1:\n",
    "        if len(iters) > 1:\n",
    "            # Tasks are not detected correctly when they are \"packed\"\n",
    "            # within an outer list/tuple\n",
    "            raise ValueError(\n",
    "                \"Multiple iterables not supported when produces_tasks=True\"\n",
    "            )\n",
    "        inputs = list(iters[0])\n",
    "        packed = False\n",
    "    else:\n",
    "        # Structure inputs such that the tuple of arguments pair each 0th,\n",
    "        # 1st, 2nd, ... elements together; for example:\n",
    "        # from_map(f, [1, 2, 3], [4, 5, 6]) --> [f(1, 4), f(2, 5), f(3, 6)]\n",
    "        inputs = list(zip(*iters))\n",
    "        packed = True\n",
    "\n",
    "    # Define collection name\n",
    "    label = label or funcname(func)\n",
    "    token = token or tokenize(func, iters, meta, **kwargs)\n",
    "    name = f\"{label}-{token}\"\n",
    "\n",
    "    # Define io_func\n",
    "\n",
    "    # FIXME: projection etc.\n",
    "    if packed or args or kwargs:\n",
    "        func = PackedArgCallable(\n",
    "            func,\n",
    "            args=args,\n",
    "            kwargs=kwargs,\n",
    "            packed=packed,\n",
    "        )\n",
    "\n",
    "    # Special `io_func` implementations can implement mocking and optionally\n",
    "    # support buffer projection.\n",
    "    if io_func_implements_mocking(func):\n",
    "        io_func = func\n",
    "        array_meta = cast(ImplementsMocking, func).mock()\n",
    "    # If we know the meta, we can spoof mocking\n",
    "    elif meta is not None:\n",
    "        io_func = IOFunctionWithMocking(meta, func)\n",
    "        array_meta = meta\n",
    "    # Without `meta`, the meta will be computed by executing the graph\n",
    "    else:\n",
    "        io_func = func\n",
    "        array_meta = None\n",
    "\n",
    "    dsk = AwkwardInputLayer(name=name, inputs=inputs, io_func=io_func)\n",
    "\n",
    "    hlg = HighLevelGraph.from_collections(name, dsk)\n",
    "    if divisions is not None:\n",
    "        result = new_array_object(hlg, name, meta=array_meta, divisions=divisions)\n",
    "    else:\n",
    "        result = new_array_object(hlg, name, meta=array_meta, npartitions=len(inputs))\n",
    "\n",
    "    if io_func_implements_report(io_func):\n",
    "        if cast(ImplementsReport, io_func).return_report:\n",
    "            res = result.map_partitions(first, meta=array_meta, output_divisions=1)\n",
    "            rep = result.map_partitions(second, meta=empty_typetracer())\n",
    "            return res, rep\n",
    "\n",
    "    return result\n",
    "```"
   ]
  },
  {
   "cell_type": "markdown",
   "metadata": {},
   "source": [
    "## Imports"
   ]
  },
  {
   "cell_type": "code",
   "execution_count": 25,
   "metadata": {},
   "outputs": [
    {
     "name": "stderr",
     "output_type": "stream",
     "text": [
      "c:\\Users\\gordo\\Code\\iris-hep\\awkward-20-testing\\.venv\\Lib\\site-packages\\distributed\\node.py:182: UserWarning: Port 8787 is already in use.\n",
      "Perhaps you already have a cluster running?\n",
      "Hosting the HTTP server on port 60674 instead\n",
      "  warnings.warn(\n"
     ]
    }
   ],
   "source": [
    "import dask_awkward as dak\n",
    "import awkward as ak\n",
    "import dask\n",
    "import uproot\n",
    "\n",
    "from dask.highlevelgraph import Layer, HighLevelGraph\n",
    "from dask.distributed import Client\n",
    "from typing import AbstractSet\n",
    "\n",
    "client = Client()"
   ]
  },
  {
   "cell_type": "markdown",
   "metadata": {},
   "source": [
    "## The `uproot.dask` hack way"
   ]
  },
  {
   "cell_type": "markdown",
   "metadata": {},
   "source": [
    "### The `awkward.Form` file form\n",
    "\n",
    "We need the form from the schema to prevent us from having to open files that do not yet exist in hour hack. Eventually we'll have to build this from the schema we know exists from the `func_adl` query."
   ]
  },
  {
   "cell_type": "code",
   "execution_count": 15,
   "metadata": {},
   "outputs": [
    {
     "data": {
      "text/plain": [
       "RecordForm([ListOffsetForm('i64', NumpyForm('float64'))], ['JetPt'])"
      ]
     },
     "execution_count": 15,
     "metadata": {},
     "output_type": "execute_result"
    }
   ],
   "source": [
    "dummy_filename = \"0fc6e51a5ea6dea107c195591d20a1b2-15.26710677._000019.pool.root.1\"\n",
    "with uproot.open(dummy_filename) as file:\n",
    "    file_form = file['treeme'].arrays().layout.form\n",
    "\n",
    "file_form"
   ]
  },
  {
   "cell_type": "markdown",
   "metadata": {},
   "source": [
    "Next, lets test it."
   ]
  },
  {
   "cell_type": "code",
   "execution_count": 18,
   "metadata": {},
   "outputs": [
    {
     "data": {
      "text/html": [
       "<pre>[[102, 63.1],\n",
       " [69.3, 50.2, 35.7],\n",
       " [110, 34.5, 33.1],\n",
       " [133, 101],\n",
       " [126, 55.7, 38],\n",
       " [81.1, 54.4, 35.3, 32],\n",
       " [70.6, 70.5],\n",
       " [131, 96.9, 36.6, 30.5],\n",
       " [45.1, 37.6],\n",
       " [97.2, 76.4],\n",
       " ...,\n",
       " [134, 115, 30.4],\n",
       " [142, 128, 32.5],\n",
       " [152, 109, 34.1],\n",
       " [116, 93.6, 34.2, 31.9],\n",
       " [64, 50.8, 39.5],\n",
       " [114, 92.4, 33.6, 32],\n",
       " [121, 109, 63.1],\n",
       " [114, 46.6, 44.4, 32.9],\n",
       " [153, 90.5, 54]]\n",
       "---------------------------\n",
       "type: 50000 * var * float64</pre>"
      ],
      "text/plain": [
       "<Array [[102, 63.1], [...], ..., [153, 90.5, 54]] type='50000 * var * float64'>"
      ]
     },
     "execution_count": 18,
     "metadata": {},
     "output_type": "execute_result"
    }
   ],
   "source": [
    "test_ar = uproot.dask({dummy_filename: \"treeme\"}, open_files=False, known_base_form=file_form)\n",
    "test_ar.JetPt.compute()"
   ]
  },
  {
   "cell_type": "markdown",
   "metadata": {},
   "source": [
    "### ServiceX Dask Layer\n",
    "\n",
    "Next a `dask` layer that will eventually poll SX for files that are done."
   ]
  },
  {
   "cell_type": "code",
   "execution_count": 54,
   "metadata": {},
   "outputs": [],
   "source": [
    "class SXLayer(Layer):\n",
    "    def __init__(self, name, output_names):\n",
    "        super().__init__()\n",
    "        self.name = name\n",
    "        self.dependencies = dict()\n",
    "        self.tasks = {\n",
    "            out_name: (lambda: self.get_file(out_name),)\n",
    "            for out_name in output_names\n",
    "        }\n",
    "\n",
    "    def __getitem__(self, key):\n",
    "        return self.tasks[key]\n",
    "\n",
    "    def __iter__(self):\n",
    "        return iter(self.tasks)\n",
    "\n",
    "    def __len__(self):\n",
    "        return len(self.tasks)\n",
    "\n",
    "    def is_materialized(self):\n",
    "        return False\n",
    "    \n",
    "    def get_output_keys(self) -> AbstractSet[str | bytes | int | float]:\n",
    "        return set(self.tasks.keys())\n",
    "    \n",
    "    def get_file(self, name):\n",
    "        '''Return the info that is needed by uproot to actually open the file'''\n",
    "        print(f\"Returning info for file {name}\")\n",
    "        return (dummy_filename, 'treeme', 0, 1, False)\n"
   ]
  },
  {
   "cell_type": "code",
   "execution_count": 91,
   "metadata": {},
   "outputs": [],
   "source": [
    "def sx_open(n_files: int) -> ak.Array:\n",
    "    assert n_files == 1, \"We only know how to do one file for now\"\n",
    "\n",
    "    # Build the high level array.\n",
    "    files = {\n",
    "        f\"sx_partition_{i}.root\": \"treeme\"\n",
    "        for i in range(0, n_files)\n",
    "    }  \n",
    "    ar = uproot.dask(files, open_files=False, known_base_form=file_form)\n",
    "    assert len(ar.__dask_layers__()) == 1\n",
    "    uproot_layer_name = list(ar.__dask_layers__())[0]\n",
    "\n",
    "    # And the task that will furnish the file names for the uproot layer,\n",
    "    # and make uproot layer dependent on the sx layer.\n",
    "    sx_layer = SXLayer(\"sx_fetcher\", files.keys())\n",
    "    ar.__dask_graph__().layers[\"sx_fetcher\"] = sx_layer\n",
    "    ar.__dask_graph__().dependencies[uproot_layer_name].add(\"sx_fetcher\")\n",
    "    ar.__dask_graph__().dependencies[\"sx_fetcher\"] = set()\n",
    "\n",
    "    # Next, hook up the argument to the uproot functions to the output from the SX layer.\n",
    "    uproot_layer = ar.__dask_graph__().layers[uproot_layer_name]\n",
    "    uproot_layer_outputs = list(uproot_layer.keys())\n",
    "    assert len(uproot_layer_outputs) == n_files\n",
    "    for layer_out, layer_arg in zip(uproot_layer_outputs, files.keys()):\n",
    "        print(f\"Hooking up {layer_out} to {layer_arg}\")\n",
    "        uproot_layer._dict[layer_out] = (uproot_layer[layer_out][0], layer_arg)\n",
    "        print (f\"  {uproot_layer[layer_out]}\")\n",
    "    print(uproot_layer)\n",
    "\n",
    "    return ar"
   ]
  },
  {
   "cell_type": "code",
   "execution_count": 92,
   "metadata": {},
   "outputs": [
    {
     "name": "stdout",
     "output_type": "stream",
     "text": [
      "Hooking up ('from-uproot-8d1ae5c61dd92ce9355fa2e2a5fc2bc5', 0) to sx_partition_0.root\n",
      "  (subgraph_callable-2777c2a8-907e-42f5-b222-c2672dd4f18b, 'sx_partition_0.root')\n",
      "AwkwardInputLayer<from-uproot-8d1ae5c61dd92ce9355fa2e2a5fc2bc5>\n"
     ]
    },
    {
     "data": {
      "text/html": [
       "<div>\n",
       "    <div>\n",
       "        <div style=\"width: 52px; height: 52px; position: absolute;\">\n",
       "            <svg width=\"76\" height=\"71\" viewBox=\"0 0 76 71\" fill=\"none\" xmlns=\"http://www.w3.org/2000/svg\">\n",
       "                <circle cx=\"61.5\" cy=\"36.5\" r=\"13.5\" style=\"stroke: var(--jp-ui-font-color2, #1D1D1D); fill: var(--jp-layout-color1, #F2F2F2);\" stroke-width=\"2\"/>\n",
       "                <circle cx=\"14.5\" cy=\"14.5\" r=\"13.5\" style=\"stroke: var(--jp-ui-font-color2, #1D1D1D); fill: var(--jp-layout-color1, #F2F2F2);\" stroke-width=\"2\"/>\n",
       "                <circle cx=\"14.5\" cy=\"56.5\" r=\"13.5\" style=\"stroke: var(--jp-ui-font-color2, #1D1D1D); fill: var(--jp-layout-color1, #F2F2F2);\" stroke-width=\"2\"/>\n",
       "                <path d=\"M28 16L30.5 16C33.2614 16 35.5 18.2386 35.5 21L35.5 32.0001C35.5 34.7615 37.7386 37.0001 40.5 37.0001L43 37.0001\" style=\"stroke: var(--jp-ui-font-color2, #1D1D1D);\" stroke-width=\"1.5\"/>\n",
       "                <path d=\"M40.5 37L40.5 37.75L40.5 37.75L40.5 37ZM35.5 42L36.25 42L35.5 42ZM35.5 52L34.75 52L35.5 52ZM30.5 57L30.5 57.75L30.5 57ZM41.5001 36.25L40.5 36.25L40.5 37.75L41.5001 37.75L41.5001 36.25ZM34.75 42L34.75 52L36.25 52L36.25 42L34.75 42ZM30.5 56.25L28.0001 56.25L28.0001 57.75L30.5 57.75L30.5 56.25ZM34.75 52C34.75 54.3472 32.8472 56.25 30.5 56.25L30.5 57.75C33.6756 57.75 36.25 55.1756 36.25 52L34.75 52ZM40.5 36.25C37.3244 36.25 34.75 38.8243 34.75 42L36.25 42C36.25 39.6528 38.1528 37.75 40.5 37.75L40.5 36.25Z\" style=\"fill: var(--jp-ui-font-color2, #1D1D1D);\"/>\n",
       "                <circle cx=\"28\" cy=\"16\" r=\"2.25\" fill=\"#E5E5E5\" style=\"stroke: var(--jp-ui-font-color2, #1D1D1D);\" stroke-width=\"1.5\"/>\n",
       "                <circle cx=\"28\" cy=\"57\" r=\"2.25\" fill=\"#E5E5E5\" style=\"stroke: var(--jp-ui-font-color2, #1D1D1D);\" stroke-width=\"1.5\"/>\n",
       "                <path d=\"M45.25 36.567C45.5833 36.7594 45.5833 37.2406 45.25 37.433L42.25 39.1651C41.9167 39.3575 41.5 39.117 41.5 38.7321V35.2679C41.5 34.883 41.9167 34.6425 42.25 34.8349L45.25 36.567Z\" style=\"fill: var(--jp-ui-font-color2, #1D1D1D);\"/>\n",
       "            </svg>\n",
       "        </div>\n",
       "        <div style=\"margin-left: 64px;\">\n",
       "            <h3 style=\"margin-bottom: 0px;\">HighLevelGraph</h3>\n",
       "            <p style=\"color: var(--jp-ui-font-color2, #5D5851); margin-bottom:0px;\">\n",
       "                HighLevelGraph with 2 layers and 2 keys from all layers.\n",
       "            </p>\n",
       "            \n",
       "            <div style=\"\">\n",
       "    <svg width=\"24\" height=\"24\" viewBox=\"0 0 32 32\" fill=\"none\" xmlns=\"http://www.w3.org/2000/svg\" style=\"position: absolute;\">\n",
       "        \n",
       "        <circle cx=\"16\" cy=\"16\" r=\"14\" style=\"stroke: var(--jp-ui-font-color2, #1D1D1D); fill: var(--jp-layout-color1, #F2F2F2);\" stroke-width=\"2\" />\n",
       "        \n",
       "    </svg>\n",
       "\n",
       "    <details style=\"margin-left: 32px;\">\n",
       "        <summary style=\"margin-bottom: 10px; margin-top: 10px;\">\n",
       "            <h4 style=\"display: inline;\">Layer1: sx_fetcher</h4>\n",
       "        </summary>\n",
       "        <p style=\"color: var(--jp-ui-font-color2, #5D5851); margin: -0.25em 0px 0px 0px;\">\n",
       "            sx_fetcher\n",
       "        </p>\n",
       "\n",
       "        <table>\n",
       "        <tr>\n",
       "            <td>\n",
       "                <table>\n",
       "                \n",
       "                    <tr>\n",
       "                        <th style=\"text-align: left; width: 150px;\">layer_type</th>\n",
       "                        <td style=\"text-align: left;\">SXLayer</td>\n",
       "                    </tr>\n",
       "                \n",
       "                    <tr>\n",
       "                        <th style=\"text-align: left; width: 150px;\">is_materialized</th>\n",
       "                        <td style=\"text-align: left;\">False</td>\n",
       "                    </tr>\n",
       "                \n",
       "                    <tr>\n",
       "                        <th style=\"text-align: left; width: 150px;\">number of outputs</th>\n",
       "                        <td style=\"text-align: left;\">1</td>\n",
       "                    </tr>\n",
       "                \n",
       "                \n",
       "                </table>\n",
       "            </td>\n",
       "            <td>\n",
       "                \n",
       "            </td>\n",
       "        </tr>\n",
       "        </table>\n",
       "\n",
       "    </details>\n",
       "</div>\n",
       "            \n",
       "            <div style=\"\">\n",
       "    <svg width=\"24\" height=\"24\" viewBox=\"0 0 32 32\" fill=\"none\" xmlns=\"http://www.w3.org/2000/svg\" style=\"position: absolute;\">\n",
       "        \n",
       "        <circle cx=\"16\" cy=\"16\" r=\"14\" fill=\"#8F8F8F\" style=\"stroke: var(--jp-ui-font-color2, #1D1D1D);\" stroke-width=\"2\"/>\n",
       "        \n",
       "    </svg>\n",
       "\n",
       "    <details style=\"margin-left: 32px;\">\n",
       "        <summary style=\"margin-bottom: 10px; margin-top: 10px;\">\n",
       "            <h4 style=\"display: inline;\">Layer2: from-uproot</h4>\n",
       "        </summary>\n",
       "        <p style=\"color: var(--jp-ui-font-color2, #5D5851); margin: -0.25em 0px 0px 0px;\">\n",
       "            from-uproot-8d1ae5c61dd92ce9355fa2e2a5fc2bc5\n",
       "        </p>\n",
       "\n",
       "        <table>\n",
       "        <tr>\n",
       "            <td>\n",
       "                <table>\n",
       "                \n",
       "                    <tr>\n",
       "                        <th style=\"text-align: left; width: 150px;\">layer_type</th>\n",
       "                        <td style=\"text-align: left;\">AwkwardInputLayer</td>\n",
       "                    </tr>\n",
       "                \n",
       "                    <tr>\n",
       "                        <th style=\"text-align: left; width: 150px;\">is_materialized</th>\n",
       "                        <td style=\"text-align: left;\">True</td>\n",
       "                    </tr>\n",
       "                \n",
       "                    <tr>\n",
       "                        <th style=\"text-align: left; width: 150px;\">number of outputs</th>\n",
       "                        <td style=\"text-align: left;\">1</td>\n",
       "                    </tr>\n",
       "                \n",
       "                \n",
       "                    \n",
       "                        <tr>\n",
       "                            <th style=\"text-align: left; width: 150px;\"> depends on </th>\n",
       "                            <td style=\"text-align: left;\">sx_fetcher</td>\n",
       "                        </tr>\n",
       "                    \n",
       "                \n",
       "                </table>\n",
       "            </td>\n",
       "            <td>\n",
       "                \n",
       "            </td>\n",
       "        </tr>\n",
       "        </table>\n",
       "\n",
       "    </details>\n",
       "</div>\n",
       "            \n",
       "        </div>\n",
       "    </div>\n",
       "</div>"
      ],
      "text/plain": [
       "HighLevelGraph with 2 layers.\n",
       "<dask.highlevelgraph.HighLevelGraph object at 0x17b00fc39d0>\n",
       " 0. sx_fetcher\n",
       " 1. from-uproot-8d1ae5c61dd92ce9355fa2e2a5fc2bc5"
      ]
     },
     "execution_count": 92,
     "metadata": {},
     "output_type": "execute_result"
    }
   ],
   "source": [
    "a = sx_open(1)\n",
    "# uproot_key_name = 'from-uproot-8d1ae5c61dd92ce9355fa2e2a5fc2bc5'\n",
    "# key0 = list(a.__dask_graph__().layers[uproot_key_name].keys())[0]\n",
    "# print(key0)\n",
    "# a.__dask_graph__().layers[uproot_key_name][key0][1]\n",
    "# a.__dask_graph__().layers[uproot_key_name][key0][0]\n",
    "a.__dask_graph__()"
   ]
  },
  {
   "cell_type": "code",
   "execution_count": 93,
   "metadata": {},
   "outputs": [
    {
     "name": "stdout",
     "output_type": "stream",
     "text": [
      "Returning info for file sx_partition_0.root\n"
     ]
    },
    {
     "ename": "FileNotFoundError",
     "evalue": "[Errno 2] No such file or directory: 'c:/Users/gordo/Code/iris-hep/awkward-20-testing/notebooks/sx_partition_0.root'",
     "output_type": "error",
     "traceback": [
      "\u001b[1;31m---------------------------------------------------------------------------\u001b[0m",
      "\u001b[1;31mFileNotFoundError\u001b[0m                         Traceback (most recent call last)",
      "Cell \u001b[1;32mIn[93], line 1\u001b[0m\n\u001b[1;32m----> 1\u001b[0m \u001b[43ma\u001b[49m\u001b[38;5;241;43m.\u001b[39;49m\u001b[43mJetPt\u001b[49m\u001b[38;5;241;43m.\u001b[39;49m\u001b[43mcompute\u001b[49m\u001b[43m(\u001b[49m\u001b[43m)\u001b[49m\n",
      "File \u001b[1;32mc:\\Users\\gordo\\Code\\iris-hep\\awkward-20-testing\\.venv\\Lib\\site-packages\\dask\\base.py:379\u001b[0m, in \u001b[0;36mDaskMethodsMixin.compute\u001b[1;34m(self, **kwargs)\u001b[0m\n\u001b[0;32m    355\u001b[0m \u001b[38;5;28;01mdef\u001b[39;00m \u001b[38;5;21mcompute\u001b[39m(\u001b[38;5;28mself\u001b[39m, \u001b[38;5;241m*\u001b[39m\u001b[38;5;241m*\u001b[39mkwargs):\n\u001b[0;32m    356\u001b[0m \u001b[38;5;250m    \u001b[39m\u001b[38;5;124;03m\"\"\"Compute this dask collection\u001b[39;00m\n\u001b[0;32m    357\u001b[0m \n\u001b[0;32m    358\u001b[0m \u001b[38;5;124;03m    This turns a lazy Dask collection into its in-memory equivalent.\u001b[39;00m\n\u001b[1;32m   (...)\u001b[0m\n\u001b[0;32m    377\u001b[0m \u001b[38;5;124;03m    dask.compute\u001b[39;00m\n\u001b[0;32m    378\u001b[0m \u001b[38;5;124;03m    \"\"\"\u001b[39;00m\n\u001b[1;32m--> 379\u001b[0m     (result,) \u001b[38;5;241m=\u001b[39m \u001b[43mcompute\u001b[49m\u001b[43m(\u001b[49m\u001b[38;5;28;43mself\u001b[39;49m\u001b[43m,\u001b[49m\u001b[43m \u001b[49m\u001b[43mtraverse\u001b[49m\u001b[38;5;241;43m=\u001b[39;49m\u001b[38;5;28;43;01mFalse\u001b[39;49;00m\u001b[43m,\u001b[49m\u001b[43m \u001b[49m\u001b[38;5;241;43m*\u001b[39;49m\u001b[38;5;241;43m*\u001b[39;49m\u001b[43mkwargs\u001b[49m\u001b[43m)\u001b[49m\n\u001b[0;32m    380\u001b[0m     \u001b[38;5;28;01mreturn\u001b[39;00m result\n",
      "File \u001b[1;32mc:\\Users\\gordo\\Code\\iris-hep\\awkward-20-testing\\.venv\\Lib\\site-packages\\dask\\base.py:665\u001b[0m, in \u001b[0;36mcompute\u001b[1;34m(traverse, optimize_graph, scheduler, get, *args, **kwargs)\u001b[0m\n\u001b[0;32m    662\u001b[0m     postcomputes\u001b[38;5;241m.\u001b[39mappend(x\u001b[38;5;241m.\u001b[39m__dask_postcompute__())\n\u001b[0;32m    664\u001b[0m \u001b[38;5;28;01mwith\u001b[39;00m shorten_traceback():\n\u001b[1;32m--> 665\u001b[0m     results \u001b[38;5;241m=\u001b[39m \u001b[43mschedule\u001b[49m\u001b[43m(\u001b[49m\u001b[43mdsk\u001b[49m\u001b[43m,\u001b[49m\u001b[43m \u001b[49m\u001b[43mkeys\u001b[49m\u001b[43m,\u001b[49m\u001b[43m \u001b[49m\u001b[38;5;241;43m*\u001b[39;49m\u001b[38;5;241;43m*\u001b[39;49m\u001b[43mkwargs\u001b[49m\u001b[43m)\u001b[49m\n\u001b[0;32m    667\u001b[0m \u001b[38;5;28;01mreturn\u001b[39;00m repack([f(r, \u001b[38;5;241m*\u001b[39ma) \u001b[38;5;28;01mfor\u001b[39;00m r, (f, a) \u001b[38;5;129;01min\u001b[39;00m \u001b[38;5;28mzip\u001b[39m(results, postcomputes)])\n",
      "File \u001b[1;32mc:\\Users\\gordo\\Code\\iris-hep\\awkward-20-testing\\.venv\\Lib\\site-packages\\uproot\\_dask.py:1256\u001b[0m, in \u001b[0;36m__call__\u001b[1;34m()\u001b[0m\n\u001b[0;32m   1242\u001b[0m     \u001b[38;5;28;01mexcept\u001b[39;00m \u001b[38;5;28mself\u001b[39m\u001b[38;5;241m.\u001b[39mallowed_exceptions \u001b[38;5;28;01mas\u001b[39;00m err:\n\u001b[0;32m   1243\u001b[0m         \u001b[38;5;28;01mreturn\u001b[39;00m (\n\u001b[0;32m   1244\u001b[0m             \u001b[38;5;28mself\u001b[39m\u001b[38;5;241m.\u001b[39mmock_empty(backend\u001b[38;5;241m=\u001b[39m\u001b[38;5;124m\"\u001b[39m\u001b[38;5;124mcpu\u001b[39m\u001b[38;5;124m\"\u001b[39m),\n\u001b[0;32m   1245\u001b[0m             _report_failure(\n\u001b[1;32m   (...)\u001b[0m\n\u001b[0;32m   1253\u001b[0m             ),\n\u001b[0;32m   1254\u001b[0m         )\n\u001b[1;32m-> 1256\u001b[0m \u001b[38;5;28;01mreturn\u001b[39;00m \u001b[38;5;28mself\u001b[39m\u001b[38;5;241m.\u001b[39m_call_impl(\n\u001b[0;32m   1257\u001b[0m     file_path, object_path, i_step_or_start, n_steps_or_stop, is_chunk\n\u001b[0;32m   1258\u001b[0m )\n",
      "File \u001b[1;32mc:\\Users\\gordo\\Code\\iris-hep\\awkward-20-testing\\.venv\\Lib\\site-packages\\uproot\\_dask.py:1184\u001b[0m, in \u001b[0;36m_call_impl\u001b[1;34m()\u001b[0m\n\u001b[0;32m   1181\u001b[0m \u001b[38;5;28;01mdef\u001b[39;00m \u001b[38;5;21m_call_impl\u001b[39m(\n\u001b[0;32m   1182\u001b[0m     \u001b[38;5;28mself\u001b[39m, file_path, object_path, i_step_or_start, n_steps_or_stop, is_chunk\n\u001b[0;32m   1183\u001b[0m ):\n\u001b[1;32m-> 1184\u001b[0m     ttree \u001b[38;5;241m=\u001b[39m uproot\u001b[38;5;241m.\u001b[39m_util\u001b[38;5;241m.\u001b[39mregularize_object_path(\n\u001b[0;32m   1185\u001b[0m         file_path,\n\u001b[0;32m   1186\u001b[0m         object_path,\n\u001b[0;32m   1187\u001b[0m         \u001b[38;5;28mself\u001b[39m\u001b[38;5;241m.\u001b[39mcustom_classes,\n\u001b[0;32m   1188\u001b[0m         \u001b[38;5;28mself\u001b[39m\u001b[38;5;241m.\u001b[39mallow_missing,\n\u001b[0;32m   1189\u001b[0m         \u001b[38;5;28mself\u001b[39m\u001b[38;5;241m.\u001b[39mreal_options,\n\u001b[0;32m   1190\u001b[0m     )\n\u001b[0;32m   1191\u001b[0m     num_entries \u001b[38;5;241m=\u001b[39m ttree\u001b[38;5;241m.\u001b[39mnum_entries\n\u001b[0;32m   1192\u001b[0m     \u001b[38;5;28;01mif\u001b[39;00m is_chunk:\n",
      "File \u001b[1;32mc:\\Users\\gordo\\Code\\iris-hep\\awkward-20-testing\\.venv\\Lib\\site-packages\\uproot\\_util.py:962\u001b[0m, in \u001b[0;36mregularize_object_path\u001b[1;34m()\u001b[0m\n\u001b[0;32m    959\u001b[0m     \u001b[38;5;28;01mreturn\u001b[39;00m _NoClose(file_path)\n\u001b[0;32m    961\u001b[0m \u001b[38;5;28;01melse\u001b[39;00m:\n\u001b[1;32m--> 962\u001b[0m     file \u001b[38;5;241m=\u001b[39m ReadOnlyFile(\n\u001b[0;32m    963\u001b[0m         file_path,\n\u001b[0;32m    964\u001b[0m         object_cache\u001b[38;5;241m=\u001b[39m\u001b[38;5;28;01mNone\u001b[39;00m,\n\u001b[0;32m    965\u001b[0m         array_cache\u001b[38;5;241m=\u001b[39m\u001b[38;5;28;01mNone\u001b[39;00m,\n\u001b[0;32m    966\u001b[0m         custom_classes\u001b[38;5;241m=\u001b[39mcustom_classes,\n\u001b[0;32m    967\u001b[0m         \u001b[38;5;241m*\u001b[39m\u001b[38;5;241m*\u001b[39moptions,\n\u001b[0;32m    968\u001b[0m     )\u001b[38;5;241m.\u001b[39mroot_directory\n\u001b[0;32m    969\u001b[0m     \u001b[38;5;28;01mif\u001b[39;00m object_path \u001b[38;5;129;01mis\u001b[39;00m \u001b[38;5;28;01mNone\u001b[39;00m:\n\u001b[0;32m    970\u001b[0m         trees \u001b[38;5;241m=\u001b[39m file\u001b[38;5;241m.\u001b[39mkeys(filter_classname\u001b[38;5;241m=\u001b[39m\u001b[38;5;124m\"\u001b[39m\u001b[38;5;124mTTree\u001b[39m\u001b[38;5;124m\"\u001b[39m, cycle\u001b[38;5;241m=\u001b[39m\u001b[38;5;28;01mFalse\u001b[39;00m)\n",
      "File \u001b[1;32mc:\\Users\\gordo\\Code\\iris-hep\\awkward-20-testing\\.venv\\Lib\\site-packages\\uproot\\reading.py:559\u001b[0m, in \u001b[0;36m__init__\u001b[1;34m()\u001b[0m\n\u001b[0;32m    554\u001b[0m \u001b[38;5;28mself\u001b[39m\u001b[38;5;241m.\u001b[39mhook_before_create_source()\n\u001b[0;32m    556\u001b[0m source_cls, file_path \u001b[38;5;241m=\u001b[39m uproot\u001b[38;5;241m.\u001b[39m_util\u001b[38;5;241m.\u001b[39mfile_path_to_source_class(\n\u001b[0;32m    557\u001b[0m     file_path, \u001b[38;5;28mself\u001b[39m\u001b[38;5;241m.\u001b[39m_options\n\u001b[0;32m    558\u001b[0m )\n\u001b[1;32m--> 559\u001b[0m \u001b[38;5;28mself\u001b[39m\u001b[38;5;241m.\u001b[39m_source \u001b[38;5;241m=\u001b[39m source_cls(file_path, \u001b[38;5;241m*\u001b[39m\u001b[38;5;241m*\u001b[39m\u001b[38;5;28mself\u001b[39m\u001b[38;5;241m.\u001b[39m_options)\n\u001b[0;32m    561\u001b[0m \u001b[38;5;28mself\u001b[39m\u001b[38;5;241m.\u001b[39mhook_before_get_chunks()\n\u001b[0;32m    563\u001b[0m \u001b[38;5;28;01mif\u001b[39;00m \u001b[38;5;28mself\u001b[39m\u001b[38;5;241m.\u001b[39m_options[\u001b[38;5;124m\"\u001b[39m\u001b[38;5;124mbegin_chunk_size\u001b[39m\u001b[38;5;124m\"\u001b[39m] \u001b[38;5;241m<\u001b[39m _file_header_fields_big\u001b[38;5;241m.\u001b[39msize:\n",
      "File \u001b[1;32mc:\\Users\\gordo\\Code\\iris-hep\\awkward-20-testing\\.venv\\Lib\\site-packages\\uproot\\source\\fsspec.py:41\u001b[0m, in \u001b[0;36m__init__\u001b[1;34m()\u001b[0m\n\u001b[0;32m     38\u001b[0m \u001b[38;5;28mself\u001b[39m\u001b[38;5;241m.\u001b[39m_file \u001b[38;5;241m=\u001b[39m \u001b[38;5;28;01mNone\u001b[39;00m\n\u001b[0;32m     39\u001b[0m \u001b[38;5;28mself\u001b[39m\u001b[38;5;241m.\u001b[39m_fh \u001b[38;5;241m=\u001b[39m \u001b[38;5;28;01mNone\u001b[39;00m\n\u001b[1;32m---> 41\u001b[0m \u001b[38;5;28mself\u001b[39m\u001b[38;5;241m.\u001b[39m_open()\n\u001b[0;32m     43\u001b[0m \u001b[38;5;28mself\u001b[39m\u001b[38;5;241m.\u001b[39m\u001b[38;5;21m__enter__\u001b[39m()\n",
      "File \u001b[1;32mc:\\Users\\gordo\\Code\\iris-hep\\awkward-20-testing\\.venv\\Lib\\site-packages\\uproot\\source\\fsspec.py:55\u001b[0m, in \u001b[0;36m_open\u001b[1;34m()\u001b[0m\n\u001b[0;32m     53\u001b[0m \u001b[38;5;28;01mdef\u001b[39;00m \u001b[38;5;21m_open\u001b[39m(\u001b[38;5;28mself\u001b[39m):\n\u001b[0;32m     54\u001b[0m     \u001b[38;5;28mself\u001b[39m\u001b[38;5;241m.\u001b[39m_executor \u001b[38;5;241m=\u001b[39m FSSpecLoopExecutor()\n\u001b[1;32m---> 55\u001b[0m     \u001b[38;5;28mself\u001b[39m\u001b[38;5;241m.\u001b[39m_file \u001b[38;5;241m=\u001b[39m \u001b[38;5;28mself\u001b[39m\u001b[38;5;241m.\u001b[39m_fs\u001b[38;5;241m.\u001b[39mopen(\u001b[38;5;28mself\u001b[39m\u001b[38;5;241m.\u001b[39m_file_path)\n",
      "File \u001b[1;32mc:\\Users\\gordo\\Code\\iris-hep\\awkward-20-testing\\.venv\\Lib\\site-packages\\fsspec\\spec.py:1151\u001b[0m, in \u001b[0;36mopen\u001b[1;34m()\u001b[0m\n\u001b[0;32m   1149\u001b[0m \u001b[38;5;28;01melse\u001b[39;00m:\n\u001b[0;32m   1150\u001b[0m     ac \u001b[38;5;241m=\u001b[39m kwargs\u001b[38;5;241m.\u001b[39mpop(\u001b[38;5;124m\"\u001b[39m\u001b[38;5;124mautocommit\u001b[39m\u001b[38;5;124m\"\u001b[39m, \u001b[38;5;129;01mnot\u001b[39;00m \u001b[38;5;28mself\u001b[39m\u001b[38;5;241m.\u001b[39m_intrans)\n\u001b[1;32m-> 1151\u001b[0m     f \u001b[38;5;241m=\u001b[39m \u001b[38;5;28mself\u001b[39m\u001b[38;5;241m.\u001b[39m_open(\n\u001b[0;32m   1152\u001b[0m         path,\n\u001b[0;32m   1153\u001b[0m         mode\u001b[38;5;241m=\u001b[39mmode,\n\u001b[0;32m   1154\u001b[0m         block_size\u001b[38;5;241m=\u001b[39mblock_size,\n\u001b[0;32m   1155\u001b[0m         autocommit\u001b[38;5;241m=\u001b[39mac,\n\u001b[0;32m   1156\u001b[0m         cache_options\u001b[38;5;241m=\u001b[39mcache_options,\n\u001b[0;32m   1157\u001b[0m         \u001b[38;5;241m*\u001b[39m\u001b[38;5;241m*\u001b[39mkwargs,\n\u001b[0;32m   1158\u001b[0m     )\n\u001b[0;32m   1159\u001b[0m     \u001b[38;5;28;01mif\u001b[39;00m compression \u001b[38;5;129;01mis\u001b[39;00m \u001b[38;5;129;01mnot\u001b[39;00m \u001b[38;5;28;01mNone\u001b[39;00m:\n\u001b[0;32m   1160\u001b[0m         \u001b[38;5;28;01mfrom\u001b[39;00m \u001b[38;5;21;01mfsspec\u001b[39;00m\u001b[38;5;21;01m.\u001b[39;00m\u001b[38;5;21;01mcompression\u001b[39;00m \u001b[38;5;28;01mimport\u001b[39;00m compr\n",
      "File \u001b[1;32mc:\\Users\\gordo\\Code\\iris-hep\\awkward-20-testing\\.venv\\Lib\\site-packages\\fsspec\\implementations\\local.py:183\u001b[0m, in \u001b[0;36m_open\u001b[1;34m()\u001b[0m\n\u001b[0;32m    181\u001b[0m \u001b[38;5;28;01mif\u001b[39;00m \u001b[38;5;28mself\u001b[39m\u001b[38;5;241m.\u001b[39mauto_mkdir \u001b[38;5;129;01mand\u001b[39;00m \u001b[38;5;124m\"\u001b[39m\u001b[38;5;124mw\u001b[39m\u001b[38;5;124m\"\u001b[39m \u001b[38;5;129;01min\u001b[39;00m mode:\n\u001b[0;32m    182\u001b[0m     \u001b[38;5;28mself\u001b[39m\u001b[38;5;241m.\u001b[39mmakedirs(\u001b[38;5;28mself\u001b[39m\u001b[38;5;241m.\u001b[39m_parent(path), exist_ok\u001b[38;5;241m=\u001b[39m\u001b[38;5;28;01mTrue\u001b[39;00m)\n\u001b[1;32m--> 183\u001b[0m \u001b[38;5;28;01mreturn\u001b[39;00m LocalFileOpener(path, mode, fs\u001b[38;5;241m=\u001b[39m\u001b[38;5;28mself\u001b[39m, \u001b[38;5;241m*\u001b[39m\u001b[38;5;241m*\u001b[39mkwargs)\n",
      "File \u001b[1;32mc:\\Users\\gordo\\Code\\iris-hep\\awkward-20-testing\\.venv\\Lib\\site-packages\\fsspec\\implementations\\local.py:285\u001b[0m, in \u001b[0;36m__init__\u001b[1;34m()\u001b[0m\n\u001b[0;32m    283\u001b[0m \u001b[38;5;28mself\u001b[39m\u001b[38;5;241m.\u001b[39mcompression \u001b[38;5;241m=\u001b[39m get_compression(path, compression)\n\u001b[0;32m    284\u001b[0m \u001b[38;5;28mself\u001b[39m\u001b[38;5;241m.\u001b[39mblocksize \u001b[38;5;241m=\u001b[39m io\u001b[38;5;241m.\u001b[39mDEFAULT_BUFFER_SIZE\n\u001b[1;32m--> 285\u001b[0m \u001b[38;5;28mself\u001b[39m\u001b[38;5;241m.\u001b[39m_open()\n",
      "File \u001b[1;32mc:\\Users\\gordo\\Code\\iris-hep\\awkward-20-testing\\.venv\\Lib\\site-packages\\fsspec\\implementations\\local.py:290\u001b[0m, in \u001b[0;36m_open\u001b[1;34m()\u001b[0m\n\u001b[0;32m    288\u001b[0m \u001b[38;5;28;01mif\u001b[39;00m \u001b[38;5;28mself\u001b[39m\u001b[38;5;241m.\u001b[39mf \u001b[38;5;129;01mis\u001b[39;00m \u001b[38;5;28;01mNone\u001b[39;00m \u001b[38;5;129;01mor\u001b[39;00m \u001b[38;5;28mself\u001b[39m\u001b[38;5;241m.\u001b[39mf\u001b[38;5;241m.\u001b[39mclosed:\n\u001b[0;32m    289\u001b[0m     \u001b[38;5;28;01mif\u001b[39;00m \u001b[38;5;28mself\u001b[39m\u001b[38;5;241m.\u001b[39mautocommit \u001b[38;5;129;01mor\u001b[39;00m \u001b[38;5;124m\"\u001b[39m\u001b[38;5;124mw\u001b[39m\u001b[38;5;124m\"\u001b[39m \u001b[38;5;129;01mnot\u001b[39;00m \u001b[38;5;129;01min\u001b[39;00m \u001b[38;5;28mself\u001b[39m\u001b[38;5;241m.\u001b[39mmode:\n\u001b[1;32m--> 290\u001b[0m         \u001b[38;5;28mself\u001b[39m\u001b[38;5;241m.\u001b[39mf \u001b[38;5;241m=\u001b[39m \u001b[38;5;28mopen\u001b[39m(\u001b[38;5;28mself\u001b[39m\u001b[38;5;241m.\u001b[39mpath, mode\u001b[38;5;241m=\u001b[39m\u001b[38;5;28mself\u001b[39m\u001b[38;5;241m.\u001b[39mmode)\n\u001b[0;32m    291\u001b[0m         \u001b[38;5;28;01mif\u001b[39;00m \u001b[38;5;28mself\u001b[39m\u001b[38;5;241m.\u001b[39mcompression:\n\u001b[0;32m    292\u001b[0m             compress \u001b[38;5;241m=\u001b[39m compr[\u001b[38;5;28mself\u001b[39m\u001b[38;5;241m.\u001b[39mcompression]\n",
      "\u001b[1;31mFileNotFoundError\u001b[0m: [Errno 2] No such file or directory: 'c:/Users/gordo/Code/iris-hep/awkward-20-testing/notebooks/sx_partition_0.root'"
     ]
    }
   ],
   "source": [
    "a.JetPt.compute()"
   ]
  },
  {
   "cell_type": "markdown",
   "metadata": {},
   "source": [
    "## SX Support\n",
    "\n",
    "The code below belongs in the `sx-awk` library."
   ]
  },
  {
   "cell_type": "markdown",
   "metadata": {},
   "source": [
    "This is the ServiceX layer. It is responsible for all communication with ServiceX, and finding the files (and URL's) from `minio`."
   ]
  },
  {
   "cell_type": "code",
   "execution_count": 2,
   "metadata": {},
   "outputs": [],
   "source": [
    "from collections.abc import Set\n",
    "from typing import AbstractSet, Any, Dict, Iterator, KeysView, List\n",
    "import logging\n",
    "\n",
    "class SXLayer(Layer):\n",
    "    def __init__(self, sx_query_guid):\n",
    "        super().__init__()\n",
    "        self._query_guid = sx_query_guid\n",
    "\n",
    "        # Create a task that will be executed when the layer is computed,\n",
    "        # and will fetch the list of files from SX.\n",
    "        k = f\"SX-query-{self._query_guid}\"\n",
    "        self._tasks: Dict[str, Any] = {k: dask.delayed(self._fetch_files, name=k)}\n",
    "\n",
    "    def _fetch_files(self) -> str:\n",
    "        # This is where the actual fetching of the files from SX would happen.\n",
    "        # For now, just return a list of files.\n",
    "        logging.warn(\"Returning a file\")\n",
    "        return \"0fc6e51a5ea6dea107c195591d20a1b2-15.26710677._000019.pool.root.1\"\n",
    "\n",
    "    def __getitem__(self, __key) -> Any:\n",
    "        return self._tasks[str(__key)]\n",
    "    \n",
    "    def keys(self):\n",
    "        return self._tasks.keys()\n",
    "    \n",
    "    def __len__(self) -> int:\n",
    "        return len(self._tasks)\n",
    "    \n",
    "    def get_output_keys(self) -> AbstractSet[str]:\n",
    "        return {f\"SX-query-{self._query_guid}\"}\n",
    "\n",
    "    def __iter__(self):\n",
    "        return iter(self._tasks)\n",
    "    \n",
    "    def is_materialized(self) -> bool:\n",
    "        return False"
   ]
  },
  {
   "cell_type": "code",
   "execution_count": 3,
   "metadata": {},
   "outputs": [],
   "source": [
    "l = SXLayer(\"182382781\")\n",
    "hlg = HighLevelGraph(\n",
    "    layers={\"l1\": l},\n",
    "    dependencies={},\n",
    ")"
   ]
  },
  {
   "cell_type": "code",
   "execution_count": 4,
   "metadata": {},
   "outputs": [],
   "source": [
    "r = client.compute(hlg)"
   ]
  },
  {
   "cell_type": "code",
   "execution_count": 5,
   "metadata": {},
   "outputs": [
    {
     "data": {
      "text/plain": [
       "dask.highlevelgraph.HighLevelGraph"
      ]
     },
     "execution_count": 5,
     "metadata": {},
     "output_type": "execute_result"
    }
   ],
   "source": [
    "type(r)\n"
   ]
  },
  {
   "cell_type": "markdown",
   "metadata": {},
   "source": [
    "## The `uproot.dask` way\n",
    "\n",
    "This is a very simple call - here for reference."
   ]
  },
  {
   "cell_type": "code",
   "execution_count": 31,
   "metadata": {},
   "outputs": [],
   "source": [
    "filename = \"0fc6e51a5ea6dea107c195591d20a1b2-15.26710677._000019.pool.root.1\"\n",
    "ar = uproot.dask({filename: \"treeme\"}, open_files=False)"
   ]
  },
  {
   "cell_type": "code",
   "execution_count": 32,
   "metadata": {},
   "outputs": [],
   "source": [
    "pt = ar.JetPt * 5"
   ]
  },
  {
   "cell_type": "markdown",
   "metadata": {},
   "source": [
    "And lets look at the layers/etc. for this for reference."
   ]
  },
  {
   "cell_type": "code",
   "execution_count": 34,
   "metadata": {},
   "outputs": [
    {
     "data": {
      "text/html": [
       "<pre>[[509, 315],\n",
       " [346, 251, 179],\n",
       " [548, 172, 166],\n",
       " [667, 505],\n",
       " [631, 278, 190],\n",
       " [406, 272, 177, 160],\n",
       " [353, 353],\n",
       " [656, 484, 183, 152],\n",
       " [225, 188],\n",
       " [486, 382],\n",
       " ...,\n",
       " [670, 577, 152],\n",
       " [709, 642, 162],\n",
       " [761, 543, 170],\n",
       " [580, 468, 171, 159],\n",
       " [320, 254, 198],\n",
       " [572, 462, 168, 160],\n",
       " [605, 545, 315],\n",
       " [571, 233, 222, 164],\n",
       " [763, 452, 270]]\n",
       "---------------------------\n",
       "type: 50000 * var * float64</pre>"
      ],
      "text/plain": [
       "<Array [[509, 315], [...], ..., [763, 452, 270]] type='50000 * var * float64'>"
      ]
     },
     "execution_count": 34,
     "metadata": {},
     "output_type": "execute_result"
    }
   ],
   "source": [
    "pt.compute()"
   ]
  },
  {
   "cell_type": "code",
   "execution_count": 30,
   "metadata": {},
   "outputs": [
    {
     "data": {
      "text/html": [
       "<div>\n",
       "    <div>\n",
       "        <div style=\"width: 52px; height: 52px; position: absolute;\">\n",
       "            <svg width=\"76\" height=\"71\" viewBox=\"0 0 76 71\" fill=\"none\" xmlns=\"http://www.w3.org/2000/svg\">\n",
       "                <circle cx=\"61.5\" cy=\"36.5\" r=\"13.5\" style=\"stroke: var(--jp-ui-font-color2, #1D1D1D); fill: var(--jp-layout-color1, #F2F2F2);\" stroke-width=\"2\"/>\n",
       "                <circle cx=\"14.5\" cy=\"14.5\" r=\"13.5\" style=\"stroke: var(--jp-ui-font-color2, #1D1D1D); fill: var(--jp-layout-color1, #F2F2F2);\" stroke-width=\"2\"/>\n",
       "                <circle cx=\"14.5\" cy=\"56.5\" r=\"13.5\" style=\"stroke: var(--jp-ui-font-color2, #1D1D1D); fill: var(--jp-layout-color1, #F2F2F2);\" stroke-width=\"2\"/>\n",
       "                <path d=\"M28 16L30.5 16C33.2614 16 35.5 18.2386 35.5 21L35.5 32.0001C35.5 34.7615 37.7386 37.0001 40.5 37.0001L43 37.0001\" style=\"stroke: var(--jp-ui-font-color2, #1D1D1D);\" stroke-width=\"1.5\"/>\n",
       "                <path d=\"M40.5 37L40.5 37.75L40.5 37.75L40.5 37ZM35.5 42L36.25 42L35.5 42ZM35.5 52L34.75 52L35.5 52ZM30.5 57L30.5 57.75L30.5 57ZM41.5001 36.25L40.5 36.25L40.5 37.75L41.5001 37.75L41.5001 36.25ZM34.75 42L34.75 52L36.25 52L36.25 42L34.75 42ZM30.5 56.25L28.0001 56.25L28.0001 57.75L30.5 57.75L30.5 56.25ZM34.75 52C34.75 54.3472 32.8472 56.25 30.5 56.25L30.5 57.75C33.6756 57.75 36.25 55.1756 36.25 52L34.75 52ZM40.5 36.25C37.3244 36.25 34.75 38.8243 34.75 42L36.25 42C36.25 39.6528 38.1528 37.75 40.5 37.75L40.5 36.25Z\" style=\"fill: var(--jp-ui-font-color2, #1D1D1D);\"/>\n",
       "                <circle cx=\"28\" cy=\"16\" r=\"2.25\" fill=\"#E5E5E5\" style=\"stroke: var(--jp-ui-font-color2, #1D1D1D);\" stroke-width=\"1.5\"/>\n",
       "                <circle cx=\"28\" cy=\"57\" r=\"2.25\" fill=\"#E5E5E5\" style=\"stroke: var(--jp-ui-font-color2, #1D1D1D);\" stroke-width=\"1.5\"/>\n",
       "                <path d=\"M45.25 36.567C45.5833 36.7594 45.5833 37.2406 45.25 37.433L42.25 39.1651C41.9167 39.3575 41.5 39.117 41.5 38.7321V35.2679C41.5 34.883 41.9167 34.6425 42.25 34.8349L45.25 36.567Z\" style=\"fill: var(--jp-ui-font-color2, #1D1D1D);\"/>\n",
       "            </svg>\n",
       "        </div>\n",
       "        <div style=\"margin-left: 64px;\">\n",
       "            <h3 style=\"margin-bottom: 0px;\">HighLevelGraph</h3>\n",
       "            <p style=\"color: var(--jp-ui-font-color2, #5D5851); margin-bottom:0px;\">\n",
       "                HighLevelGraph with 3 layers and 6 keys from all layers.\n",
       "            </p>\n",
       "            \n",
       "            <div style=\"\">\n",
       "    <svg width=\"24\" height=\"24\" viewBox=\"0 0 32 32\" fill=\"none\" xmlns=\"http://www.w3.org/2000/svg\" style=\"position: absolute;\">\n",
       "        \n",
       "        <circle cx=\"16\" cy=\"16\" r=\"14\" fill=\"#8F8F8F\" style=\"stroke: var(--jp-ui-font-color2, #1D1D1D);\" stroke-width=\"2\"/>\n",
       "        \n",
       "    </svg>\n",
       "\n",
       "    <details style=\"margin-left: 32px;\">\n",
       "        <summary style=\"margin-bottom: 10px; margin-top: 10px;\">\n",
       "            <h4 style=\"display: inline;\">Layer1: from-uproot</h4>\n",
       "        </summary>\n",
       "        <p style=\"color: var(--jp-ui-font-color2, #5D5851); margin: -0.25em 0px 0px 0px;\">\n",
       "            from-uproot-e52447bb623d6bb74ea637be420b3a92\n",
       "        </p>\n",
       "\n",
       "        <table>\n",
       "        <tr>\n",
       "            <td>\n",
       "                <table>\n",
       "                \n",
       "                    <tr>\n",
       "                        <th style=\"text-align: left; width: 150px;\">layer_type</th>\n",
       "                        <td style=\"text-align: left;\">AwkwardInputLayer</td>\n",
       "                    </tr>\n",
       "                \n",
       "                    <tr>\n",
       "                        <th style=\"text-align: left; width: 150px;\">is_materialized</th>\n",
       "                        <td style=\"text-align: left;\">True</td>\n",
       "                    </tr>\n",
       "                \n",
       "                    <tr>\n",
       "                        <th style=\"text-align: left; width: 150px;\">number of outputs</th>\n",
       "                        <td style=\"text-align: left;\">2</td>\n",
       "                    </tr>\n",
       "                \n",
       "                \n",
       "                </table>\n",
       "            </td>\n",
       "            <td>\n",
       "                \n",
       "            </td>\n",
       "        </tr>\n",
       "        </table>\n",
       "\n",
       "    </details>\n",
       "</div>\n",
       "            \n",
       "            <div style=\"\">\n",
       "    <svg width=\"24\" height=\"24\" viewBox=\"0 0 32 32\" fill=\"none\" xmlns=\"http://www.w3.org/2000/svg\" style=\"position: absolute;\">\n",
       "        \n",
       "        <circle cx=\"16\" cy=\"16\" r=\"14\" style=\"stroke: var(--jp-ui-font-color2, #1D1D1D); fill: var(--jp-layout-color1, #F2F2F2);\" stroke-width=\"2\" />\n",
       "        \n",
       "    </svg>\n",
       "\n",
       "    <details style=\"margin-left: 32px;\">\n",
       "        <summary style=\"margin-bottom: 10px; margin-top: 10px;\">\n",
       "            <h4 style=\"display: inline;\">Layer2: JetPt</h4>\n",
       "        </summary>\n",
       "        <p style=\"color: var(--jp-ui-font-color2, #5D5851); margin: -0.25em 0px 0px 0px;\">\n",
       "            JetPt-db1ead26b17df9bb31ff1f87da0b62e1\n",
       "        </p>\n",
       "\n",
       "        <table>\n",
       "        <tr>\n",
       "            <td>\n",
       "                <table>\n",
       "                \n",
       "                    <tr>\n",
       "                        <th style=\"text-align: left; width: 150px;\">layer_type</th>\n",
       "                        <td style=\"text-align: left;\">AwkwardBlockwiseLayer</td>\n",
       "                    </tr>\n",
       "                \n",
       "                    <tr>\n",
       "                        <th style=\"text-align: left; width: 150px;\">is_materialized</th>\n",
       "                        <td style=\"text-align: left;\">False</td>\n",
       "                    </tr>\n",
       "                \n",
       "                    <tr>\n",
       "                        <th style=\"text-align: left; width: 150px;\">number of outputs</th>\n",
       "                        <td style=\"text-align: left;\">2</td>\n",
       "                    </tr>\n",
       "                \n",
       "                \n",
       "                    \n",
       "                        <tr>\n",
       "                            <th style=\"text-align: left; width: 150px;\"> depends on </th>\n",
       "                            <td style=\"text-align: left;\">from-uproot-e52447bb623d6bb74ea637be420b3a92</td>\n",
       "                        </tr>\n",
       "                    \n",
       "                \n",
       "                </table>\n",
       "            </td>\n",
       "            <td>\n",
       "                \n",
       "            </td>\n",
       "        </tr>\n",
       "        </table>\n",
       "\n",
       "    </details>\n",
       "</div>\n",
       "            \n",
       "            <div style=\"\">\n",
       "    <svg width=\"24\" height=\"24\" viewBox=\"0 0 32 32\" fill=\"none\" xmlns=\"http://www.w3.org/2000/svg\" style=\"position: absolute;\">\n",
       "        \n",
       "        <circle cx=\"16\" cy=\"16\" r=\"14\" style=\"stroke: var(--jp-ui-font-color2, #1D1D1D); fill: var(--jp-layout-color1, #F2F2F2);\" stroke-width=\"2\" />\n",
       "        \n",
       "    </svg>\n",
       "\n",
       "    <details style=\"margin-left: 32px;\">\n",
       "        <summary style=\"margin-bottom: 10px; margin-top: 10px;\">\n",
       "            <h4 style=\"display: inline;\">Layer3: multiply</h4>\n",
       "        </summary>\n",
       "        <p style=\"color: var(--jp-ui-font-color2, #5D5851); margin: -0.25em 0px 0px 0px;\">\n",
       "            multiply-78f1358d2f645d9af93f24ae88dec8fb\n",
       "        </p>\n",
       "\n",
       "        <table>\n",
       "        <tr>\n",
       "            <td>\n",
       "                <table>\n",
       "                \n",
       "                    <tr>\n",
       "                        <th style=\"text-align: left; width: 150px;\">layer_type</th>\n",
       "                        <td style=\"text-align: left;\">AwkwardBlockwiseLayer</td>\n",
       "                    </tr>\n",
       "                \n",
       "                    <tr>\n",
       "                        <th style=\"text-align: left; width: 150px;\">is_materialized</th>\n",
       "                        <td style=\"text-align: left;\">False</td>\n",
       "                    </tr>\n",
       "                \n",
       "                    <tr>\n",
       "                        <th style=\"text-align: left; width: 150px;\">number of outputs</th>\n",
       "                        <td style=\"text-align: left;\">2</td>\n",
       "                    </tr>\n",
       "                \n",
       "                \n",
       "                    \n",
       "                        <tr>\n",
       "                            <th style=\"text-align: left; width: 150px;\"> depends on </th>\n",
       "                            <td style=\"text-align: left;\">JetPt-db1ead26b17df9bb31ff1f87da0b62e1</td>\n",
       "                        </tr>\n",
       "                    \n",
       "                \n",
       "                </table>\n",
       "            </td>\n",
       "            <td>\n",
       "                \n",
       "            </td>\n",
       "        </tr>\n",
       "        </table>\n",
       "\n",
       "    </details>\n",
       "</div>\n",
       "            \n",
       "        </div>\n",
       "    </div>\n",
       "</div>"
      ],
      "text/plain": [
       "HighLevelGraph with 3 layers.\n",
       "<dask.highlevelgraph.HighLevelGraph object at 0x228a09129d0>\n",
       " 0. from-uproot-e52447bb623d6bb74ea637be420b3a92\n",
       " 1. JetPt-db1ead26b17df9bb31ff1f87da0b62e1\n",
       " 2. multiply-78f1358d2f645d9af93f24ae88dec8fb"
      ]
     },
     "execution_count": 30,
     "metadata": {},
     "output_type": "execute_result"
    }
   ],
   "source": [
    "graph = pt.__dask_graph__()\n",
    "graph"
   ]
  },
  {
   "cell_type": "markdown",
   "metadata": {},
   "source": [
    "Lets look at the input layer here"
   ]
  },
  {
   "cell_type": "code",
   "execution_count": 48,
   "metadata": {},
   "outputs": [
    {
     "name": "stdout",
     "output_type": "stream",
     "text": [
      "From uproot key: from-uproot-e52447bb623d6bb74ea637be420b3a92\n",
      "From uproot first output: ('from-uproot-e52447bb623d6bb74ea637be420b3a92', 0)\n",
      "The function that gets executed and the arguments: (subgraph_callable-00b359c2-04df-41ea-a368-1c60e311ce07, ('0fc6e51a5ea6dea107c195591d20a1b2-15.26710677._000019.pool.root.1', 'treeme', 0, 1, False))\n"
     ]
    },
    {
     "name": "stderr",
     "output_type": "stream",
     "text": [
      "2024-02-22 21:55:06,570 - distributed.scheduler - WARNING - Worker failed to heartbeat within 300 seconds. Closing: <WorkerState 'tcp://127.0.0.1:62130', name: 1, status: running, memory: 0, processing: 0>\n",
      "2024-02-22 21:55:06,580 - distributed.scheduler - WARNING - Worker failed to heartbeat within 300 seconds. Closing: <WorkerState 'tcp://127.0.0.1:62136', name: 2, status: running, memory: 0, processing: 0>\n",
      "2024-02-22 21:55:06,586 - distributed.scheduler - WARNING - Received heartbeat from unregistered worker 'tcp://127.0.0.1:62130'.\n",
      "2024-02-22 21:55:06,589 - distributed.scheduler - WARNING - Received heartbeat from unregistered worker 'tcp://127.0.0.1:62136'.\n",
      "2024-02-22 23:31:35,542 - distributed.scheduler - WARNING - Worker failed to heartbeat within 300 seconds. Closing: <WorkerState 'tcp://127.0.0.1:62131', name: 0, status: running, memory: 0, processing: 0>\n",
      "2024-02-22 23:31:35,561 - distributed.scheduler - WARNING - Received heartbeat from unregistered worker 'tcp://127.0.0.1:62131'.\n",
      "2024-02-23 05:31:44,542 - distributed.scheduler - WARNING - Worker failed to heartbeat within 300 seconds. Closing: <WorkerState 'tcp://127.0.0.1:62137', name: 3, status: running, memory: 0, processing: 0>\n",
      "2024-02-23 05:31:44,553 - distributed.scheduler - WARNING - Received heartbeat from unregistered worker 'tcp://127.0.0.1:62137'.\n"
     ]
    }
   ],
   "source": [
    "from_uproot_key = [k for k in graph.layers.keys() if k.startswith(\"from\")][0]\n",
    "print(f\"From uproot key: {from_uproot_key}\")\n",
    "from_uproot_first_output = list(graph.layers[from_uproot_key].keys())[0]\n",
    "print(f\"From uproot first output: {from_uproot_first_output}\")\n",
    "print(f\"The function that gets executed and the arguments: {graph.layers[from_uproot_key][from_uproot_first_output]}\")"
   ]
  },
  {
   "cell_type": "markdown",
   "metadata": {},
   "source": [
    "We want the `('0fc6e51a5ea6dea107c195591d20a1b2-15.26710677._000019.pool.root.1', 'treeme', 0, 1, False)` to be the argument/output from a previous run."
   ]
  },
  {
   "cell_type": "markdown",
   "metadata": {},
   "source": [
    "## Toy Demo\n",
    "\n",
    "Used AI to come up with this (minus a few syntax errors and missing the `Client.get`). This shows how to build everything from scratch."
   ]
  },
  {
   "cell_type": "code",
   "execution_count": 38,
   "metadata": {},
   "outputs": [],
   "source": [
    "from collections.abc import Set\n",
    "import typing\n",
    "\n",
    "\n",
    "class CustomLayer(Layer):\n",
    "    def __init__(self, name, dependencies, tasks):\n",
    "        super().__init__()\n",
    "        self.name = name\n",
    "        self.dependencies = dependencies\n",
    "        self.tasks = tasks\n",
    "\n",
    "    def __getitem__(self, key):\n",
    "        return self.tasks[key]\n",
    "\n",
    "    def __iter__(self):\n",
    "        return iter(self.tasks)\n",
    "\n",
    "    def __len__(self):\n",
    "        return len(self.tasks)\n",
    "\n",
    "    def is_materialized(self):\n",
    "        return False\n",
    "    \n",
    "    def get_output_keys(self) -> AbstractSet[str | bytes | int | float]:\n",
    "        return set(self.tasks.keys())\n",
    "\n",
    "# Define the tasks for each layer\n",
    "tasks1 = {\"output1\": (lambda: \"result1\", ), \"output2\": (lambda: \"result2\", )}\n",
    "tasks2 = {\"output3\": (lambda x: x + \" processed\", \"output1\"), \"output4\": (lambda x: x + \" processed\", \"output2\")}\n",
    "\n",
    "# Create the layers\n",
    "layer1 = CustomLayer(\"layer1\", [], tasks1)\n",
    "layer2 = CustomLayer(\"layer2\", [\"layer1\"], tasks2)\n",
    "\n",
    "# Create the high level graph\n",
    "hlg = HighLevelGraph(\n",
    "    layers={layer1.name: layer1, layer2.name: layer2},\n",
    "    dependencies={layer2.name: {layer1.name}, layer1.name: set()},\n",
    ")"
   ]
  },
  {
   "cell_type": "code",
   "execution_count": 40,
   "metadata": {},
   "outputs": [
    {
     "data": {
      "text/plain": [
       "['result2 processed', 'result1 processed']"
      ]
     },
     "execution_count": 40,
     "metadata": {},
     "output_type": "execute_result"
    }
   ],
   "source": [
    "client.get(hlg, [\"output4\", \"output3\"])"
   ]
  }
 ],
 "metadata": {
  "kernelspec": {
   "display_name": ".venv",
   "language": "python",
   "name": "python3"
  },
  "language_info": {
   "codemirror_mode": {
    "name": "ipython",
    "version": 3
   },
   "file_extension": ".py",
   "mimetype": "text/x-python",
   "name": "python",
   "nbconvert_exporter": "python",
   "pygments_lexer": "ipython3",
   "version": "3.11.2"
  }
 },
 "nbformat": 4,
 "nbformat_minor": 2
}
