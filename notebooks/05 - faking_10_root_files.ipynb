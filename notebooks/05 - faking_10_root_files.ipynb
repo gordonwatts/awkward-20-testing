{
 "cells": [
  {
   "attachments": {},
   "cell_type": "markdown",
   "metadata": {},
   "source": [
    "# Faking 10 ROOT Files\n",
    "\n",
    "1. Always build with 10 files output chunks\n",
    "1. If the actual number is less than 10, then have zero items in some of the chunks\n",
    "1. If more than 10 files, try to combine them with uproot5 and dask or similar.\n",
    "\n",
    "This is just like the previous sample - but now we'll use some simple ROOT files. This is closer to what we will likely have to deal with in ServiceX when we use uproot to deal with this.\n",
    "\n",
    "Will use a single file and just keep re-reading it."
   ]
  },
  {
   "cell_type": "code",
   "execution_count": 1,
   "metadata": {},
   "outputs": [],
   "source": [
    "from pathlib import Path\n",
    "root_file = Path(\"0fc6e51a5ea6dea107c195591d20a1b2-15.26710677._000019.pool.root.1\")"
   ]
  },
  {
   "attachments": {},
   "cell_type": "markdown",
   "metadata": {},
   "source": [
    "Explore the file to make sure we know what we have:"
   ]
  },
  {
   "cell_type": "code",
   "execution_count": 2,
   "metadata": {},
   "outputs": [
    {
     "name": "stdout",
     "output_type": "stream",
     "text": [
      "[[102, 63.1], [69.3, 50.2, 35.7], ..., [114, 46.6, ..., 32.9], [153, 90.5, 54]]\n",
      "Length  = 50000\n",
      "135013\n"
     ]
    }
   ],
   "source": [
    "import uproot\n",
    "import awkward as ak\n",
    "with uproot.open(root_file) as f:\n",
    "    a = f['treeme']['JetPt'].array(library='ak')\n",
    "    print(a)\n",
    "    print(f'Length  = {len(a)}')\n",
    "    single_file_jet_count = len(ak.flatten(a))\n",
    "    print(single_file_jet_count)"
   ]
  },
  {
   "attachments": {},
   "cell_type": "markdown",
   "metadata": {},
   "source": [
    "Make sure we know how to use `uproot.dask` properly:"
   ]
  },
  {
   "cell_type": "code",
   "execution_count": 3,
   "metadata": {},
   "outputs": [
    {
     "name": "stdout",
     "output_type": "stream",
     "text": [
      "493950.0\n"
     ]
    },
    {
     "data": {
      "image/png": "[encoded data removed]",
      "text/plain": [
       "<Figure size 640x480 with 1 Axes>"
      ]
     },
     "metadata": {},
     "output_type": "display_data"
    }
   ],
   "source": [
    "f_repeat = 5\n",
    "\n",
    "file_list = [root_file for _ in range(0, f_repeat)]\n",
    "files = uproot.dask(file_list)\n",
    "pt = files['JetPt']\n",
    "\n",
    "import dask_histogram as dh\n",
    "import mplhep as hep\n",
    "import dask_awkward as dak\n",
    "\n",
    "h = dh.factory(dak.flatten(pt), axes=(dh.axis.Regular(40, 0, 100),))\n",
    "r = h.compute()\n",
    "hep.histplot(r)\n",
    "print(r.sum())"
   ]
  },
  {
   "attachments": {},
   "cell_type": "markdown",
   "metadata": {},
   "source": [
    "## Faker\n",
    "\n",
    "Initialize with the proper number of files we'll eventually generate."
   ]
  },
  {
   "cell_type": "code",
   "execution_count": 4,
   "metadata": {},
   "outputs": [],
   "source": [
    "from typing import List\n",
    "import awkward as ak\n",
    "import dask_awkward as dak\n",
    "import dask\n",
    "\n",
    "def make_input_layer(name: str, inputs: List[str], npartitions=10):\n",
    "    '''Create an AwkwardInput layer with `inputs` chunks. Each chunk\n",
    "    has some random numbers in it (100 of them). This will always generate\n",
    "    10 partitions. If `len(inputs)` is less than 10, then some of the partitions\n",
    "    will be empty. If `len(inputs)` is greater than 10, then we will\n",
    "    combine some of them.\n",
    "\n",
    "    Args:\n",
    "        name (str): Name of the input layer (for the graph)\n",
    "        inputs (List[str]): Names of each partition\n",
    "\n",
    "    Returns:\n",
    "        AwkwardInputLayer: Input Layer\n",
    "    '''\n",
    "    def generate_data(block):\n",
    "        '''Generate the data for a particular partition. We have the job of\n",
    "        figuring out how many files per partition.\n",
    "\n",
    "        Args:\n",
    "            block (int): The block number\n",
    "        '''\n",
    "        files = []\n",
    "        if len(inputs) <= npartitions:\n",
    "            if block < len(inputs):\n",
    "                files = [generate_partition_data(inputs[block])]\n",
    "            else:\n",
    "                return ak.from_iter([])\n",
    "        else:\n",
    "            num_per = int(len(inputs) / npartitions)\n",
    "            if block < (len(inputs) - num_per*npartitions):\n",
    "                num_per += 1\n",
    "            \n",
    "            # The indexing has a bug - will come back to this eventually\n",
    "            # Not important for now.\n",
    "            block_index = num_per * block\n",
    "            files = [generate_partition_data(inputs[block_index + i]) for i in range(0, num_per)]\n",
    "\n",
    "        # files = uproot.dask(file_list)\n",
    "        # pt = files['JetPt']\n",
    "        all_pt = [uproot.open(f_name)['treeme']['JetPt'].array(library='ak') for f_name in files]\n",
    "        pt = ak.concatenate(all_pt)\n",
    "        return pt\n",
    "\n",
    "    def generate_partition_data(block):\n",
    "        '''Generate the partition data for a single block.\n",
    "\n",
    "        Args:\n",
    "            block (_type_): _description_\n",
    "\n",
    "        Returns:\n",
    "            _type_: _description_\n",
    "        '''\n",
    "        print(f'In generate_data: {block}')\n",
    "        return root_file\n",
    "\n",
    "    # Build the metadata for this array we will be returning. Each partition\n",
    "    # will be of this form.\n",
    "    sample_array = ak.from_iter([[1.0, 2.1], [3.2], [], [4.3, 5.4]])\n",
    "    metadata = dak.core.typetracer_array(sample_array)\n",
    "\n",
    "    # Next, create the input layer that will be used to generate the data.\n",
    "    # Always setup 10 partitions\n",
    "    dsk = dak.layers.AwkwardInputLayer(\n",
    "            name=name,\n",
    "            columns=None,\n",
    "            inputs=list(range(0, npartitions)),\n",
    "            io_func=generate_data,\n",
    "            meta=metadata,\n",
    "            behavior=None,\n",
    "        )\n",
    "\n",
    "    return dsk\n",
    "\n",
    "def generate_sx_daq(query: str, inputs: List[str] = ['0', '1'], n_partitions = 10) -> dak.Array:\n",
    "    name = 'unique-name'\n",
    "    input_layer = make_input_layer(name, inputs, npartitions=n_partitions)\n",
    "\n",
    "    # Create the high level graph that will hold all of this, and the actual array object\n",
    "    hlg = dask.highlevelgraph.HighLevelGraph.from_collections(name, input_layer)\n",
    "    ar = dak.core.new_array_object(hlg, name, meta=input_layer._meta, npartitions=n_partitions)\n",
    "\n",
    "    return ar"
   ]
  },
  {
   "attachments": {},
   "cell_type": "markdown",
   "metadata": {},
   "source": [
    "## Make a histogram with exactly 10 partitions\n",
    "\n",
    "This is the easy case!"
   ]
  },
  {
   "cell_type": "code",
   "execution_count": 5,
   "metadata": {},
   "outputs": [
    {
     "name": "stdout",
     "output_type": "stream",
     "text": [
      "In generate_data: b_0In generate_data: b_1\n",
      "In generate_data: b_2\n",
      "In generate_data: b_3\n",
      "\n",
      "In generate_data: b_4\n",
      "In generate_data: b_5\n",
      "In generate_data: b_6\n",
      "In generate_data: b_7\n",
      "In generate_data: b_8\n",
      "In generate_data: b_9\n"
     ]
    },
    {
     "data": {
      "image/png": "[encoded data removed]",
      "text/plain": [
       "<Figure size 640x480 with 1 Axes>"
      ]
     },
     "metadata": {},
     "output_type": "display_data"
    }
   ],
   "source": [
    "import dask_histogram as dh\n",
    "import mplhep as hep\n",
    "\n",
    "x = generate_sx_daq(\"(query)\", inputs=[f'b_{i}' for i in range(0, 10)])\n",
    "h = dh.factory(dak.flatten(x), axes=(dh.axis.Regular(40, 0, 1000),))\n",
    "r = h.compute()\n",
    "hep.histplot(r)\n",
    "\n",
    "assert r.sum() == single_file_jet_count*10"
   ]
  },
  {
   "attachments": {},
   "cell_type": "markdown",
   "metadata": {},
   "source": [
    "## Make a histogram with 5 partitions\n",
    "\n",
    "So 5 of them should be empty."
   ]
  },
  {
   "cell_type": "code",
   "execution_count": 6,
   "metadata": {},
   "outputs": [
    {
     "name": "stdout",
     "output_type": "stream",
     "text": [
      "In generate_data: b_0\n",
      "In generate_data: b_1\n",
      "In generate_data: b_2\n",
      "In generate_data: b_3\n",
      "In generate_data: b_4\n"
     ]
    }
   ],
   "source": [
    "import dask_histogram as dh\n",
    "import mplhep as hep\n",
    "\n",
    "x = generate_sx_daq(\"(query)\", inputs=[f'b_{i}' for i in range(0, 5)])\n",
    "h = dh.factory(dak.flatten(x), axes=(dh.axis.Regular(20, 0, 1000),))\n",
    "r = h.compute()\n",
    "#_ = hep.histplot(r)\n",
    "\n",
    "assert r.sum() == single_file_jet_count*5"
   ]
  },
  {
   "cell_type": "markdown",
   "metadata": {},
   "source": [
    "## Make a histogram with 15 partitions\n",
    "\n",
    "This means that some them should have more than one partition in them."
   ]
  },
  {
   "cell_type": "code",
   "execution_count": 7,
   "metadata": {},
   "outputs": [
    {
     "name": "stdout",
     "output_type": "stream",
     "text": [
      "In generate_data: b_0\n",
      "In generate_data: b_1\n",
      "In generate_data: b_2\n",
      "In generate_data: b_3\n",
      "In generate_data: b_4\n",
      "In generate_data: b_5\n",
      "In generate_data: b_6\n",
      "In generate_data: b_7\n",
      "In generate_data: b_8\n",
      "In generate_data: b_9\n",
      "In generate_data: b_5\n",
      "In generate_data: b_6\n",
      "In generate_data: b_7\n",
      "In generate_data: b_8\n",
      "In generate_data: b_9\n"
     ]
    }
   ],
   "source": [
    "import dask_histogram as dh\n",
    "import mplhep as hep\n",
    "\n",
    "x = generate_sx_daq(\"(query)\", inputs=[f'b_{i}' for i in range(0, 15)])\n",
    "h = dh.factory(dak.flatten(x), axes=(dh.axis.Regular(20, 0, 1000),))\n",
    "r = h.compute()\n",
    "\n",
    "assert r.sum() == single_file_jet_count*15"
   ]
  }
 ],
 "metadata": {
  "kernelspec": {
   "display_name": ".venv",
   "language": "python",
   "name": "python3"
  },
  "language_info": {
   "codemirror_mode": {
    "name": "ipython",
    "version": 3
   },
   "file_extension": ".py",
   "mimetype": "text/x-python",
   "name": "python",
   "nbconvert_exporter": "python",
   "pygments_lexer": "ipython3",
   "version": "3.11.0"
  },
  "orig_nbformat": 4
 },
 "nbformat": 4,
 "nbformat_minor": 2
}
